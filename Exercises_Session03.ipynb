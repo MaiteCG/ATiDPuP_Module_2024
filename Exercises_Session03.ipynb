{
 "cells": [
  {
   "cell_type": "markdown",
   "metadata": {},
   "source": [
    "# <b>CaRM Module: Advanced Topics in Data Preparation Using Python (2024/2025)</b>\n",
    "## <b>Exercises for Session 03</b>"
   ]
  },
  {
   "cell_type": "markdown",
   "metadata": {},
   "source": [
    "### Exercise 1: Handling Missing Values\n",
    "\n",
    "1.\tCreate a DataFrame with missing values.<br> \n",
    "2.\tDisplay the DataFrame and count the number of missing values in each column.<br>\n",
    "3.\tFill the missing values in the 'Age' column with the mean age.<br>\n",
    "4.\tDrop rows where the 'Score' column has missing values.<br>\n"
   ]
  },
  {
   "cell_type": "code",
   "execution_count": null,
   "metadata": {},
   "outputs": [],
   "source": [
    "import pandas as pd\n",
    "import numpy as np\n",
    "\n",
    "data = {\n",
    "    'Name': ['Alice', 'Bob', 'Charlie', 'David', 'Eva'],\n",
    "    'Age': [24, np.nan, 22, np.nan, 29],\n",
    "    'Score': [85, 90, np.nan, 88, 92]\n",
    "}"
   ]
  },
  {
   "cell_type": "markdown",
   "metadata": {},
   "source": [
    "### Exercise 2: Dropping Duplicates\n",
    "\n",
    "1.\tCreate a DataFrame with duplicate rows.<br>\n",
    "2.\tDisplay the DataFrame and identify duplicate rows using the .duplicated() method.<br>\n",
    "3.\tDrop duplicate rows and display the DataFrame after dropping duplicates.<br>"
   ]
  },
  {
   "cell_type": "code",
   "execution_count": null,
   "metadata": {},
   "outputs": [],
   "source": [
    "import pandas as pd\n",
    "\n",
    "data = {\n",
    "    'Name': ['Alice', 'Bob', 'Charlie', 'Alice', 'Eva', 'Bob'],\n",
    "    'Age': [24, 27, 22, 24, 29, 27],\n",
    "    'Score': [85, 90, 78, 85, 92, 90]\n",
    "}"
   ]
  },
  {
   "cell_type": "markdown",
   "metadata": {},
   "source": [
    "### Exercise 3: Filling Missing Values\n",
    "\n",
    "1.\tCreate a DataFrame with missing values.<br>\n",
    "2.\tUse the .fillna() method to fill missing values in the 'Score' column with a specified value (e.g., 0).<br>\n",
    "3.\tUse the .fillna() method to fill missing values in the 'Age' column with the median age.<br>"
   ]
  },
  {
   "cell_type": "code",
   "execution_count": null,
   "metadata": {},
   "outputs": [],
   "source": [
    "import pandas as pd\n",
    "\n",
    "data = {\n",
    "    'Name': ['Alice', 'Bob', 'Charlie', 'David', 'Eva'],\n",
    "    'Age': [24, np.nan, 22, 32, 29],\n",
    "    'Score': [85, 90, np.nan, 88, 92]\n",
    "}\n"
   ]
  },
  {
   "cell_type": "markdown",
   "metadata": {},
   "source": [
    "### Exercise 4: Replacing Values\n",
    "\n",
    "1.\tCreate a DataFrame with some invalid values.<br>\n",
    "2.\tReplace the invalid age (-1) with the mean age.<br>\n",
    "3.\tUse the .fillna() method to replace missing values in the 'Score' column with the mean score.<br>"
   ]
  },
  {
   "cell_type": "code",
   "execution_count": null,
   "metadata": {},
   "outputs": [],
   "source": [
    "import pandas as pd\n",
    "\n",
    "data = {\n",
    "    'Name': ['Alice', 'Bob', 'Charlie', 'David', 'Eva'],\n",
    "    'Age': [24, -1, 22, 32, 29],\n",
    "    'Score': [85, 90, 78, np.nan, 92]\n",
    "}"
   ]
  },
  {
   "cell_type": "markdown",
   "metadata": {},
   "source": [
    "### Exercise 5: Using concat() to Combine DataFrames Along Rows\n",
    "\n",
    "1.\tCreate two DataFrames.<br>\n",
    "2.\tUse the concat() method to combine the DataFrames along rows."
   ]
  },
  {
   "cell_type": "code",
   "execution_count": null,
   "metadata": {},
   "outputs": [],
   "source": [
    "import pandas as pd\n",
    "\n",
    "data1 = {\n",
    "    'A': ['A0', 'A1', 'A2', 'A3'],\n",
    "    'B': ['B0', 'B1', 'B2', 'B3']\n",
    "}\n",
    "\n",
    "data2 = {\n",
    "    'A': ['A4', 'A5', 'A6', 'A7'],\n",
    "    'B': ['B4', 'B5', 'B6', 'B7']\n",
    "}"
   ]
  },
  {
   "cell_type": "markdown",
   "metadata": {},
   "source": [
    "### Exercise 6: Using concat() to Combine DataFrames Along Columns\n",
    "\n",
    "1.\tCreate two DataFrames.<br>\n",
    "2.\tUse the concat() method to combine the DataFrames along columns."
   ]
  },
  {
   "cell_type": "code",
   "execution_count": null,
   "metadata": {},
   "outputs": [],
   "source": [
    "import pandas as pd\n",
    "\n",
    "data1 = {\n",
    "    'A': ['A0', 'A1', 'A2', 'A3'],\n",
    "    'B': ['B0', 'B1', 'B2', 'B3']\n",
    "}\n",
    "\n",
    "data2 = {\n",
    "    'C': ['C0', 'C1', 'C2', 'C3'],\n",
    "    'D': ['D0', 'D1', 'D2', 'D3']\n",
    "}"
   ]
  },
  {
   "cell_type": "markdown",
   "metadata": {},
   "source": [
    "### Exercise 7: Using .join() to Combine DataFrames\n",
    "\n",
    "1.\tCreate two DataFrames with a common index.<br>\n",
    "2.\tUse the .join() method to combine the DataFrames based on the index."
   ]
  },
  {
   "cell_type": "code",
   "execution_count": null,
   "metadata": {},
   "outputs": [],
   "source": [
    "import pandas as pd\n",
    "\n",
    "df1 = pd.DataFrame({\n",
    "    'A': ['A0', 'A1', 'A2', 'A3'],\n",
    "    'B': ['B0', 'B1', 'B2', 'B3']\n",
    "}, index=['K0', 'K1', 'K2', 'K3'])\n",
    "\n",
    "df2 = pd.DataFrame({\n",
    "    'C': ['C0', 'C1', 'C2', 'C3'],\n",
    "    'D': ['D0', 'D1', 'D2', 'D3']\n",
    "}, index=['K0', 'K1', 'K2', 'K3'])"
   ]
  },
  {
   "cell_type": "markdown",
   "metadata": {},
   "source": [
    "### Exercise 8: Using merge() to Combine DataFrames on a Common Column\n",
    "\n",
    "1.\tCreate two DataFrames with a common column.<br>\n",
    "2.\tUse the merge() method to combine the DataFrames on the 'Key' column."
   ]
  },
  {
   "cell_type": "code",
   "execution_count": null,
   "metadata": {},
   "outputs": [
    {
     "name": "stdout",
     "output_type": "stream",
     "text": [
      "  Key   A   B\n",
      "0  K0  A0  B0\n",
      "1  K1  A1  B1\n",
      "2  K2  A2  B2\n",
      "3  K3  A3  B3\n"
     ]
    }
   ],
   "source": [
    "import pandas as pd\n",
    "\n",
    "data1 = {\n",
    "    'Key': ['K0', 'K1', 'K2', 'K3'],\n",
    "    'A': ['A0', 'A1', 'A2', 'A3'],\n",
    "    'B': ['B0', 'B1', 'B2', 'B3']\n",
    "}\n",
    "\n",
    "data2 = {\n",
    "    'Key': ['K0', 'K1', 'K2', 'K3'],\n",
    "    'C': ['C0', 'C1', 'C2', 'C3'],\n",
    "    'D': ['D0', 'D1', 'D2', 'D3']\n",
    "}"
   ]
  },
  {
   "cell_type": "markdown",
   "metadata": {},
   "source": [
    "### Exercise 9: Merging DataFrames with Different Keys\n",
    "\n",
    "1.\tCreate two DataFrames with different keys.<br>\n",
    "2.\tUse the merge() method to join the dataframes based on the common keys."
   ]
  },
  {
   "cell_type": "code",
   "execution_count": null,
   "metadata": {},
   "outputs": [],
   "source": [
    "data1 = {\n",
    "    'Key': ['K0', 'K1', 'K2', 'K3'],\n",
    "    'A': ['A0', 'A1', 'A2', 'A3'],\n",
    "    'B': ['B0', 'B1', 'B2', 'B3']\n",
    "}\n",
    "\n",
    "data2 ={\n",
    "    'Key': ['K0', 'K1', 'K3', 'K4'],\n",
    "    'C': ['C0', 'C1', 'C2', 'C3'],\n",
    "    'D': ['D0', 'D1', 'D2', 'D3']\n",
    "}"
   ]
  }
 ],
 "metadata": {
  "kernelspec": {
   "display_name": "Python 3",
   "language": "python",
   "name": "python3"
  },
  "language_info": {
   "codemirror_mode": {
    "name": "ipython",
    "version": 3
   },
   "file_extension": ".py",
   "mimetype": "text/x-python",
   "name": "python",
   "nbconvert_exporter": "python",
   "pygments_lexer": "ipython3",
   "version": "3.12.4"
  }
 },
 "nbformat": 4,
 "nbformat_minor": 2
}
