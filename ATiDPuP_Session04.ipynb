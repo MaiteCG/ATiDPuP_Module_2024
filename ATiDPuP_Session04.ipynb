{
 "cells": [
  {
   "cell_type": "markdown",
   "metadata": {},
   "source": [
    "# <b>CaRM Module: Advanced Topics in Data Preparation Using Python (2024/2025)</b>\n",
    "## <b>Session 4: Processing multiple files and large amount of data. </b>\n",
    "\n",
    "### <b>Loops</b>"
   ]
  },
  {
   "cell_type": "markdown",
   "metadata": {},
   "source": [
    "At this point in your Python journey, you are probably familiar with two types of loops in Python: the <b>for</b> loop and the <b>while</b> loop. For loops are used to iterate over a sequence of elements contained in a data structructure (commonly a list or an iterator, but also a tuple, a dictionary, a set, a string, etc.). While loops, instead, are used to repeat a segment of code, as long as a certain condition is met.\n",
    "\n",
    "Loops are very useful strategies when you need to process several data files. They allow you to apply the same processing steps over multiple files, reusing the same lines of code. They are easily applicable when you have named your files in a systematic way. For example, if your file names contain information about the subject ID and a particular experimental condition (or any other variable like treatment, group, type of measurement, date, etc), you can iterate over a list of subjects IDs (outer loop), and then over a list of experimental conditions (nested or inner loop). This will allow you to dynamically change the name of the data file you are going to process with the lines of code inside the loops. The possibilities are endless, as you can have as many nested loops as you want, so you can iterate over several parameters."
   ]
  },
  {
   "cell_type": "markdown",
   "metadata": {},
   "source": [
    "#### <b>4.1. Iterating over datasets using nested for/while loops</b>"
   ]
  },
  {
   "cell_type": "markdown",
   "metadata": {},
   "source": [
    "This is an example of how you would apply a <b>for loop</b> for iterating over subject IDs and conditions."
   ]
  },
  {
   "cell_type": "code",
   "execution_count": null,
   "metadata": {},
   "outputs": [],
   "source": [
    "subjects = [1, 2] \n",
    "conditions = ['a', 'b']\n",
    "# these above are lists, but you could use a sets instead, to ensure you dont have repeated values.\n",
    "# e.g., subjects = {1,2} or subjects = set([1,2])\n",
    "# if you get confused and repeat the number of a subject, by making it a set you remove the repetition.\n",
    "# subjects = {1,2,2,3} \n",
    "# print(subjects)\n",
    "\n",
    "for i in subjects:\n",
    "    for j in conditions: # this is a nested loop\n",
    "        # do something: \n",
    "        # e.g., load the file of this participant in this condition and process it\n",
    "        print(f'Processing subject {i} in condition {j}')"
   ]
  },
  {
   "cell_type": "markdown",
   "metadata": {},
   "source": [
    "An alternative way is to use the <b>range()</b> function to loop over the positions of the elements contained in a list or other data structures. The expression range(n) creates a sequence of numbers, starting from 0 by default, and increments by 1, until reaching n-1. If n is the length of a list, this means that you will have a sequence of positions for all the elements of the list. The main difference with the previous example is that, in this case, the variables i and j do not hold the values of the elements of the list, but the values of the positions. So, to obtain the current value of the element of the list, you need to access the list with the current position (e.g., current_element = myList[current_position])."
   ]
  },
  {
   "cell_type": "code",
   "execution_count": null,
   "metadata": {},
   "outputs": [],
   "source": [
    "subjects = [1, 2] \n",
    "conditions = ['a', 'b']\n",
    "\n",
    "for i in range(len(subjects)):\n",
    "    for j in range(len(conditions)):\n",
    "        print(f'Processing subject {subjects[i]} in condition {conditions[j]}')"
   ]
  },
  {
   "cell_type": "markdown",
   "metadata": {},
   "source": [
    "You can obtain a similar result using a <b>while loop</b> when needing to process data over different subject IDs and conditions. Note that, here, you have to explicitly update the value of the variable (current ID, current condition) by adding 1 at the end of the loop."
   ]
  },
  {
   "cell_type": "code",
   "execution_count": null,
   "metadata": {},
   "outputs": [],
   "source": [
    "subjects = [1, 2]\n",
    "conditions = ['a', 'b']\n",
    "\n",
    "i = 0\n",
    "while i < len(subjects):\n",
    "    j = 0    \n",
    "    while j < len(conditions): # this is a nested loop\n",
    "        # do something: \n",
    "        # e.g., load the file of this participant in this condition and process it\n",
    "        print(f'Processing subject {subjects[i]} in condition {conditions[j]}')\n",
    "        j = j + 1 # this happens inside the second loop \n",
    "    i = i + 1 # this happens outside the second loop, but inside of the first one"
   ]
  },
  {
   "cell_type": "markdown",
   "metadata": {},
   "source": [
    "In the examples above, all subjects participanted in the same experimental conditions. However, there is another scenario: sometimes, different subjects take part in different experimental conditions (e.g., received a different treatment, or belonged to a different group) and may even have different number of data files to process. In this case, it may be more practical to store the variables in a dictionary. Dictionaries allow you to associate a key (e.g., a subject ID) to a value (e.g., a particular treatment, a list of files, etc). So, you can use a <b>for loop to iterate over the key-value pairs in a dictionary</b>, as you will see in the example below. "
   ]
  },
  {
   "cell_type": "code",
   "execution_count": null,
   "metadata": {},
   "outputs": [],
   "source": [
    "myDict = dict({'sub-01': 'treatment 1', 'sub-02': 'treatment 2', 'sub-03': 'treatment 2'})\n",
    "\n",
    "# create dictionary dynamically using the zip() function\n",
    "'''subjects = ['sub-01', 'sub-02', 'sub-03']\n",
    "treatments = ['treatment 1', 'treatment 2', 'treatment 2']\n",
    "\n",
    "print(type(zip(subjects, treatments)))\n",
    "\n",
    "# creating a dictionary by zipping keys and values together\n",
    "myDict = dict(zip(subjects, treatments))\n",
    "print(myDict)'''\n",
    "\n",
    "for i in myDict:\n",
    "    print(f'Processing {i} in {myDict[i]}')\n",
    "    #print(\"Processing %s in %s alternative\" % (i, myDict[i])) # alternative way of printing the values of variables into text"
   ]
  },
  {
   "cell_type": "markdown",
   "metadata": {},
   "source": [
    "I have included alternative ways to perform some parts of the code above. The first commented lines of code show you how you a <b>practical way to create a dictionary from two lists of variables</b>. One list contains the keys, and the other list contains the values. Then, you can use the <b>zip function</b> to encode those separated lists into a zip object, which is iterator of tuples where each element of the first list is paired together with the correspoding element of the second list (e.g., (key1, value1)). Then, you can easily convert the zip object into a dictionary by using the dict() function.\n",
    "\n",
    "You may have noticed that, inside the loop, there is a line printing some text which contains the subject ID and the treatment, both dynamically changing on each iteration. Curiously, there is a letter f before the text string. This is an <b>f-string</b> (formatted string literal) which is a nice recent feature of Python that simplifies string formatting and interpolation. f-strings provide a concise and intuitive way to embed expressions and variables directly into strings. To format values inside an f-string, you should add placeholders as curly braces {}. A placeholder can contain variables (like in the example) but also functions and operations.\n",
    "\n",
    "The last commented line of the code snippet above, shows you an alternative way to print variables into a text string. This is known as the <b>printf-style formatting</b> which was used in older versions of Python, and is still available. People with experience in C or Matlab programming may find this formatting style more familiar. Note that the variables in parenthesis will be inserted in the %s positions (% is called the modulo operator). You can use %d for inserting integers, and %f for floats. If you are interested in this method, read more at https://www.geeksforgeeks.org/python-output-formatting/\n"
   ]
  },
  {
   "cell_type": "markdown",
   "metadata": {},
   "source": [
    "------------------------------------------------------------------"
   ]
  },
  {
   "cell_type": "markdown",
   "metadata": {},
   "source": [
    "#### <b>Code I used to prepare the files for this session (in case you are curious):</b>"
   ]
  },
  {
   "cell_type": "markdown",
   "metadata": {},
   "source": [
    "First, I created the project folder in the current directory:"
   ]
  },
  {
   "cell_type": "code",
   "execution_count": null,
   "metadata": {},
   "outputs": [],
   "source": [
    "import os\n",
    "\n",
    "cwd = os.getcwd()\n",
    "projectdir = os.path.join(cwd,'Mission_Project_AdvPy2425')\n",
    "\n",
    "if not os.path.exists(projectdir):\n",
    "    os.makedirs(projectdir)"
   ]
  },
  {
   "cell_type": "markdown",
   "metadata": {},
   "source": [
    "Then, I created the subfolders following a hierarchical structure, and saved the data as .txt:"
   ]
  },
  {
   "cell_type": "code",
   "execution_count": null,
   "metadata": {},
   "outputs": [],
   "source": [
    "import os\n",
    "import pandas as pd\n",
    "\n",
    "projectname = 'Mission_Project_AdvPy2425'\n",
    "\n",
    "cwd = os.getcwd()\n",
    "projectdir = os.path.join(cwd, projectname)\n",
    "\n",
    "df = pd.read_csv('mission1_data.csv')\n",
    "\n",
    "species = df.species.unique()\n",
    "sex = df.sex.unique()\n",
    "\n",
    "for i in species:\n",
    "    # create the species folder\n",
    "    speciesdir = os.path.join(projectdir, i)\n",
    "    if not os.path.exists(speciesdir):\n",
    "        os.makedirs(speciesdir)\n",
    "\n",
    "    for j in sex:\n",
    "        # filter the dataframe\n",
    "        df_filtered = df.query('species == @i and sex == @j')\n",
    "\n",
    "        # if there is data, then \n",
    "        if df_filtered.shape[0] > 0:\n",
    "            # create the sex folder\n",
    "            sexdir = os.path.join(speciesdir, j)\n",
    "            if not os.path.exists(sexdir):\n",
    "                os.makedirs(sexdir)            \n",
    "\n",
    "            filename = os.path.join(sexdir, 'mission_data.txt')\n",
    "            #df_filtered.to_csv(filename, sep=' ', mode='w')\n",
    "\n",
    "            for k in range(df_filtered.shape[0]):\n",
    "                jsonfilename = os.path.join(sexdir, f'creature-{df_filtered.index[k]}.json')\n",
    "                df_filtered.iloc[k,:].to_json(jsonfilename) #, orient=\"columns\", index=0"
   ]
  },
  {
   "cell_type": "code",
   "execution_count": 4,
   "metadata": {},
   "outputs": [
    {
     "name": "stdout",
     "output_type": "stream",
     "text": [
      "(327, 8)\n"
     ]
    }
   ],
   "source": [
    "import os\n",
    "import pandas as pd\n",
    "\n",
    "projectname = 'Mission_Project_AdvPy2425'\n",
    "\n",
    "cwd = os.getcwd()\n",
    "projectdir = os.path.join(cwd, projectname)\n",
    "\n",
    "dflist = []\n",
    "for i in [1,2,3]:\n",
    "    df = pd.read_csv(f'mission3_data{i}.csv')\n",
    "    dflist.append(df)\n",
    "\n",
    "df2 = pd.concat(dflist)\n",
    "print(df2.shape)\n",
    "#print(df2)\n",
    "df2.to_csv(os.path.join(projectdir,'mission3_data.txt'), sep=' ')"
   ]
  },
  {
   "cell_type": "markdown",
   "metadata": {},
   "source": [
    "In the code above and most of the examples, I will be using the <b>os</b> package to handle directory names and related operations as making a new directory. There is at least another package called <b>pathlib</b> that works in the most recent versions of Python, and can perform similar operations and more. I am showing you below a short example on how to use pathlib to create a directory. For more information about how to use the package, you can start here: https://www.geeksforgeeks.org/pathlib-module-in-python/. Also see the official documentation for more details: https://docs.python.org/3/library/pathlib.html. "
   ]
  },
  {
   "cell_type": "code",
   "execution_count": null,
   "metadata": {},
   "outputs": [],
   "source": [
    "from pathlib import Path\n",
    "\n",
    "cwd = Path.cwd()\n",
    "# alternative:\n",
    "#cwd = Path().absolute()\n",
    "\n",
    "newdir = Path.joinpath(cwd,'newdir_with_pathlib')\n",
    "\n",
    "Path(newdir).mkdir(parents=True, exist_ok=True)"
   ]
  },
  {
   "cell_type": "markdown",
   "metadata": {},
   "source": [
    "-----------------------------------------------------"
   ]
  },
  {
   "cell_type": "markdown",
   "metadata": {},
   "source": [
    "#### <b>4.2. Loop over 'real' mission data files</b>"
   ]
  },
  {
   "cell_type": "markdown",
   "metadata": {},
   "source": [
    "To have a more concrete example of the use of loops for processing multiple data files, I have created a <b>Mission_Project_AdvPy2425</b> folder containing different subfolders and data files in different formats. Inside the project folder, you will find a <b>first level of subfolders with the names of species</b> for all the creatures found in the mission1_data.csv file. Inside each species subfolder, you will find a <b>second level of subfolders named after the possible sexes</b> for each particular species. Inside each sex folder you will find a <b>mission_data.txt</b> file. This file contains formatted information regarding all the creatures that belong to that species and sex combination. In the code below, I show you how we can use two for loops (one nested inside the other) to load each text file from all of the subfolders. In each iteration, the data is is converted to a dataframe and appended to a list of dataframes. When both of the loops are finished, and all the data has been loaded, we concatenate the list of dataframes into a single dataframe. This reconstructed dataframe is equivalent to the dataframe we obtained when loading de original mission1_data.csv file. Note that, after concatenating the dataframes, we have to sort the rows according to the indexes (row labels), to have the same order of rows as we had in the original csv file.<br>\n",
    "You could insert lines of code for preprocessing the data right after each dataset is loaded. However, very often it is more efficient (i.e., less time consuming) to apply some preprocessing steps after all the data has been concatenated into a single dataframe (e.g., you could now apply a function to a column in one go, instead of doing it row by row).<br>"
   ]
  },
  {
   "cell_type": "code",
   "execution_count": null,
   "metadata": {},
   "outputs": [],
   "source": [
    "import os\n",
    "import pandas as pd\n",
    "\n",
    "projectname = 'Mission_Project_AdvPy2425'\n",
    "\n",
    "cwd = os.getcwd()\n",
    "projectdir = os.path.join(cwd, projectname)\n",
    "\n",
    "df = pd.read_csv('mission1_data.csv')\n",
    "\n",
    "species = df.species.unique() \n",
    "sex = df.sex.unique()\n",
    "\n",
    "dflist = []\n",
    "\n",
    "for i in species:\n",
    "    # species dir\n",
    "    speciesdir = os.path.join(projectdir, i)\n",
    "\n",
    "    for j in sex:\n",
    "        # sex dir\n",
    "        sexdir = os.path.join(speciesdir, j)\n",
    "\n",
    "        # if the sex directory exists, then \n",
    "        if os.path.exists(sexdir):\n",
    "            # read the text file with the mission data\n",
    "            filename = os.path.join(sexdir, 'mission_data.txt')\n",
    "            df2 = pd.read_csv(filename, sep=' ', index_col=0)\n",
    "            # Note: you could implement some preprocessing steps here\n",
    "            dflist.append(df2)\n",
    "            #print(f'There are {df2.shape[0]} {j} {i} creatures.')     \n",
    "\n",
    "df3 = pd.concat(dflist)\n",
    "df3.sort_index(inplace=True)\n",
    "# Note2: you could implement other preprocessing steps here\n",
    "print(df3.shape)\n",
    "print('This is the reconstructed dataframe, obtained from concatenating all the data from .txt files.')\n",
    "print(df3.head(10))     "
   ]
  },
  {
   "cell_type": "markdown",
   "metadata": {},
   "source": [
    "#### <b>4.3. Processing chunks of data using ```for``` loops with the ```range()``` function</b>"
   ]
  },
  {
   "cell_type": "markdown",
   "metadata": {},
   "source": [
    "If you have a very large number of data files or rows, or the files are very large in size, loading all the data may become a less efficient strategy because it is memory consuming. In these scenarios, it is wiser to <b>process the data in chunks</b>: for example, process a subgroup of files, or rows at a time."
   ]
  },
  {
   "cell_type": "code",
   "execution_count": null,
   "metadata": {},
   "outputs": [],
   "source": [
    "import numpy as np\n",
    "\n",
    "subjects = np.arange(1,101)\n",
    "conditions = ['a', 'b']\n",
    "batchsize = 11\n",
    "\n",
    "nsub = len(subjects)\n",
    "for i in range(0,nsub,batchsize):\n",
    "    k = i + batchsize\n",
    "    if k > nsub:\n",
    "        k = nsub\n",
    "    # do something with this group of subjects\n",
    "    # e.g., process the files of these subjects first\n",
    "    print(f'Loading subjects {subjects[i]} to {subjects[k-1]}:')\n",
    "    print(subjects[i:k])\n",
    "    for j in conditions:\n",
    "        # do something: \n",
    "        # e.g., load the files of these participants in this condition and process them\n",
    "        print(f'Processing condition {j}')"
   ]
  },
  {
   "cell_type": "code",
   "execution_count": null,
   "metadata": {},
   "outputs": [],
   "source": [
    "import pandas as pd\n",
    "\n",
    "df = pd.read_csv('mission1_data.csv')\n",
    "\n",
    "batchsize = 8\n",
    "nrows = df.shape[0]\n",
    "print(nrows)\n",
    "\n",
    "for i in range(0, nrows, batchsize):\n",
    "    j = i + batchsize\n",
    "    if j > nrows:\n",
    "        j = nrows\n",
    "    # do something with this group of rows\n",
    "    # e.g., create a dataframe with those rows and apply some function\n",
    "    df2 = df.iloc[i:j,:]\n",
    "    print(f'Processing rows {i+1} to {j}:')\n",
    "    # code lines of preprocessing steps\n",
    "\n",
    "    # then, you can save the data after preprocessing, \n",
    "    # or example append it to a list of dataframes,\n",
    "    # then, concatenate the dataframes at the end of the loop.\n",
    "    # alternatively, you can save the transformed data back to the original dataframe\n",
    "    # df.iloc[i:j,:] = df2\n",
    "\n",
    "print(df2)\n",
    "#print(df.iloc[-1,:])"
   ]
  },
  {
   "cell_type": "markdown",
   "metadata": {},
   "source": [
    "#### <b>4.4. Processing chunks of rows in Pandas</b>"
   ]
  },
  {
   "cell_type": "markdown",
   "metadata": {},
   "source": [
    "Pandas has an option to define chunks of data in a dataframe, upon reading the file. Then, it is very easy to loop over the dataframe chunks and process them."
   ]
  },
  {
   "cell_type": "code",
   "execution_count": null,
   "metadata": {},
   "outputs": [],
   "source": [
    "import pandas as pd\n",
    "\n",
    "# Read the mission1_data.csv in chunks of 10 rows\n",
    "df = pd.read_csv(\"mission1_data.csv\", chunksize=10)\n",
    "\n",
    "male = 0\n",
    "female = 0\n",
    "# Loop through the chunks\n",
    "# Iterate over chunks\n",
    "'''for i, chunk in enumerate(reader):\n",
    "    print(f'Processing Chunk {i+1}')\n",
    "    process_chunk(chunk)'''\n",
    "\n",
    "for chunk in df:\n",
    "    # Every chunk is a dataframe containing a subset of rows (10) from the large dataframe df\n",
    "    #print(chunk)\n",
    "    # Insert code here if you would like to process this dataframe chunk (e.g., apply some function)\n",
    "    # Then, you could append this chunk to a list (to be able to concatenate them at the end of the loop)\n",
    "\n",
    "    # count all males in the sex column of the current chunk\n",
    "    male += chunk[chunk['sex'] == \"male\"][\"sex\"].count()\n",
    "    # count all females in the sex column of the current chunk\n",
    "    female += chunk[chunk['sex'] == \"female\"][\"sex\"].count()\n",
    "\n",
    "# you could concatenate the chunks here\n",
    "# you could apply some preprocessing to the whole dataframe here\n",
    "# and/or save the processed data\n",
    "\n",
    "# Print the results\n",
    "print(f'Total number of males: {male}')\n",
    "print(f'Total number of females: {female}')"
   ]
  },
  {
   "cell_type": "markdown",
   "metadata": {},
   "source": [
    "#### <b>4.5. Processing lines from a ```.txt``` file in batches</b>"
   ]
  },
  {
   "cell_type": "code",
   "execution_count": 6,
   "metadata": {},
   "outputs": [
    {
     "name": "stdout",
     "output_type": "stream",
     "text": [
      "Processing batch: ['\"Unnamed: 0\" Senator \"Planet or sector represented\" Term Notes \"Species and gender\" Planet Sector', '0 0 Aang Roona \"c. 21 BBY\"  \"Roonan male\"', '1 1 \"Aak, Ask\" \"Malastare and the Dustig sector\" \"22 BBYâ€“19 BBY\"  \"Gran male\"', '2 2 \"Adem\\'thorn, Yeb Yeb\" \"Makem Te and the Nilgaard sector\" \"c. 32 BBY\"  \"Swokes Swokes male\"', '3 3 \"Alavar, Nee\" \"Lorrd and Kanz sector\" \"c. 19 BBY\" \"Arrested and executed by Palpatine\" \"Human female\"', '4 4 \"Aldrete, Agrippa\" \"Alderaan and Alderaan sector\" \"c. 52 BBY\" \"Replaced by Bail Antilles\" \"Human male\"', '5 5 \"Allum, Vivendi\"  \"c. 44 BBY\"  male', '6 6 \"Amedda, Mas\" Champala \"c. 33 BBY\" \"elected as Vice Chair\" \"Chagrian male\"', '7 7 \"Amidala, PadmÃ©\" \"Naboo and Chommell sector\" \"c. 25 BBY-19 BBY\" \"Died giving birth to her children, Luke Skywalker and Leia Organa Solo\" \"Human female\"', '8 8 \"Annon, Blix\"  \"c. 77 BBY\" \"Killed by heart attack\" \"Human male\"', '9 9 \"Am-Ris, Paran\" Cerea \"c. 3653 BBY\" \"Became interim Supreme Chancellor\" \"Cerean male\"', '10 10 \"Antilles, Bail\" \"Alderaan and Alderaan sector\" \"c. 33/32 BBY\" \"Replaced by Bail Prestor Organa\" \"Human male\"', '11 11 \"Anujo, Cellheim\"  \"c. 19 BBY\"', '12 12 \"Argente, Passel\" \"Murkhana and the Corporate Alliance\" \"c. 33 BBYâ€“22 BBY\" \"Joined Separatists\" \"Koorivar male\"', '13 13 \"Ashgad, Seti\"  \"c. 20 BBY\" \"exiled by Palpatine\" \"Human male\"', '14 14 \"Atanna, Gabrial\" Esseles \"c. 0 BBY\" \"Spied on Esseles\\' defense industry for the Alliance to Restore the Republic\" Male', '15 15 \"Atell, Voe\"   \"Joined Separatists\" Female', '16 16 \"Awmeeth, Veedaaz\" \"Sarrish and Vensensor sector\" \"c. 19 BBY\"  \"Unidentified Sarrish species male\"', '17 17 \"Baab, Fema\" \"Bajic sector\" \"c. 19 BBY\"  \"Human female\"', '18 18 \"Bar Gane, Edcel\" Roona \"c. 33/32 BBY\"  \"Roonan male\"', '19 19 \"Bel Iblis, Garm\" \"Corellia and Corellian sector\" \"c. 22 BBYâ€“0 BBY\" \"Death faked\" \"Human male\"', '20 20 \"Bendon, Tendau\" \"Ithor and Ottega sector\" \"c. 33 BBYâ€“19 BBY\" \"arrested by Palpatine\" \"Ithorian male\"', '21 21 \"Bertar, Canny Mandary\" \"Mrlsst and Tapani sector\" \"c. 23 BBYâ€“0 BBY\"  \"Mrlssi female\"', '22 22 \"Beruss, Doman\" \"Illodia and Illodia sector\" \"c. 19 BBYâ€“0 BBY\"  \"Human male\"', '23 23 \"Bibbeck, Char\" \"Colunda Prime and Colunda sector\" \"c. 22 BBY\" Censured \"Human male\"', '24 24 \"Binks, Jar Jar\" \"Representative of the Gungan people of Naboo; later Senator of Naboo\" \"c. 22 BBYâ€“19 BBY (Rep.); c. 19 BBYâ€“6 BBY (Sen.)\" \"Replaced by Pooja Naberrie\" \"Gungan male\"', '25 25 \"Bluss, By\"   \"Joined Separatists\" Male', '26 26 \"Bonteri, Mina\" Onderon  \"Joined Separatists and assassinated\" \"Human female\"', '27 27 Braxis \"Pho Ph\\'eah and Kalamith sector\" \"c. 19 BBY\"  \"Pho Ph\\'eahian male\"', '28 28 \"Breemu, Bana\" \"Humbarine and Humbarine sector\" \"c. 19 BBY\" \"Arrested by Palpatine\" \"Human female\"', '29 29 \"Bremack, Tyreca\" \"Agamar and Lahara sector\" \"c. 22 BBY\" \"Joined Separatists\" \"Human female\"', '30 30 \"Bribbs, Beolars\" Sullust  \"Joined Separatists\" \"Sullustan male\"', '31 31 \"Bronk, Dewell\" Kedorzha \"c. 22 BBY\"  \"Kedorzhan male\"', '32 32 \"Brun, Rasit\" \"Rintonne and Lambda sector\" \"c. 22 BBY\"  \"Human male\"', '33 33 \"Burtoni, Halle\" Kamino \"c. 22 BBY\"  \"Kaminoan female\"', '34 34 \"Cadaman, Tanner\" Feenix \"c. 19 BBY\" \"Arrested amd supposedly executed by Palpatine\" \"Human male\"', '35 35 \"Bu, Candabrine\" Lansono \"c. 22 BBY\"  \"Human female\"', '36 36 \"Callen, Vi\"  \"c. 44 BBY\"  male', '37 37 \"Card, Nix\" \"Associate Planetary Representative of the InterGalactic Banking Clan\"  \"Joined Separatists\" \"Muun male\"', '38 38 Chelo \"Gerrard V\" \"c. 0 BBY\"  \"Human male\"', '39 39 Christo  \"c. 22 BBY\"  \"Quarren male\"', '40 40 \"Chuchi, Riyo\" \"Pantora and the Sujimis sector\" \"c. 22 BBY\"  \"Pantoran female\"', '41 41 \"Clovis, Rush\" Scipio \"c. 22 BBY\" \"Joined Separatists and exposed as traitor\" \"Human male\"', '42 42 \"Concorkill, Sweitt\" \"Sembla and the Sertar sector\" \"c. 19 BBY\" \"Arrested by Palpatine\" \"Vurk male\"', '43 43 \"Contispex I\"  \"c. 11,000 BBY\" \"elected as Supreme Chancellor\" \"Human male\"', '44 44 \"Coorr, Ronet\" Iseno \"c. 22 BBYâ€“20 BBY\" \"Retired in disgrace after taking bribes from the Separatists\" \"Human male\"', '45 45 \"Creip, Neb\"  \"c. 19 BBY\"  \"Human male\"', '46 46 Crote Frego \"c. 40 BBY\" \"Arrested for criminal connections\" \"Human male\"', '47 47 \"Danu, Giddean\" \"Kuat and Kuat sector\" \"c. 19 BBY\" \"Arrested by Palpatine\" \"Human male\"', '48 48 Darsana \"Glee Anselm\" \"c. 22 BBY\"  \"Anselmi male\"', '49 49 \"Deechi, Mee\" \"Umbara and the Ghost Nebula\" \"c. 22 BBY\" \"Stabbed and murdered by Lolo Purs\" \"Umbaran male\"', '50 50 \"Dell, Harkon\"  \"c. 19 BBY\"  male', '51 51 \"Derlin, Galen\" Tiisheraan \"c. 19 BBY\" \"Retired and assassinated by Palpatine\\'s operatives\" \"Human male\"', '52 52 Des\\'sein  \"c. 19 BBY\"  male', '53 53 \"Dhori Tolas, Mina\" Korvaii \"â€”0 BBY\"  \"Human female\"', '54 54 \"Dio, Lexi\" \"Uyter and the Lantillian sector\" \"c. 22 BBYâ€“20 BBY\" \"Assassinated, replaced by MalÃ©-Dee\" \"Human female\"', '55 55 \"Divinian, Bog\" Nuralee \"26 BBYâ€“22 BBY\"  \"Human male\"', '56 56 \"Dod, Lott\" \"Neimoidia and the Trade Federation\" \"c. 33 BBY\" \"Joined Separatists\" \"Neimoidian male\"', '57 57 \"Ortell Donovan, James\" Mindabaal \"?â€“0 BBY\" \"Supposedly survived Imperial bormbardment of homeworld caused by Palpatine\\'s orders\" \"Human male\"', '58 58 \"Donte, Silvu\" Riflor \"c. 32 BBY\" \"Joined Separatists\" \"Advosze male\"', '59 59 \"Dowmeia, Tundra\" \"Dac and Calamari sector\" \"22 BBYâ€“19 BBY\" \"Arrested by Palpatine, replaced by Timi Rotramel\" \"Quarren male\"', '60 60 \"Drake, Ivor\" \"Kestos Minor and Kwymar sector\" \"c. 19 BBY\" \"Arrested and supposedly executed by Palpatine\" \"Human female\"', '61 61 \"Drexx, Bezz\"  \"c. 22 BBY\" \"Exposed for corruption after receiving bribes from the Separatists\" male', '62 62 \"Eddawan, Galim\" Tyan \"c. 77 BBY\"  \"Human male\"', '63 63 \"Eddicus, Anwis\"   \"Elected as Supreme Chancellor\"', '64 64 \"Eekway, Chi\" Wroona \"c. 19 BBY\" \"Arrested by Palpatine\" \"Pantoran female\"', '65 65 Elrood', '66 66 Elsah\\'sai\\'Moro \"Devaron and Devaron Space\" \"c. 22 BBY\" \"Assassinated, replaced by Vien\\'sai\\'malloc\" \"Devaronian female\"', '67 67 \"Estornii, Eeusu\"  \"c. 19 BBY\"  \"Zeuolin female\"', '68 68 Farazzish', '69 69 \"Farr, Onaconda\" Rodia \"c. 32 BBYâ€“21 BBY\" \"Killed by poison from Lolo Purs, Farr had also previously joined the Separatists but re-joined the Republic\" \"Rodian male\"', '70 70 \"F\\'ass, Dodra\" \"Clak\\'dor VII and Mayagil sector\" \"c. 22 BBY\" \"Joined Separatists\" \"Bith male\"', '71 71 Fillorean   \"elected as Supreme Chancellor\"', '72 72 Fird \"Alsakan and Coruscant sector\"   \"Human male\"', '73 73 \"Fonti, Amita\"   \"Joined Separatists\" \"Gossam female\"', '74 74 \"Fontin, Kare\"  \"c. 19 BBYâ€“0 BBY\"  \"Human male\"', '75 75 \"Fordox, Com\" \"Corellia and Corellian sector\" \"c. 33 BBY\" \"Replaced by Garm Bel Iblis\" \"Human male\"', '76 76 Gno  \"c. 19 BBYâ€“0 BBY\"  male', '77 77 Gopple Erigorm \"c. 22 BBYâ€“19 BBY\"  \"Human male\"', '78 78 \"Goravvus, Haydel\" \"Taris and the Taris sector\" \"3,966 BBY-3,964 BBY\" \"First senator of Taris; disappeared during the Siege of Taris\" \"humanoid male\"', '79 79 \"Gracus, Bor\" \"Sluis Van and Sluis sector\" \"c. 33 BBY\" \"replaced by Corlissi Ludar\" \"Human male\"', '80 80 Graw  \"c. 3,963 BBY\"  Male', '81 81 Grebleips \"Brodo Asogi and the Perinn sector\" \"c. 33 BBYâ€“19 BBY\" \"Arrested by Palpatine\" male', '82 82 \"Greejatus, Janus\" \"Chommell Minor and Chommell sector\" \"32 BBYâ€“30 BBY\" \"replaced by Horace Vancil\" \"Human male\"', '83 83 \"Greyshade, Jheramahd\" \"Vorzyd V and the Commonality\" \"c. 24 BBY\" \"Assassinated by Tsian, replaced by Simon Greyshade\" \"Human male\"', '84 84 \"Greyshade, Simon\" \"Vorzyd V and the Commonality\" \"24 BBYâ€“0 ABY\"  \"Human male\"', '85 85 \"Gunray, Nute\" \"Neimoidia and the Trade Federation\" \"â€”44 BBY\" \"Replaced by Lott Dod\" \"Neimoidian male\"', '86 86 \"Ha\\'Nook, Jannie\" Glithnos \"c. 20 BBYâ€“19 BBY\"  \"Human female\"', '87 87 \"Harbright, Selnia\" Salliche \"c. 0 BBY\"  \"Human female\"', '88 88 Herbin  \"c. 22 BBY\"  male', '89 89 \"Howler, Zo\" \"Gravlex Med and Raioballo sector\" \"22 BBYâ€“19 BBY\"  \"Anx male\"', '90 90 \"Hrul, Boganni\" \"Ord Thoden and Dynali sector\" \"c. 22 BBY\"  \"Human male\"', '91 91 \"Indriummsegh, Rennimdius B\\'thog\" \"Elom and the Sertar sector\" \"c. 22 BBY\"  \"Elomin male\"', '92 92 Iridik\\'k-stallu  \"c. 19 BBY\"  female', '93 93 \"irm-Drocubac, Nemrileo\" \"Tanjay IV\" \"c. 22 BBY\" Assassinated \"Tanjayan male\"', '94 94 Jubben  \"c. 22 BBY\" \"Assassinated by Zam Wesell\"', '95 95 \"Kaa, Chom Frey\" \"Representative of Ryloth and the Gaulus sector\" \"c. 32 BBY\" \"Arrested by Mace Windu\" \"Twi\\'lek male\"', '96 96 Kalpana   \"elected as Supreme Chancellor\"', '97 97 \"Kee, Denaria\" \"Associate Planetary Representative of Murkhana and the Corporate Alliance\" \"c. 33 BBYâ€“22 BBY\" \"Joined Separatists\" \"Koorivar female\"', '98 98 Kharrus  \"- 22 BBY\" \"Assassinated by Weequay pirates\" \"Gran male\"']\n",
      "Processing batch: ['99 99 \"Kim, Vidar\" \"Naboo and Chommell sector\" \"â€”52 BBY\" \"Assassinated supposedly by Palpatine, replaced by Palpatine\" \"Human male\"', '100 100 \"Komain, Alet\" Daimar \"â€”19 BBY\"  \"Human male\"', '101 101 \"Krasul, Zorin\" Anaxes \"3641 BBY\"  \"Human male\"', '102 102 Krystal \"Malastare and the Dustig sector\" \"c. 0 BBY\"  \"Human male\"', '103 103 \"Kuna, Fo\" \"Representative of Gravlex Med and the Raioballo sector\" \"22 BBYâ€“19 BBY\"  \"Anx male\"', '104 104 \"Kushi, Kerch\"   \"Joined Separatists\" Male', '105 105 Largetto  \"c. 19 BBY\"  male', '106 106 \"Lawise, Bec\"   \"Joined Separatists\" \"Siniteen male\"', '107 107 \"Ledwellow, Danry\" \"Er\\'Kit and the Noonian sector\" \"c. 22 BBY\"  \"Er\\'Kit male\"', '108 108 \"Lenoan Risi\" \"Kuat and Kuat sector\" \"c. 22 BBY\" \"Removed from office and replaced by Giddean Danu\" \"Human female\"', '109 109 \"Li, Eelen\" Triffis \"pre-32 BBYâ€”\"  Triffian', '110 110 \"Limoth, Garlan\" \"Trans-Nebular sector\" \"c. 32 BBYâ€“19 BBY\" \"Assassinated on the orders of Palpatine\" \"Human male\"', '111 111 \"Looruya, Havriso\" \"Yir Tangee\" \"c. 22 BBY\"  \"Human male\"', '112 112 \"Ludar, Corlissi\" \"Sluis Van and Sluis sector\" \"c. 22 BBY\" \"Joined Separatists\" \"Sluissi male\"', '113 113 \"Maas, Ilov\" Delphon \"c. 0 BBY\"  \"Human male\"', '114 114 MalÃ©-Dee \"Uyter and the Lantillian sector\" \"20 BBYâ€“19 BBY\" \"Arrested by Palpatine\" \"Human male\"', '115 115 \"Matrin, Quorl\" \"the Gordian Reach\" \"c. 0 BBY\"  \"Human male\"', '116 116 Maxim  \"c. 33 BBY\"', '117 117 Mcnamara  \"Before 1 ABY\" Imperial-aligned male', '118 118 \"Merrik, Tal\" \"Kalevala and the Mandalore sector\" \"c. 22 BBY\" \"Joined Separatists and was executed as a traitor\" \"Human male\"', '119 119 \"Metonae, Tash\" Alderaan \"Contemporary with Supreme Chancellor Vaila Pecivas\"  Human', '120 120 \"Mezzileen, Signet\"   \"Elected as Supreme Chancellor\"', '121 121 \"Moe, Aks\" \"Malastare and the Dustig sector\" \"c. 33 BBYâ€“22 BBY\" \"Assassinated, replaced by Ask Aak\" \"Gran male\"', '122 122 Moje \"Associate Planetary Representative of Thustra\"  \"Joined Separatists\" \"Sephi male\"', '123 123 Morvis \"Chandrila and Bormea sector\" \"c. 3963 BBY\" \"On third term\" \"Human female\"', '124 124 \"Mosbree, Arcel\" \"Brentaal and Bormea sector\" \"c. 22 BBY\" Retired \"Human male\"', '125 125 \"Mothma, Mon\" \"Chandrila and Bormea sector\" \"c. 19 BBYâ€“0 BBY\" \"Exposed as a member of the Rebel Alliance, replaced by Canna Omonda\" \"Human female\"', '126 126 Mousul \"Ansion and the Churnis sector\" \"c. 22 BBY\" \"Joined Separatists\" \"Ansionian male\"', '127 127 \"Naberrie, Pooja\" \"Naboo and Chommell sector\" \"c. 6 BBYâ€“0 BBY\"  \"Human female\"', '128 128 Navi \"Thustra and the Sumitra sector\" \"c. 21 BBY\" \"Joined Separatists and arrested for attempting to kill Yoda\" \"Sephi male\"', '129 129 Netus   \"Elected as Minister of Defense\" male', '130 130 \"Niopua, Ihu\"  \"c. 21 BBY\"  male', '131 131 \"Not Rab, Mot\"  \"c. 33/32 BBY\"  \"Tarnab male\"', '132 132 \"Nudo, Po\" \"Ando and Dufilvian sector\" \"c. 33 BBYâ€“22 BBY\" \"Joined Separatists; replaced by an Aquala male\" \"Ualaq male\"', '133 133 \"Olbeg, Han\" \"Pitann and Kathol sector\" \"c. 22 BBY\"  \"near-Human male\"', '134 134 \"Omonda, Canna\" \"Chandrila and Bormea sector\" \"0 BBY\" \"Executed by Palpatine\" \"Human female\"', '135 135 Oodora Manaan', '136 136 Oraltor \"Ithor and Ottega sector\"   \"Ithorian male\"', '137 137 Oranda \"Agamar and the Lahara sector\" \"3643 BBY\"  \"Human female\"', '138 138 \"Organa, Bail\" \"Alderaan and Alderaan sector\" \"c. 22 BBYâ€“2 BBY\" \"Murdered when Alderaan blew up on the orders of Palpatine\" \"Human male\"', '139 139 \"Organa, Leia\" \"Alderaan and Alderaan sector\" \"2 BBYâ€“0 BBY\" Arrested \"Human female\"', '140 140 \"Ot\\'Hyne, Eeshrin\" Caamas \"c. 22 BBY\"  \"Caamasi male\"', '141 141 \"Paddie, Ister\" \"Sermeria and the Locris sector\" \"c. 22 BBY\"  \"Human male\"', '142 142 Page \"Corulag and Bormea sector\" \"c. 0 BBY\"  \"Human male\"', '143 143 \"Paige-Tarkin, Shayla\" \"Eriadu and Seswenna sector\" \"c. 22 BBYâ€“19 BBY\"  \"Human female\"', '144 144 Palpatine \"Naboo and Chommell sector\" \"52 BBYâ€“32 BBY\" \"Elected as Supreme Chancellor, replaced by Janus Greejatus\" \"Human male\"', '145 145 \"Pecivas, Vaila\"   \"Elected as Supreme Chancellor\"', '146 146 Philo  \"c. 22 BBY\" \"Assassinated by Cad Bane\" \"Gran male\"', '147 147 \"Plain, Mak\" \"Associate Planetary Representative of the InterGalactic Banking Clan\"  \"Joined Separatists\" \"Muun male\"', '148 148 \"Ransa, Bicon\"  \"c. 44 BBY\"  \"Human male\"', '149 149 Ravein \"Alderaan and Alderaan sector\"   \"Human male\"', '150 150 \"Regrap, Mik\" \"Associate Planetary Representative of Neimoidia and the Trade Federation\"  \"Joined Separatists\" \"Neimoidian male\"', '151 151 \"Resbin, Jollin\" \"Sneeve and Kastolar sector\" \"c. 22 BBY\"  \"Sneevel male\"', '152 152 \"Rimbaud, Punn\"   \"Joined Separatists\" Female', '153 153 \"Ritsomas, Bufus\" \"Till Chorios and Meridian sector\" \"c. 22 BBY\" \"Joined Separatists\" male', '154 154 \"Robb, Kin\" \"Taris and Ojoster sector\" \"c. 22 BBY\"  \"Human female\"', '155 155 Rodd \"Fondor and Tapani sector\" \"c. 23 BBY\" \"Joined Separatists, replaced by Canny Mandary Bertar\" \"Human male\"', '156 156 \"Hurst Romodi\"  \"â€”0 BBY\" \"sat in the Death Star conference room\" \"Human male\"', '157 157 \"Rotramel, Timi\" \"Dac and Calamari sector\" \"c. 0 BBY\" \"Executed by Darth Vader for attempting to recruit Si-Di-Ri to the Rebel Alliance\" \"Mon Calamari male\"', '158 158 \"Rotsino, Esu\" \"Abrion Major and Abrion sector\" \"c. 22 BBY\" \"Joined Separatists\" \"Human female\"', '159 159 \"Ryyder, Horox\" \"Gravlex Med and Raioballo sector\" \"c. 71 BBYâ€“22 BBY\" \"Retired, replaced by Zo Howler\" \"Anx male\"', '160 160 \"Sadashassa, Shea\" Herdessa \"c. 19 BBY\" \"Arrested and supposedly executed by Palpatine\" \"Human female\"', '161 161 \"Saam, Gume\" Tibrin \"c. 19 BBY\" \"Joined Separatists\" \"Ishi Tib\"', '162 162 \"Sauro, Sano\" Eeropha \"c. 37 BBYâ€“c. 19 BBY\"  \"Human male\"', '163 163 \"Scoritoles, Daggibus\" Yag\\'Dhul \"c. 22 BBY\" \"Joined Separatists\" \"Givin male\"', '164 164 \"Sedran, Yudrish\" Chalacta \"c. 22 BBY\"  \"Chalactan female\"', '165 165 \"Se\\'Lab, Polo\" \"Bothawui and Bothan sector\" \"c. 32 BBYâ€“0 BBY\"  \"Bothan male\"', '166 166 \"Sh\\'neel, R\\'shinnos\" \"Genassa and M\\'shinni sector\" \"c. 22 BBY\"  M\\'shin', '167 167 \"Shessaun, Silya\" \"Thesme and Thesme sector\" \"c. 19 BBY\"  \"Human female\"', '168 168 \"Sidras, Mael\"   Assassinated \"Human male\"', '169 169 \"Sirrom, Gem\"  \"c. 19 BBY\"  \"Human Female\"', '170 170 \"Snopps, Zafiel\" \"Corulag and Bormea sector\" \"c. 33 BBYâ€“after 19 BBY\" \"Replaced by Page\" \"Human male\"', '171 171 \"S\\'orn, Uta\" Belasco \"c. 42 BBY\" \"Retired, Arrested\" \"Human female\"', '172 172 Spince \"Corellia and Corellian sector\"   \"Human male\"', '173 173 Streamdrinker \"Tynna and the Tynna sector\" \"19 BBY\" \"Arrested and supposedly executed by Palpatine\" \"Tynnan male\"', '174 174 \"Taa, Orn Free\" \"Ryloth and the Gaulus sector\" \"c. 33 BBYâ€“19 BBY\"  \"Twi\\'lek male\"', '175 175 \"Talon, Pel\"  \"c. 19 BBYâ€“c. 2 BBY\"  \"Human male\"', '176 176 \"Taloon, Rhya\" Agridorn \"c. 19 BBY\" \"Received death mark from Palpatine, joined the Erased\" \"Human female\"', '177 177 \"Tambor, Wat\" \"Metalorn and the Techno Union\" \"c. 33 BBYâ€“22 BBY\" \"Joined Separatists\" \"Skakoan male\"', '178 178 \"Taneel, Terr\" \"Neelanon and Senex sector\" \"c. 19 BBY\" \"Arrested by Palpatine\" \"Human female\"', '179 179 \"Tara, V\\'troren\"  \"c. 19 BBY\"  \"Twi\\'lek male\"', '180 180 \"Tarkin, Ranulph\" \"Eriadu and Seswenna sector\" \"c. 44 BBY\" \"Killed, replaced by Shayla-Paige Tarkin\" \"Human male\"', '181 181 \"Tarturi, Berm\" Andara \"c. 26 BBY\"  \"Human male\"', '182 182 Tashrikam Grizmallt \"c. 22 BBY\"  Human', '183 183 \"Teem, Ainlee\" \"Representative of Malastare and the Dustig sector\" \"c. 32 BBYâ€“22 BBY\"  \"Gran male\"', '184 184 \"T\\'Egal, Pi\"  \"c. 44 BBY\"  male', '185 185 \"Tal Teff\" \"Alzoc III\" \"3643 BBY\"', '186 186 Templeton', '187 187 \"Thorm, Hrekin\" Fedalle \"c. 0 BBY\"  \"Human male\"', '188 188 Tikkes \"Dac and the Calamari sector\" \"c. 33 BBYâ€“22 BBY\" \"Joined Separatists, replaced by Meena Tills and Tundra Dowmeia\" \"Quarren male\"', '189 189 \"Tills, Meena\" \"Dac and the Calamari sector\" \"22-19 BBY\" \"Arrested by Palpatine, replaced by Timi Rotramel\" \"Mon Calamari female\"', '190 190 \"Toora, Toonbuck\" \"Sy Myrth and the Phelleem sector\" \"c. 33 BBYâ€“22 BBY\" \"Joined Separatists\" \"Sy Myrthian female\"', '191 191 \"Toryn, Jasso\"  \"c. 22 BBY\"  \"Human male\"', '192 192 \"Treen, Alastar\" \"Corulag and Bormea sector\" \"c. 22 BBY\" \"replaced by Zafiel Snopps\" \"Human male\"', '193 193 \"Trell, Connus\" \"Representative of Ryloth and the Gaulus sector\" \"c. 32 BBY\" \"Killed by Jango Fett\" \"Twi\\'lek male\"', '194 194 \"Tyrell, Bog\" Aleen \"c. 22 BBY\"  \"Aleena female\"', '195 195 \"Vagger, Gorothin\" \"Andosha II and the Andoan Free Colonies\" \"c. 22 BBYâ€“19 BBY\"  \"Ualaq male\"', '196 196 \"Vancil, Horace\" \"Naboo and Chommell sector\" \"30 BBYâ€“24 BBY\" \"succeeded by PadmÃ© Amidala\" \"Human male\"', '197 197 \"Valorum, Eixes\"  \"c.100 BBY\" \"Elected as Supreme Chancellor\" Human', '198 198 \"Valorum, Finis\" \"Spira and Lytton sector\" \"60 BBYâ€“40 BBY\" \"Elected as Supreme Chancellor\" \"Human male\"']\n",
      "Processing batch: ['199 199 \"Valorum, Tarsus\"  \"c.1000 BBY\" \"Elected as Supreme Chancellor\" \"Human male\"', '200 200 \"Vibrion, Gebnerret\" \"Ghorman and Sern sector\" \"c. 19 BBYâ€“0 BBY\"  \"Human male\"', '201 201 Vien\\'sai\\'Malloc \"Devaron and Devaron Space\" \"22 BBY\" \"Joined Separatists and was executed for hiring Aurra Sing to murder Senator Elsah\\'sai\\'Moro\" \"Devaronian female\"', '202 202 Viento  \"c. 32 BBYâ€“21 BBY\" \"Joined Separatists and assassinated\" \"Human male\"', '203 203 \"Vordu, Alku\" Daroon \"c. 0 BBY\"  \"Human male\"', '204 204 \"Wallen, Jonus\" \"Darlon and Darlon sector\" \"c. 22 BBY\" Censured \"Human male\"', '205 205 \"Wena Havid\" Kalarba \"c. 5 BBY\" Killed \"Human male\"', '206 206 \"Wodrata, Rogwa\" \"Alliga and Phelleem sector\" \"c. 22 BBY\" \"Joined Separatists\" \"Holwuff male\"', '207 207 \"Wojaine, Wuja\" \"Pydyr and the Mortex sector\" \"c. 22 BBY\" \"Joined Separatists\" Pydyrian', '208 208 \"Wrede, Lanus\" \"Sermeria and the Locris sector\" \"c. 22 BBY\" \"Supposedly committed suicide, replaced by Ister Paddie\" \"Human male\"', '209 209 \"Wren, Lavina Durada-Vashne\" Cularin \"34-19 BBY\"  \"Human female\"', '210 210 Wuxod \"Derilyn and Elrood sector\" \"c. 0 BBY\"  \"Human male\"', '211 211 Yarua \"Kashyyyk and Mytaranor sector\" \"c. 33 BBYâ€“19 BBY\"  \"Wookiee male\"', '212 212 \"Yeb, Solipo\"  \"c. 19 BBY\"  \"Human male\"', '213 213 Yufwa Malastare \"c. 22 BBY\"  \"Gran male\"', '214 214 \"Unidentified Echani Senator\" Eshan  \"Killed by Darth Revan\" Echani', '215 215 \"Zar, Fang\" \"Sern Prime and Sern sector\" \"c. 22 BBYâ€“19 BBY\" \"Arrested by Palpatine\" \"Human male\"', '216 216 \"Zian, Grom\" \"Solu Five\" \"3,641 BBY\" \"Arrested for treason\" \"Chagrian male\"', '217 217 Zurros Falleen \"c. 21 BBY\" \"Joined Separatists\" \"Falleen male\"', '218 218 \"Eero Iridian\\'s father[2]\"  \"c. 90 BBY[2]\"  \"Male of a species[2]\"', '0 0 \"Atell, Voe\"  \"c. 21 BBY\"  \"Alien female\"', '1 1 \"Bluss, By\"  \"c. 21 BBY\"  \"Leyakian male\"', '2 2 \"Bonteri, Lux\"  \"c. 21 BBY\" \"Replaced his mother, later renounced the Separatists\" \"Human male\" Onderon', '3 3 \"Bonteri, Mina\"  \"c. 21 BBY\" \"Murdered ordered secretly by Dooku\" \"Human female\" Onderon', '4 4 \"Fonti, Amita\"  \"c. 21 BBY\"  \"Gossam female\"', '5 5 \"Kushi, Kerch\"  \"c. 21 BBY\"  \"Alien male\"', '6 6 \"Lawise, Bec\"  \"c. 21 BBY\" \"Became Separatist Congress Leader\" \"Siniteen male\"', '7 7 \"Rimbaud, Punn\"  \"c. 21 BBY\"  \"Amphibious alien female\"', '0 0 \"Gial Ackbar\"  \"4 ABYâ€“c. 10 ABY\" \"Replaced by Q-Varx\" \"Mon Calamari male\" \"Mon Calamari\" \"Calamari sector\"', '1 1 \"A\\'Kla, Elegos\"  \"19 ABYâ€“25 ABY\" \"Murdered by Shedao Shai, replaced by Releqy A\\'Kla\" \"Caamasi male\" Caamas --', '2 2 \"A\\'Kla, Releqy\"  \"25 ABYâ€“c. 35 ABY\"  \"Caamasi female\" Caamas --', '3 3 Amamanam  \"c. 16 ABY\"  \"B\\'das male\" \"the B\\'das people\" --', '4 4 Amara    \"Human male\" -- --', '5 5 \"Anglethorn, Darial\"  \"7 ABYâ€“after 8 ABY\"  \"Human female\" Beheboth \"Sanbra sector\"', '6 6 Arastide  \"c. 13 ABY\"  \"Human male\" Gantho --', '7 7 Behn-kihl-nahm  \"prior to 16 ABY\" \"Elected as Senate Chairman\" male -- --', '8 8 \"Bel Iblis, Garm\"  \"11 ABYâ€“prior to 16 ABY\" \"Replaced by Chelch Dravvad\" \"Human male\" Corellia \"Corellian sector\"', '9 9 \"Beruss, Doman\"  \"4 ABYâ€“c. 10 ABY\" \"Replaced by Garm Bel Iblis\" \"Human female\" Corellia \"Corellian sector\"', '10 10 \"Beruss, Doman\"  \"c. 16 ABY\"  \"Human male\" Illodia \"Illodia sector\"', '11 11 \"Bogen, Ab\\'el\"  \"c. 16 ABY\"  \"Human male\" Ralltiir \"Darpa sector\"', '12 12 \"Boma (Gungan)\"  \"c. 13 ABY\"  \"Gungan male\" Naboo \"Chommell sector\"', '13 13 \"Boras, Fyg\"  \"c. 26 ABYâ€“c. 28 ABY\"  \"Vor male\" Vortex \"Glythe sector\"', '14 14 \"Bramsin, Fost\"  \"c. 43 ABY\"  \"Human male\" Coruscant \"Coruscant sector\"', '15 15 \"B\\'thog Indriummsegh, Verrinnefra\"  \"4 ABYâ€“c. 10 ABY\" \"Replaced by Rattagagech\" \"Elomin male\" Elom \"Sertar sector\"', '16 16 Charr  \"c.40 ABY\"  \"Human male\" Corellia \"Corellian sector\"', '17 17 Cilghal  \"c. 13 ABYâ€“c. 24 ABY\" \"Replaced by Pwoe and Gron Marrab\" \"Mon Calamari female\" Dac \"Calamari sector\"', '18 18 C-Gosf  \"c. 17 ABY\"  \"Gosfambling male\" Gosfambling \"Lifh sector\"', '19 19 ChoFÃ¯  \"c. 6 ABYâ€“c. 17 ABY\"  male -- --', '20 20 \"Coome, R\\'yet[4]\"  \"17 ABYâ€”\"  \"Exodeenian male\" Exodeen[5] --', '21 21 \"Cornin, Ala\"    female  --', '22 22 \"Cundertol, Molierre\"  \"c. 16 ABYâ€“17 ABY\"  \"Human male\" Bakura \"Shiritoku Spur\"', '23 23 \"Deega, Nara\"  \"c. 16 ABY\" \"replaced by E\\'noro\" \"Bith male\" \"Clak\\'dor VII\" \"Mayagil sector\"', '24 24 Drankin  \"c. 16 ABY\"  \"Human male\" -- --', '25 25 \"Dravvad, Chelch\"  \"c. 25 ABYâ€“c. 27 ABY\" \"Replaced by Charr\" \"Human male\" Corellia \"Corellian sector\"', '26 26 \"Drey\\'lye, Tiurgg\"  \"c. 43 ABY\" \"head of the Senate Unification Preparations Committee\" \"Bothan male\" Bothawui \"Bothan sector\"', '27 27 \"Dru, Dall Thara\"  \"c. 16 ABY\"  \"Human female\" Raxxa --', '28 28 \"Dx\\'ono, Ghic\"  \"c. 19 ABY\"  \"Ishori male\" Isht \"Ishori Confederene\"', '29 29 E\\'noro  \"c. 26 ABY\"  \"Bith female\" \"Clak\\'dor VII\" \"Mayagil sector\"', '30 30 \"Ekhat, Nav\"  \"c. 40 ABY\"  male Murkhana \"Auril sector\"', '31 31 \"Falanthas, Mokka\"  \"c. 13 ABYâ€“c. 16 ABY\"  Human -- --', '32 32 \"Feswin, Chau\"  \"c. 28 ABY\"  \"Human male\" Elrood \"Elrood sector\"', '33 33 \"Fey\\'lya, Borsk\"  \"4 ABYâ€“24 ABY\" \"Elected as President; replaced by Mak Sezala\" \"Bothan male\" Kothlis \"Bothan sector\"', '34 34 Frammel  \"c. 16 ABY\"   -- --', '35 35 \"G\\'Sil, G\\'vli\"  \"c. 40 ABY\" \"Replaced by Bramsin Fost\" \"Human male\" Coruscant \"Coruscant sector\"', '36 36 \"Gadan, Addath\"  \"c. 8 ABYâ€“27 ABY\" \"Exposed as traitor\" \"Human female\" Vannix --', '37 37 \"Gahan, Gial\"  \"c. 130 ABY\" \"Executed by Darth Krayt\" \"Mon Calamari male\" \"Mon Calamari\" \"Calamari sector\"', '38 38 \"Gavrisom, Ponc\"  \"prior to 19 ABY\" \"elected as President\" \"Calibop male\" \"the Calibop people\" --', '39 39 Gno  \"c. 6 ABYâ€“c. 17 ABY\"  male -- --', '40 40 \"Harbright, Borert\"  \"c. 25 ABY\"  \"Human male\" Salliche --', '41 41 \"H\\'aas, Nab\"  \"c. 41 ABY\"  Bith \"Clak\\'dor VII\" \"Mayagil sector\"', '42 42 Hodidiji  \"c. 16 ABY\"  male -- --', '43 43 \"Iman, J\\'mesk\"  \"c. 24 ABY\"  \"Tamran male\" \"the Tamran people\" --', '44 44 \"Kvarm Jia\"  \"c. 27 ABY\"  \"Human male\" -- \"Tapani sector\"', '45 45 \"Kem, Rokari\"  \"c. 44 ABY\" \"elected as President\" \"Jessar female\" Qaras', '46 46 Kerrithrarr[5]  \"4 ABYâ€“c. 17 ABY\" \"Voted against former Imperials to serve in the Senate[5]\" \"Wookiee male[5]\" Kashyyyk \"Mytaranor sector\"', '47 47 \"Korden, Arani\"  \"New Republic era[6]\"  \"Human female\" Naboo \"Chommell sector\"', '48 48 Kybacca[7]  -- \"Voted against former Imperials to serve in the Senate[7]\" \"Wookiee female[7]\" -- --', '49 49 Lillald  \"c. 16 ABY\"  \"Human male\" -- --', '50 50 \"M\\'yet Luure[4]\"  \"â€”17 ABY\" \"murdered; replaced by R\\'yet Coome[4]\" \"Exodeenian male\" Exodeen[4] --', '51 51 \"Marook, Cian\"  \"11 ABYâ€“c. 17 ABY\"  \"Hrasskis male\" Hrasskis --', '52 52 \"Marrab, Gron\"  \"c. 25 ABYâ€“c. 29 ABY\"  \"Mon Calamari male\" Dac \"Calamari sector\"', '53 53 Meido  \"17 ABYâ€”\"  male Adin --', '54 54 \"Miatamia, Potolo\"  \"c. 19 ABY\"  \"Diamal male\" Diamal --', '55 55 \"Moolis, Umwaw\"  \"c. 12 ABY\"  \"Ithorian female\" Ithor \"Ottega sector\"', '56 56 \"Mothma, Mon\"  \"4 ABYâ€“11 ABY\" \"elected as President\" \"Human female\" \"Councilor of Chandrila\" \"Bormea sector\"', '57 57 \"Mulaxis, Muchardis\"  \"prior to 19 ABY\"  \"Ayrou male\" \"Ovise III\" \"Moddell sector\"', '58 58 Navik  \"c. 25 ABYâ€“c. 29 ABY\" \"replaced by Moog Ulur\" \"Rodian male\" Rodia \"Savareen sector\"', '59 59 \"Niuv, Niuk\"  \"c. 25 ABYâ€“c. 29 ABY\"  \"Sullustan male\" Sullust \"Brema sector\"', '60 60 \"Noimm, Cair Tok\"  \"c. 16 ABY\"  female -- --', '61 61 Nyxy  \"c. 17 ABY\" \"replaced by Thuv Shinev\"  Rudrig \"Tion Hegemony\"', '62 62 \"Odaay, Luralon\"  \"some time between 11 ABY and 18 ABY\" assassinated \"Turian male\"  \"Limbala sector\"', '63 63 \"Omas, Cal\"  \"after 11 ABYâ€“27 ABY\" \"elected as President\" \"Human male\" Alderaan \"Alderaan sector\"', '64 64 \"Ovin, Padnel\"  \"c. 44 ABY\" \"elected as President\" \"Klatooinian male\" Klatooine', '65 65 \"Peramis, Tig\"  \"16 ABY\" censured \"Human male\" Walalla \"Seventh Security Zone\"', '66 66 Ph\\'Olla  \"c. 41 ABY\"  Bith \"Clak\\'dor VII\" \"Mayagil sector\"', '67 67 Plif  \"c. 6 ABYâ€“c. 25 ABY\"  \"Hoojib male\" Arbra \"Bon\\'nyuw-Luq sector\"', '68 68 \"Praget, Krall\"  \"c. 16 ABY\"  \"Edathan male\" Edatha --', '69 69 Pwoe  \"c. 25 ABYâ€“28 ABY\" \"exposed as a traitor\" \"Quarren male\" Dac \"Calamari sector\"', '70 70 \"Pym, Drextar[8]\"  -- \"Lead the panel responsible for prosecuting former Imperial officials and military leaders; attempt made on his life by a former member of the Storm commandos.[8]\" \"Human male[8]\" Excarga[8] \"Herios sector\"', '71 71 Quedlifu  \"c. 19 ABY\"   -- --']\n",
      "Processing batch: ['72 72 \"Quis, Cola\"  \"c. 27 ABYâ€“c. 29 ABY\"  \"Twi\\'lek male\" Ryloth \"Gaulus sector\"', '73 73 Q-Varx[9]  \"â€”13 ABY\" \"A New Republic Council member and a leader of the Rationalist Party on Dac; he accepted a bribe to arrange a meeting between Leia Organa Solo and Seti Ashgad.[9] He was replaced by Cilghal\" \"Mon Calamari male[9]\" Dac[9] \"Calamari sector[9]\"', '74 74 \"Ranth, Ta\\'laam\"  \"c. 25 ABYâ€“c. 35 ABY\"  \"Gotal male\" \"Antar 4\" --', '75 75 Rattagagech  \"c. 16 ABY\"  \"Elomin male\" Elom \"Sertar sector\"', '76 76 \"Rockbender, Deggan\"  \"c. 44 ABY\"  \"Human male\" Tatooine \"Arkanis sector\"', '77 77 \"Rodan, Fyor\"  \"c. 25 ABYâ€“c. 29 ABY\"  \"Human male\" Commenor --', '78 78 \"Sezala, Mak\"  \"24 ABYâ€“c. 27 ABY\" \"replaced by Tiurrg Drey\\'lye\" \"Bothan male\" Bothawui \"Bothan sector\"', '79 79 \"Shesh, Viqi\"  \"19 ABYâ€“26 ABY\" \"exposed as a traitor\" \"Human female\" Kuat \"Kuat sector\"', '80 80 Shibatthi  \"c. 19 ABY\"   -- --', '81 81 \"Shinev, Thuv\"  \"c. 25 ABYâ€“c. 29 ABY\"  \"Human male\" -- \"Tion Hegemony\"', '82 82 \"SoBilles, Jenssar\"  \"4 ABYâ€“c. 10 ABY\"  \"Duros male\" Duro \"Duro sector\"', '83 83 \"Solo, Leia Organa\"  \"4 ABYâ€“11 ABY\" \"elected as President; replaced by Hrekin Thorm\" \"Human female\" \"Councilor of Alderaan\" \"Alderaan sector\"', '84 84 \"Tevv, Sian\"  \"4 ABYâ€“c. 10 ABY\" \"Signatory of the Declaration of a New Republic; replaced by Niuk Niuv\" \"Sullustan male\" \"Councilor of Sullust\" \"Brema sector\"', '85 85 \"Treen, Haydnat\"  \"c. 43 ABY\"  \"Human female\" Kuat \"Kuat sector\"', '86 86 Triebakk  \"c. 25 ABYâ€“35 ABY\" \"Member of the New Republic Advisory Council\" \"Wookiee male\" Kashyyyk \"Mytaranor sector\"', '87 87 Trubor  \"â€”24 ABY\" \"Killed while investigating the Diversity Alliance\" \"Chadra-Fan male\" Chad \"Jospro sector\"', '88 88 Tuomi  \"c. 16 ABY\"  \"Bosch male\" Bosch --', '89 89 Typia  \"c. 13 ABY\" \"A member of the Daysong political faction\"  -- --', '90 90 \"Ulur, Moog\"  \"c. 35 ABY\"  \"Rodian male\" Rodia \"Savareen sector\"', '91 91 \"Verwood, Kaysil\"  \"4 ABYâ€”\"  \"Zabrak female\" Iridonia \"Glythe sector\"', '92 92 \"Wuul, Luewet\"  \"c. 44 ABY\"  \"Sullustan male\" Sullust', '93 93 Wwebyls  \"c. 17 ABY\"  \"Yn male\" Yn --', '94 94 Wynl  \"c. 25 ABY\"  \"Baragwin male\" \"the Baragwin people\" --', '95 95 \"Yar, Tolik\"  \"c. 16 ABYâ€“c. 25 ABY\" \"Member of the Council on Security and Intelligence\" \"Oolid male\" Oolidi --', '96 96 Zalk\\'t  \"c. 35 ABY\"  Vratix Thyferra \"Jaso sector\"', '97 97 Zilar  \"c. 16 ABY\" \"Member of the Senate Defense Council\" \"Human male\" Praesitlyn \"Sluis sector\"', '98 98 \"Unidentified Exodeenian senator[5]\"  \"â€”17 ABY[5]\" \"Killed during the Senate Hall bombing[5]\" \"Exodeenian male[5]\" Exodeen[5] --', '99 99 \"Unidentified Nyny senator[5]\"  \"â€”17 ABY[5]\" \"Killed during the Senate Hall bombing[5]\" \"Nyny species male[5]\" Nyny[5] \"Ash Worlds\"']\n"
     ]
    }
   ],
   "source": [
    "import os\n",
    "import pandas as pd\n",
    "\n",
    "projectname = 'Mission_Project_AdvPy2425'\n",
    "\n",
    "cwd = os.getcwd()\n",
    "projectdir = os.path.join(cwd, projectname)\n",
    "\n",
    "# Function to read lines from a file in batches\n",
    "def read_lines_in_batches(file_path, batch_size):\n",
    "    with open(file_path, 'r') as file:\n",
    "        batch = []\n",
    "        for line in file:\n",
    "            batch.append(line.strip())\n",
    "            if len(batch) == batch_size:\n",
    "                yield batch\n",
    "                batch = []\n",
    "        if batch:\n",
    "            yield batch\n",
    "\n",
    "# Process lines from the file in batches\n",
    "file_path = os.path.join(projectdir,'mission3_data.txt')\n",
    "batch_size = 100\n",
    "for batch in read_lines_in_batches(file_path, batch_size):\n",
    "    # Replace the following line with actual processing logic\n",
    "    print(f\"Processing batch: {batch}\")"
   ]
  },
  {
   "cell_type": "markdown",
   "metadata": {},
   "source": [
    "#### <b>4.6. Iterating over files in a directory</b>"
   ]
  },
  {
   "cell_type": "markdown",
   "metadata": {},
   "source": [
    "Sometimes you cannot systematically call the name of the data files, or is simply more practical to access a directory and process all the data files that you have in there. In this scenario, there are several python modules that can help (e.g., os, pathlib, glob) and functions within those modules (e.g., os.listdir(), os.scandir()).\n",
    "\n",
    "Method 1: os.listdir() "
   ]
  },
  {
   "cell_type": "code",
   "execution_count": null,
   "metadata": {},
   "outputs": [],
   "source": [
    "import os\n",
    "import pandas as pd\n",
    "import re\n",
    "\n",
    "projectname = 'Mission_Project_AdvPy2425'\n",
    "\n",
    "cwd = os.getcwd()\n",
    "projectdir = os.path.join(cwd, projectname)\n",
    "\n",
    "df = pd.read_csv('mission1_data.csv')\n",
    "\n",
    "species = df.species.unique() \n",
    "sex = df.sex.unique()\n",
    "\n",
    "dflist = []\n",
    "indexlist = []\n",
    "\n",
    "for i in species:\n",
    "    # species dir\n",
    "    speciesdir = os.path.join(projectdir, i)\n",
    "\n",
    "    for j in sex:\n",
    "        # sex dir\n",
    "        sexdir = os.path.join(speciesdir, j)\n",
    "\n",
    "        # if the sex directory exists, then \n",
    "        if os.path.exists(sexdir):\n",
    "            \n",
    "            # loop over files in the sex directory\n",
    "            for filename in os.listdir(sexdir):\n",
    "                if filename.endswith('.json'):\n",
    "                    # getting numbers from string \n",
    "                    #idx = int(re.findall(r'creature-(.+?).json', filename)[0])\n",
    "                    idx = int(re.findall(r'creature-(\\d+).json', filename)[0]) # be sure the index is an integer, not a string\n",
    "                    #print(idx)\n",
    "                    #print(os.path.join(sexdir,filename))\n",
    "                    # read the file\n",
    "                    df2 = pd.read_json(os.path.join(sexdir,filename), orient='columns', typ='series').to_frame().transpose().set_axis([idx])\n",
    "                    #print(df2.shape)\n",
    "                    #print(df2)\n",
    "                    dflist.append(df2)\n",
    "                    indexlist.append(idx)\n",
    "\n",
    "df3 = pd.concat(dflist)\n",
    "df3.sort_index(inplace=True)\n",
    "print(df3.shape)\n",
    "print(df3.head(10))               "
   ]
  },
  {
   "cell_type": "markdown",
   "metadata": {},
   "source": [
    "It is considered a best practice for iterating files in Python to check for file existence. Note that, in the previous example we only processed the listed files if they had the .json extension. This strategy already ensures that you will load a data file. For a more generic way of checking the existence of a file, you can use the following approaches."
   ]
  },
  {
   "cell_type": "code",
   "execution_count": null,
   "metadata": {},
   "outputs": [],
   "source": [
    "import os\n",
    "\n",
    "# assign directory\n",
    "cwd = os.getcwd()\n",
    "directory = cwd\n",
    " \n",
    "# iterate over files in\n",
    "# that directory\n",
    "for filename in os.listdir(directory):\n",
    "    f = os.path.join(directory, filename)\n",
    "    # checking if it is a file\n",
    "    if os.path.isfile(f):\n",
    "        print(filename)"
   ]
  },
  {
   "cell_type": "markdown",
   "metadata": {},
   "source": [
    "Method 2: os.scandir()"
   ]
  },
  {
   "cell_type": "code",
   "execution_count": null,
   "metadata": {},
   "outputs": [],
   "source": [
    "import os\n",
    " \n",
    "# assign directory\n",
    "cwd = os.getcwd()\n",
    "directory = cwd\n",
    " \n",
    "# iterate over files in \n",
    "# that directory\n",
    "for filename in os.scandir(directory):\n",
    "    if filename.is_file():\n",
    "        print(filename.name)"
   ]
  },
  {
   "cell_type": "markdown",
   "metadata": {},
   "source": [
    "Method 3: pathlib module"
   ]
  },
  {
   "cell_type": "code",
   "execution_count": null,
   "metadata": {},
   "outputs": [],
   "source": [
    "# import required module\n",
    "from pathlib import Path\n",
    " \n",
    "# assign directory\n",
    "cwd = Path.cwd()\n",
    "directory = cwd\n",
    " \n",
    "# iterate over files in that directory\n",
    "files = Path(directory).glob('*')\n",
    "#files = Path(directory).glob('*.ipynb')\n",
    "for file in files:\n",
    "    if file.exists():\n",
    "        print(file.name)"
   ]
  },
  {
   "cell_type": "markdown",
   "metadata": {},
   "source": [
    "BTW, you could use one of the strategies above just to create a list of filenames to process. You don't need to process them one by one, but process them in batches using <b>for loops</b> and the <b>range()</b> function as we saw in <b>section 4.3</b>."
   ]
  },
  {
   "cell_type": "code",
   "execution_count": 55,
   "metadata": {},
   "outputs": [],
   "source": [
    "fileslist = [...]\n",
    "batchsize = 500\n",
    "\n",
    "for i in range(0, len(fileslist), batchsize):\n",
    "    batch = fileslist[i:i+batchsize] # the result might be shorter than batchsize at the end\n",
    "    # do stuff with batch"
   ]
  },
  {
   "cell_type": "markdown",
   "metadata": {},
   "source": [
    "This, applied to our data:"
   ]
  },
  {
   "cell_type": "code",
   "execution_count": null,
   "metadata": {},
   "outputs": [
    {
     "name": "stdout",
     "output_type": "stream",
     "text": [
      "['c:\\\\Users\\\\maite\\\\OneDrive\\\\Documents\\\\PERSONAL\\\\LEARNING\\\\LearningProgramming\\\\Python\\\\Advanced_Python_Course\\\\Material_to_upload\\\\Code\\\\Sessions_in_JupyterNotebooks\\\\Mission_Project_AdvPy2425\\\\Human\\\\male\\\\creature-0.json', 'c:\\\\Users\\\\maite\\\\OneDrive\\\\Documents\\\\PERSONAL\\\\LEARNING\\\\LearningProgramming\\\\Python\\\\Advanced_Python_Course\\\\Material_to_upload\\\\Code\\\\Sessions_in_JupyterNotebooks\\\\Mission_Project_AdvPy2425\\\\Human\\\\male\\\\creature-10.json', 'c:\\\\Users\\\\maite\\\\OneDrive\\\\Documents\\\\PERSONAL\\\\LEARNING\\\\LearningProgramming\\\\Python\\\\Advanced_Python_Course\\\\Material_to_upload\\\\Code\\\\Sessions_in_JupyterNotebooks\\\\Mission_Project_AdvPy2425\\\\Human\\\\male\\\\creature-11.json', 'c:\\\\Users\\\\maite\\\\OneDrive\\\\Documents\\\\PERSONAL\\\\LEARNING\\\\LearningProgramming\\\\Python\\\\Advanced_Python_Course\\\\Material_to_upload\\\\Code\\\\Sessions_in_JupyterNotebooks\\\\Mission_Project_AdvPy2425\\\\Human\\\\male\\\\creature-13.json', 'c:\\\\Users\\\\maite\\\\OneDrive\\\\Documents\\\\PERSONAL\\\\LEARNING\\\\LearningProgramming\\\\Python\\\\Advanced_Python_Course\\\\Material_to_upload\\\\Code\\\\Sessions_in_JupyterNotebooks\\\\Mission_Project_AdvPy2425\\\\Human\\\\male\\\\creature-16.json', 'c:\\\\Users\\\\maite\\\\OneDrive\\\\Documents\\\\PERSONAL\\\\LEARNING\\\\LearningProgramming\\\\Python\\\\Advanced_Python_Course\\\\Material_to_upload\\\\Code\\\\Sessions_in_JupyterNotebooks\\\\Mission_Project_AdvPy2425\\\\Human\\\\male\\\\creature-17.json', 'c:\\\\Users\\\\maite\\\\OneDrive\\\\Documents\\\\PERSONAL\\\\LEARNING\\\\LearningProgramming\\\\Python\\\\Advanced_Python_Course\\\\Material_to_upload\\\\Code\\\\Sessions_in_JupyterNotebooks\\\\Mission_Project_AdvPy2425\\\\Human\\\\male\\\\creature-19.json', 'c:\\\\Users\\\\maite\\\\OneDrive\\\\Documents\\\\PERSONAL\\\\LEARNING\\\\LearningProgramming\\\\Python\\\\Advanced_Python_Course\\\\Material_to_upload\\\\Code\\\\Sessions_in_JupyterNotebooks\\\\Mission_Project_AdvPy2425\\\\Human\\\\male\\\\creature-20.json', 'c:\\\\Users\\\\maite\\\\OneDrive\\\\Documents\\\\PERSONAL\\\\LEARNING\\\\LearningProgramming\\\\Python\\\\Advanced_Python_Course\\\\Material_to_upload\\\\Code\\\\Sessions_in_JupyterNotebooks\\\\Mission_Project_AdvPy2425\\\\Human\\\\male\\\\creature-23.json', 'c:\\\\Users\\\\maite\\\\OneDrive\\\\Documents\\\\PERSONAL\\\\LEARNING\\\\LearningProgramming\\\\Python\\\\Advanced_Python_Course\\\\Material_to_upload\\\\Code\\\\Sessions_in_JupyterNotebooks\\\\Mission_Project_AdvPy2425\\\\Human\\\\male\\\\creature-24.json', 'c:\\\\Users\\\\maite\\\\OneDrive\\\\Documents\\\\PERSONAL\\\\LEARNING\\\\LearningProgramming\\\\Python\\\\Advanced_Python_Course\\\\Material_to_upload\\\\Code\\\\Sessions_in_JupyterNotebooks\\\\Mission_Project_AdvPy2425\\\\Human\\\\male\\\\creature-27.json', 'c:\\\\Users\\\\maite\\\\OneDrive\\\\Documents\\\\PERSONAL\\\\LEARNING\\\\LearningProgramming\\\\Python\\\\Advanced_Python_Course\\\\Material_to_upload\\\\Code\\\\Sessions_in_JupyterNotebooks\\\\Mission_Project_AdvPy2425\\\\Human\\\\male\\\\creature-3.json', 'c:\\\\Users\\\\maite\\\\OneDrive\\\\Documents\\\\PERSONAL\\\\LEARNING\\\\LearningProgramming\\\\Python\\\\Advanced_Python_Course\\\\Material_to_upload\\\\Code\\\\Sessions_in_JupyterNotebooks\\\\Mission_Project_AdvPy2425\\\\Human\\\\male\\\\creature-30.json', 'c:\\\\Users\\\\maite\\\\OneDrive\\\\Documents\\\\PERSONAL\\\\LEARNING\\\\LearningProgramming\\\\Python\\\\Advanced_Python_Course\\\\Material_to_upload\\\\Code\\\\Sessions_in_JupyterNotebooks\\\\Mission_Project_AdvPy2425\\\\Human\\\\male\\\\creature-32.json', 'c:\\\\Users\\\\maite\\\\OneDrive\\\\Documents\\\\PERSONAL\\\\LEARNING\\\\LearningProgramming\\\\Python\\\\Advanced_Python_Course\\\\Material_to_upload\\\\Code\\\\Sessions_in_JupyterNotebooks\\\\Mission_Project_AdvPy2425\\\\Human\\\\male\\\\creature-37.json', 'c:\\\\Users\\\\maite\\\\OneDrive\\\\Documents\\\\PERSONAL\\\\LEARNING\\\\LearningProgramming\\\\Python\\\\Advanced_Python_Course\\\\Material_to_upload\\\\Code\\\\Sessions_in_JupyterNotebooks\\\\Mission_Project_AdvPy2425\\\\Human\\\\male\\\\creature-40.json', 'c:\\\\Users\\\\maite\\\\OneDrive\\\\Documents\\\\PERSONAL\\\\LEARNING\\\\LearningProgramming\\\\Python\\\\Advanced_Python_Course\\\\Material_to_upload\\\\Code\\\\Sessions_in_JupyterNotebooks\\\\Mission_Project_AdvPy2425\\\\Human\\\\male\\\\creature-49.json', 'c:\\\\Users\\\\maite\\\\OneDrive\\\\Documents\\\\PERSONAL\\\\LEARNING\\\\LearningProgramming\\\\Python\\\\Advanced_Python_Course\\\\Material_to_upload\\\\Code\\\\Sessions_in_JupyterNotebooks\\\\Mission_Project_AdvPy2425\\\\Human\\\\male\\\\creature-5.json', 'c:\\\\Users\\\\maite\\\\OneDrive\\\\Documents\\\\PERSONAL\\\\LEARNING\\\\LearningProgramming\\\\Python\\\\Advanced_Python_Course\\\\Material_to_upload\\\\Code\\\\Sessions_in_JupyterNotebooks\\\\Mission_Project_AdvPy2425\\\\Human\\\\male\\\\creature-58.json', 'c:\\\\Users\\\\maite\\\\OneDrive\\\\Documents\\\\PERSONAL\\\\LEARNING\\\\LearningProgramming\\\\Python\\\\Advanced_Python_Course\\\\Material_to_upload\\\\Code\\\\Sessions_in_JupyterNotebooks\\\\Mission_Project_AdvPy2425\\\\Human\\\\male\\\\creature-60.json', 'c:\\\\Users\\\\maite\\\\OneDrive\\\\Documents\\\\PERSONAL\\\\LEARNING\\\\LearningProgramming\\\\Python\\\\Advanced_Python_Course\\\\Material_to_upload\\\\Code\\\\Sessions_in_JupyterNotebooks\\\\Mission_Project_AdvPy2425\\\\Human\\\\male\\\\creature-65.json', 'c:\\\\Users\\\\maite\\\\OneDrive\\\\Documents\\\\PERSONAL\\\\LEARNING\\\\LearningProgramming\\\\Python\\\\Advanced_Python_Course\\\\Material_to_upload\\\\Code\\\\Sessions_in_JupyterNotebooks\\\\Mission_Project_AdvPy2425\\\\Human\\\\male\\\\creature-66.json', 'c:\\\\Users\\\\maite\\\\OneDrive\\\\Documents\\\\PERSONAL\\\\LEARNING\\\\LearningProgramming\\\\Python\\\\Advanced_Python_Course\\\\Material_to_upload\\\\Code\\\\Sessions_in_JupyterNotebooks\\\\Mission_Project_AdvPy2425\\\\Human\\\\male\\\\creature-67.json', 'c:\\\\Users\\\\maite\\\\OneDrive\\\\Documents\\\\PERSONAL\\\\LEARNING\\\\LearningProgramming\\\\Python\\\\Advanced_Python_Course\\\\Material_to_upload\\\\Code\\\\Sessions_in_JupyterNotebooks\\\\Mission_Project_AdvPy2425\\\\Human\\\\male\\\\creature-79.json', 'c:\\\\Users\\\\maite\\\\OneDrive\\\\Documents\\\\PERSONAL\\\\LEARNING\\\\LearningProgramming\\\\Python\\\\Advanced_Python_Course\\\\Material_to_upload\\\\Code\\\\Sessions_in_JupyterNotebooks\\\\Mission_Project_AdvPy2425\\\\Human\\\\male\\\\creature-8.json', 'c:\\\\Users\\\\maite\\\\OneDrive\\\\Documents\\\\PERSONAL\\\\LEARNING\\\\LearningProgramming\\\\Python\\\\Advanced_Python_Course\\\\Material_to_upload\\\\Code\\\\Sessions_in_JupyterNotebooks\\\\Mission_Project_AdvPy2425\\\\Human\\\\male\\\\creature-82.json', 'c:\\\\Users\\\\maite\\\\OneDrive\\\\Documents\\\\PERSONAL\\\\LEARNING\\\\LearningProgramming\\\\Python\\\\Advanced_Python_Course\\\\Material_to_upload\\\\Code\\\\Sessions_in_JupyterNotebooks\\\\Mission_Project_AdvPy2425\\\\Human\\\\male\\\\creature-84.json', 'c:\\\\Users\\\\maite\\\\OneDrive\\\\Documents\\\\PERSONAL\\\\LEARNING\\\\LearningProgramming\\\\Python\\\\Advanced_Python_Course\\\\Material_to_upload\\\\Code\\\\Sessions_in_JupyterNotebooks\\\\Mission_Project_AdvPy2425\\\\Human\\\\male\\\\creature-9.json', 'c:\\\\Users\\\\maite\\\\OneDrive\\\\Documents\\\\PERSONAL\\\\LEARNING\\\\LearningProgramming\\\\Python\\\\Advanced_Python_Course\\\\Material_to_upload\\\\Code\\\\Sessions_in_JupyterNotebooks\\\\Mission_Project_AdvPy2425\\\\Human\\\\female\\\\creature-26.json', 'c:\\\\Users\\\\maite\\\\OneDrive\\\\Documents\\\\PERSONAL\\\\LEARNING\\\\LearningProgramming\\\\Python\\\\Advanced_Python_Course\\\\Material_to_upload\\\\Code\\\\Sessions_in_JupyterNotebooks\\\\Mission_Project_AdvPy2425\\\\Human\\\\female\\\\creature-33.json', 'c:\\\\Users\\\\maite\\\\OneDrive\\\\Documents\\\\PERSONAL\\\\LEARNING\\\\LearningProgramming\\\\Python\\\\Advanced_Python_Course\\\\Material_to_upload\\\\Code\\\\Sessions_in_JupyterNotebooks\\\\Mission_Project_AdvPy2425\\\\Human\\\\female\\\\creature-4.json', 'c:\\\\Users\\\\maite\\\\OneDrive\\\\Documents\\\\PERSONAL\\\\LEARNING\\\\LearningProgramming\\\\Python\\\\Advanced_Python_Course\\\\Material_to_upload\\\\Code\\\\Sessions_in_JupyterNotebooks\\\\Mission_Project_AdvPy2425\\\\Human\\\\female\\\\creature-41.json', 'c:\\\\Users\\\\maite\\\\OneDrive\\\\Documents\\\\PERSONAL\\\\LEARNING\\\\LearningProgramming\\\\Python\\\\Advanced_Python_Course\\\\Material_to_upload\\\\Code\\\\Sessions_in_JupyterNotebooks\\\\Mission_Project_AdvPy2425\\\\Human\\\\female\\\\creature-59.json', 'c:\\\\Users\\\\maite\\\\OneDrive\\\\Documents\\\\PERSONAL\\\\LEARNING\\\\LearningProgramming\\\\Python\\\\Advanced_Python_Course\\\\Material_to_upload\\\\Code\\\\Sessions_in_JupyterNotebooks\\\\Mission_Project_AdvPy2425\\\\Human\\\\female\\\\creature-6.json', 'c:\\\\Users\\\\maite\\\\OneDrive\\\\Documents\\\\PERSONAL\\\\LEARNING\\\\LearningProgramming\\\\Python\\\\Advanced_Python_Course\\\\Material_to_upload\\\\Code\\\\Sessions_in_JupyterNotebooks\\\\Mission_Project_AdvPy2425\\\\Human\\\\female\\\\creature-64.json', 'c:\\\\Users\\\\maite\\\\OneDrive\\\\Documents\\\\PERSONAL\\\\LEARNING\\\\LearningProgramming\\\\Python\\\\Advanced_Python_Course\\\\Material_to_upload\\\\Code\\\\Sessions_in_JupyterNotebooks\\\\Mission_Project_AdvPy2425\\\\Human\\\\female\\\\creature-72.json', 'c:\\\\Users\\\\maite\\\\OneDrive\\\\Documents\\\\PERSONAL\\\\LEARNING\\\\LearningProgramming\\\\Python\\\\Advanced_Python_Course\\\\Material_to_upload\\\\Code\\\\Sessions_in_JupyterNotebooks\\\\Mission_Project_AdvPy2425\\\\Human\\\\female\\\\creature-83.json', 'c:\\\\Users\\\\maite\\\\OneDrive\\\\Documents\\\\PERSONAL\\\\LEARNING\\\\LearningProgramming\\\\Python\\\\Advanced_Python_Course\\\\Material_to_upload\\\\Code\\\\Sessions_in_JupyterNotebooks\\\\Mission_Project_AdvPy2425\\\\Human\\\\female\\\\creature-86.json', 'c:\\\\Users\\\\maite\\\\OneDrive\\\\Documents\\\\PERSONAL\\\\LEARNING\\\\LearningProgramming\\\\Python\\\\Advanced_Python_Course\\\\Material_to_upload\\\\Code\\\\Sessions_in_JupyterNotebooks\\\\Mission_Project_AdvPy2425\\\\Droid\\\\none\\\\creature-1.json', 'c:\\\\Users\\\\maite\\\\OneDrive\\\\Documents\\\\PERSONAL\\\\LEARNING\\\\LearningProgramming\\\\Python\\\\Advanced_Python_Course\\\\Material_to_upload\\\\Code\\\\Sessions_in_JupyterNotebooks\\\\Mission_Project_AdvPy2425\\\\Droid\\\\none\\\\creature-2.json', 'c:\\\\Users\\\\maite\\\\OneDrive\\\\Documents\\\\PERSONAL\\\\LEARNING\\\\LearningProgramming\\\\Python\\\\Advanced_Python_Course\\\\Material_to_upload\\\\Code\\\\Sessions_in_JupyterNotebooks\\\\Mission_Project_AdvPy2425\\\\Droid\\\\none\\\\creature-21.json', 'c:\\\\Users\\\\maite\\\\OneDrive\\\\Documents\\\\PERSONAL\\\\LEARNING\\\\LearningProgramming\\\\Python\\\\Advanced_Python_Course\\\\Material_to_upload\\\\Code\\\\Sessions_in_JupyterNotebooks\\\\Mission_Project_AdvPy2425\\\\Droid\\\\none\\\\creature-7.json', 'c:\\\\Users\\\\maite\\\\OneDrive\\\\Documents\\\\PERSONAL\\\\LEARNING\\\\LearningProgramming\\\\Python\\\\Advanced_Python_Course\\\\Material_to_upload\\\\Code\\\\Sessions_in_JupyterNotebooks\\\\Mission_Project_AdvPy2425\\\\Droid\\\\none\\\\creature-73.json', 'c:\\\\Users\\\\maite\\\\OneDrive\\\\Documents\\\\PERSONAL\\\\LEARNING\\\\LearningProgramming\\\\Python\\\\Advanced_Python_Course\\\\Material_to_upload\\\\Code\\\\Sessions_in_JupyterNotebooks\\\\Mission_Project_AdvPy2425\\\\Droid\\\\none\\\\creature-85.json', 'c:\\\\Users\\\\maite\\\\OneDrive\\\\Documents\\\\PERSONAL\\\\LEARNING\\\\LearningProgramming\\\\Python\\\\Advanced_Python_Course\\\\Material_to_upload\\\\Code\\\\Sessions_in_JupyterNotebooks\\\\Mission_Project_AdvPy2425\\\\Wookiee\\\\male\\\\creature-12.json', 'c:\\\\Users\\\\maite\\\\OneDrive\\\\Documents\\\\PERSONAL\\\\LEARNING\\\\LearningProgramming\\\\Python\\\\Advanced_Python_Course\\\\Material_to_upload\\\\Code\\\\Sessions_in_JupyterNotebooks\\\\Mission_Project_AdvPy2425\\\\Wookiee\\\\male\\\\creature-78.json', 'c:\\\\Users\\\\maite\\\\OneDrive\\\\Documents\\\\PERSONAL\\\\LEARNING\\\\LearningProgramming\\\\Python\\\\Advanced_Python_Course\\\\Material_to_upload\\\\Code\\\\Sessions_in_JupyterNotebooks\\\\Mission_Project_AdvPy2425\\\\Rodian\\\\male\\\\creature-14.json', 'c:\\\\Users\\\\maite\\\\OneDrive\\\\Documents\\\\PERSONAL\\\\LEARNING\\\\LearningProgramming\\\\Python\\\\Advanced_Python_Course\\\\Material_to_upload\\\\Code\\\\Sessions_in_JupyterNotebooks\\\\Mission_Project_AdvPy2425\\\\Hutt\\\\hermaphroditic\\\\creature-15.json', \"c:\\\\Users\\\\maite\\\\OneDrive\\\\Documents\\\\PERSONAL\\\\LEARNING\\\\LearningProgramming\\\\Python\\\\Advanced_Python_Course\\\\Material_to_upload\\\\Code\\\\Sessions_in_JupyterNotebooks\\\\Mission_Project_AdvPy2425\\\\Yoda's species\\\\male\\\\creature-18.json\", 'c:\\\\Users\\\\maite\\\\OneDrive\\\\Documents\\\\PERSONAL\\\\LEARNING\\\\LearningProgramming\\\\Python\\\\Advanced_Python_Course\\\\Material_to_upload\\\\Code\\\\Sessions_in_JupyterNotebooks\\\\Mission_Project_AdvPy2425\\\\Trandoshan\\\\male\\\\creature-22.json', 'c:\\\\Users\\\\maite\\\\OneDrive\\\\Documents\\\\PERSONAL\\\\LEARNING\\\\LearningProgramming\\\\Python\\\\Advanced_Python_Course\\\\Material_to_upload\\\\Code\\\\Sessions_in_JupyterNotebooks\\\\Mission_Project_AdvPy2425\\\\Mon Calamari\\\\male\\\\creature-25.json', 'c:\\\\Users\\\\maite\\\\OneDrive\\\\Documents\\\\PERSONAL\\\\LEARNING\\\\LearningProgramming\\\\Python\\\\Advanced_Python_Course\\\\Material_to_upload\\\\Code\\\\Sessions_in_JupyterNotebooks\\\\Mission_Project_AdvPy2425\\\\Ewok\\\\male\\\\creature-28.json', 'c:\\\\Users\\\\maite\\\\OneDrive\\\\Documents\\\\PERSONAL\\\\LEARNING\\\\LearningProgramming\\\\Python\\\\Advanced_Python_Course\\\\Material_to_upload\\\\Code\\\\Sessions_in_JupyterNotebooks\\\\Mission_Project_AdvPy2425\\\\Sullustan\\\\male\\\\creature-29.json', 'c:\\\\Users\\\\maite\\\\OneDrive\\\\Documents\\\\PERSONAL\\\\LEARNING\\\\LearningProgramming\\\\Python\\\\Advanced_Python_Course\\\\Material_to_upload\\\\Code\\\\Sessions_in_JupyterNotebooks\\\\Mission_Project_AdvPy2425\\\\Neimodian\\\\male\\\\creature-31.json', 'c:\\\\Users\\\\maite\\\\OneDrive\\\\Documents\\\\PERSONAL\\\\LEARNING\\\\LearningProgramming\\\\Python\\\\Advanced_Python_Course\\\\Material_to_upload\\\\Code\\\\Sessions_in_JupyterNotebooks\\\\Mission_Project_AdvPy2425\\\\Gungan\\\\male\\\\creature-34.json', 'c:\\\\Users\\\\maite\\\\OneDrive\\\\Documents\\\\PERSONAL\\\\LEARNING\\\\LearningProgramming\\\\Python\\\\Advanced_Python_Course\\\\Material_to_upload\\\\Code\\\\Sessions_in_JupyterNotebooks\\\\Mission_Project_AdvPy2425\\\\Gungan\\\\male\\\\creature-35.json', 'c:\\\\Users\\\\maite\\\\OneDrive\\\\Documents\\\\PERSONAL\\\\LEARNING\\\\LearningProgramming\\\\Python\\\\Advanced_Python_Course\\\\Material_to_upload\\\\Code\\\\Sessions_in_JupyterNotebooks\\\\Mission_Project_AdvPy2425\\\\Gungan\\\\male\\\\creature-36.json', 'c:\\\\Users\\\\maite\\\\OneDrive\\\\Documents\\\\PERSONAL\\\\LEARNING\\\\LearningProgramming\\\\Python\\\\Advanced_Python_Course\\\\Material_to_upload\\\\Code\\\\Sessions_in_JupyterNotebooks\\\\Mission_Project_AdvPy2425\\\\Toydarian\\\\male\\\\creature-38.json', 'c:\\\\Users\\\\maite\\\\OneDrive\\\\Documents\\\\PERSONAL\\\\LEARNING\\\\LearningProgramming\\\\Python\\\\Advanced_Python_Course\\\\Material_to_upload\\\\Code\\\\Sessions_in_JupyterNotebooks\\\\Mission_Project_AdvPy2425\\\\Dug\\\\male\\\\creature-39.json', 'c:\\\\Users\\\\maite\\\\OneDrive\\\\Documents\\\\PERSONAL\\\\LEARNING\\\\LearningProgramming\\\\Python\\\\Advanced_Python_Course\\\\Material_to_upload\\\\Code\\\\Sessions_in_JupyterNotebooks\\\\Mission_Project_AdvPy2425\\\\Zabrak\\\\male\\\\creature-42.json', \"c:\\\\Users\\\\maite\\\\OneDrive\\\\Documents\\\\PERSONAL\\\\LEARNING\\\\LearningProgramming\\\\Python\\\\Advanced_Python_Course\\\\Material_to_upload\\\\Code\\\\Sessions_in_JupyterNotebooks\\\\Mission_Project_AdvPy2425\\\\Twi'lek\\\\male\\\\creature-43.json\", \"c:\\\\Users\\\\maite\\\\OneDrive\\\\Documents\\\\PERSONAL\\\\LEARNING\\\\LearningProgramming\\\\Python\\\\Advanced_Python_Course\\\\Material_to_upload\\\\Code\\\\Sessions_in_JupyterNotebooks\\\\Mission_Project_AdvPy2425\\\\Twi'lek\\\\female\\\\creature-44.json\", 'c:\\\\Users\\\\maite\\\\OneDrive\\\\Documents\\\\PERSONAL\\\\LEARNING\\\\LearningProgramming\\\\Python\\\\Advanced_Python_Course\\\\Material_to_upload\\\\Code\\\\Sessions_in_JupyterNotebooks\\\\Mission_Project_AdvPy2425\\\\Aleena\\\\male\\\\creature-45.json', 'c:\\\\Users\\\\maite\\\\OneDrive\\\\Documents\\\\PERSONAL\\\\LEARNING\\\\LearningProgramming\\\\Python\\\\Advanced_Python_Course\\\\Material_to_upload\\\\Code\\\\Sessions_in_JupyterNotebooks\\\\Mission_Project_AdvPy2425\\\\Vulptereen\\\\male\\\\creature-46.json', 'c:\\\\Users\\\\maite\\\\OneDrive\\\\Documents\\\\PERSONAL\\\\LEARNING\\\\LearningProgramming\\\\Python\\\\Advanced_Python_Course\\\\Material_to_upload\\\\Code\\\\Sessions_in_JupyterNotebooks\\\\Mission_Project_AdvPy2425\\\\Xexto\\\\male\\\\creature-47.json', 'c:\\\\Users\\\\maite\\\\OneDrive\\\\Documents\\\\PERSONAL\\\\LEARNING\\\\LearningProgramming\\\\Python\\\\Advanced_Python_Course\\\\Material_to_upload\\\\Code\\\\Sessions_in_JupyterNotebooks\\\\Mission_Project_AdvPy2425\\\\Toong\\\\male\\\\creature-48.json', 'c:\\\\Users\\\\maite\\\\OneDrive\\\\Documents\\\\PERSONAL\\\\LEARNING\\\\LearningProgramming\\\\Python\\\\Advanced_Python_Course\\\\Material_to_upload\\\\Code\\\\Sessions_in_JupyterNotebooks\\\\Mission_Project_AdvPy2425\\\\Cerean\\\\male\\\\creature-50.json', 'c:\\\\Users\\\\maite\\\\OneDrive\\\\Documents\\\\PERSONAL\\\\LEARNING\\\\LearningProgramming\\\\Python\\\\Advanced_Python_Course\\\\Material_to_upload\\\\Code\\\\Sessions_in_JupyterNotebooks\\\\Mission_Project_AdvPy2425\\\\Nautolan\\\\male\\\\creature-51.json', 'c:\\\\Users\\\\maite\\\\OneDrive\\\\Documents\\\\PERSONAL\\\\LEARNING\\\\LearningProgramming\\\\Python\\\\Advanced_Python_Course\\\\Material_to_upload\\\\Code\\\\Sessions_in_JupyterNotebooks\\\\Mission_Project_AdvPy2425\\\\Iridonian Zabrak\\\\male\\\\creature-52.json', 'c:\\\\Users\\\\maite\\\\OneDrive\\\\Documents\\\\PERSONAL\\\\LEARNING\\\\LearningProgramming\\\\Python\\\\Advanced_Python_Course\\\\Material_to_upload\\\\Code\\\\Sessions_in_JupyterNotebooks\\\\Mission_Project_AdvPy2425\\\\Tholothian\\\\female\\\\creature-53.json', 'c:\\\\Users\\\\maite\\\\OneDrive\\\\Documents\\\\PERSONAL\\\\LEARNING\\\\LearningProgramming\\\\Python\\\\Advanced_Python_Course\\\\Material_to_upload\\\\Code\\\\Sessions_in_JupyterNotebooks\\\\Mission_Project_AdvPy2425\\\\Iktotchi\\\\male\\\\creature-54.json', 'c:\\\\Users\\\\maite\\\\OneDrive\\\\Documents\\\\PERSONAL\\\\LEARNING\\\\LearningProgramming\\\\Python\\\\Advanced_Python_Course\\\\Material_to_upload\\\\Code\\\\Sessions_in_JupyterNotebooks\\\\Mission_Project_AdvPy2425\\\\Quermian\\\\male\\\\creature-55.json', 'c:\\\\Users\\\\maite\\\\OneDrive\\\\Documents\\\\PERSONAL\\\\LEARNING\\\\LearningProgramming\\\\Python\\\\Advanced_Python_Course\\\\Material_to_upload\\\\Code\\\\Sessions_in_JupyterNotebooks\\\\Mission_Project_AdvPy2425\\\\Kel Dor\\\\male\\\\creature-56.json', 'c:\\\\Users\\\\maite\\\\OneDrive\\\\Documents\\\\PERSONAL\\\\LEARNING\\\\LearningProgramming\\\\Python\\\\Advanced_Python_Course\\\\Material_to_upload\\\\Code\\\\Sessions_in_JupyterNotebooks\\\\Mission_Project_AdvPy2425\\\\Chagrian\\\\male\\\\creature-57.json', 'c:\\\\Users\\\\maite\\\\OneDrive\\\\Documents\\\\PERSONAL\\\\LEARNING\\\\LearningProgramming\\\\Python\\\\Advanced_Python_Course\\\\Material_to_upload\\\\Code\\\\Sessions_in_JupyterNotebooks\\\\Mission_Project_AdvPy2425\\\\Geonosian\\\\male\\\\creature-61.json', 'c:\\\\Users\\\\maite\\\\OneDrive\\\\Documents\\\\PERSONAL\\\\LEARNING\\\\LearningProgramming\\\\Python\\\\Advanced_Python_Course\\\\Material_to_upload\\\\Code\\\\Sessions_in_JupyterNotebooks\\\\Mission_Project_AdvPy2425\\\\Mirialan\\\\female\\\\creature-62.json', 'c:\\\\Users\\\\maite\\\\OneDrive\\\\Documents\\\\PERSONAL\\\\LEARNING\\\\LearningProgramming\\\\Python\\\\Advanced_Python_Course\\\\Material_to_upload\\\\Code\\\\Sessions_in_JupyterNotebooks\\\\Mission_Project_AdvPy2425\\\\Mirialan\\\\female\\\\creature-63.json', 'c:\\\\Users\\\\maite\\\\OneDrive\\\\Documents\\\\PERSONAL\\\\LEARNING\\\\LearningProgramming\\\\Python\\\\Advanced_Python_Course\\\\Material_to_upload\\\\Code\\\\Sessions_in_JupyterNotebooks\\\\Mission_Project_AdvPy2425\\\\Clawdite\\\\female\\\\creature-68.json', 'c:\\\\Users\\\\maite\\\\OneDrive\\\\Documents\\\\PERSONAL\\\\LEARNING\\\\LearningProgramming\\\\Python\\\\Advanced_Python_Course\\\\Material_to_upload\\\\Code\\\\Sessions_in_JupyterNotebooks\\\\Mission_Project_AdvPy2425\\\\Besalisk\\\\male\\\\creature-69.json', 'c:\\\\Users\\\\maite\\\\OneDrive\\\\Documents\\\\PERSONAL\\\\LEARNING\\\\LearningProgramming\\\\Python\\\\Advanced_Python_Course\\\\Material_to_upload\\\\Code\\\\Sessions_in_JupyterNotebooks\\\\Mission_Project_AdvPy2425\\\\Kaminoan\\\\male\\\\creature-70.json', 'c:\\\\Users\\\\maite\\\\OneDrive\\\\Documents\\\\PERSONAL\\\\LEARNING\\\\LearningProgramming\\\\Python\\\\Advanced_Python_Course\\\\Material_to_upload\\\\Code\\\\Sessions_in_JupyterNotebooks\\\\Mission_Project_AdvPy2425\\\\Kaminoan\\\\female\\\\creature-71.json', 'c:\\\\Users\\\\maite\\\\OneDrive\\\\Documents\\\\PERSONAL\\\\LEARNING\\\\LearningProgramming\\\\Python\\\\Advanced_Python_Course\\\\Material_to_upload\\\\Code\\\\Sessions_in_JupyterNotebooks\\\\Mission_Project_AdvPy2425\\\\Skakoan\\\\male\\\\creature-74.json', 'c:\\\\Users\\\\maite\\\\OneDrive\\\\Documents\\\\PERSONAL\\\\LEARNING\\\\LearningProgramming\\\\Python\\\\Advanced_Python_Course\\\\Material_to_upload\\\\Code\\\\Sessions_in_JupyterNotebooks\\\\Mission_Project_AdvPy2425\\\\Muun\\\\male\\\\creature-75.json', 'c:\\\\Users\\\\maite\\\\OneDrive\\\\Documents\\\\PERSONAL\\\\LEARNING\\\\LearningProgramming\\\\Python\\\\Advanced_Python_Course\\\\Material_to_upload\\\\Code\\\\Sessions_in_JupyterNotebooks\\\\Mission_Project_AdvPy2425\\\\Togruta\\\\female\\\\creature-76.json', 'c:\\\\Users\\\\maite\\\\OneDrive\\\\Documents\\\\PERSONAL\\\\LEARNING\\\\LearningProgramming\\\\Python\\\\Advanced_Python_Course\\\\Material_to_upload\\\\Code\\\\Sessions_in_JupyterNotebooks\\\\Mission_Project_AdvPy2425\\\\Kaleesh\\\\male\\\\creature-77.json', 'c:\\\\Users\\\\maite\\\\OneDrive\\\\Documents\\\\PERSONAL\\\\LEARNING\\\\LearningProgramming\\\\Python\\\\Advanced_Python_Course\\\\Material_to_upload\\\\Code\\\\Sessions_in_JupyterNotebooks\\\\Mission_Project_AdvPy2425\\\\Umbaran\\\\female\\\\creature-80.json', \"c:\\\\Users\\\\maite\\\\OneDrive\\\\Documents\\\\PERSONAL\\\\LEARNING\\\\LearningProgramming\\\\Python\\\\Advanced_Python_Course\\\\Material_to_upload\\\\Code\\\\Sessions_in_JupyterNotebooks\\\\Mission_Project_AdvPy2425\\\\Pau'an\\\\male\\\\creature-81.json\"]\n"
     ]
    }
   ],
   "source": [
    "import os\n",
    "import pandas as pd\n",
    "import re\n",
    "\n",
    "projectname = 'Mission_Project_AdvPy2425'\n",
    "\n",
    "cwd = os.getcwd()\n",
    "projectdir = os.path.join(cwd, projectname)\n",
    "\n",
    "df = pd.read_csv('mission1_data.csv')\n",
    "\n",
    "species = df.species.unique() \n",
    "sex = df.sex.unique()\n",
    "\n",
    "fileslist = []\n",
    "indexlist = []\n",
    "\n",
    "for i in species:\n",
    "    # species dir\n",
    "    speciesdir = os.path.join(projectdir, i)\n",
    "\n",
    "    for j in sex:\n",
    "        # sex dir\n",
    "        sexdir = os.path.join(speciesdir, j)\n",
    "\n",
    "        # if the sex directory exists, then \n",
    "        if os.path.exists(sexdir):\n",
    "            \n",
    "            # loop over files in the sex directory\n",
    "            for filename in os.listdir(sexdir):\n",
    "                if filename.endswith('.json'):\n",
    "                    fileslist.append(os.path.join(sexdir,filename))\n",
    "                    # getting numbers from string \n",
    "                    idx = int(re.findall(r'creature-(\\d+).json', filename)[0]) # be sure the index is an integer, not a string            \n",
    "                    indexlist.append(idx)\n",
    "\n",
    "#print(fileslist)\n",
    "batchsize = 10\n",
    "\n",
    "for i in range(0, len(fileslist), batchsize):\n",
    "    batch = fileslist[i:i+batchsize] # the result might be shorter than batchsize at the end\n",
    "    # do stuff with batch\n",
    "    # e.g., load the files, create a dataframe, apply a function, save the dataframe"
   ]
  },
  {
   "cell_type": "markdown",
   "metadata": {},
   "source": [
    "#### <b>4.7. Using ```Itertools``` for processing data in batches</b>"
   ]
  },
  {
   "cell_type": "markdown",
   "metadata": {},
   "source": [
    "Itertools is a standard library module in Python that provides various functions that work on iterators to produce complex iterations. It’s a powerful toolset for handling iterable data efficiently."
   ]
  },
  {
   "cell_type": "code",
   "execution_count": null,
   "metadata": {},
   "outputs": [
    {
     "name": "stdout",
     "output_type": "stream",
     "text": [
      "Processing batch: (0, 1, 2, 3, 4)\n",
      "Processing batch: (5, 6, 7, 8, 9)\n",
      "Processing batch: (10, 11, 12, 13, 14)\n",
      "Processing batch: (15, 16, 17, 18, 19)\n"
     ]
    }
   ],
   "source": [
    "import itertools\n",
    "\n",
    "# Sample data\n",
    "data = list(range(20)) #This is a list of numbers from 0 to 19, but it couls also be a list of filenames or rows\n",
    "\n",
    "# Use itertools.batched to process data in chunks of size 5\n",
    "for batch in itertools.batched(data, 5): # This generates batches of size 5 from the data.\n",
    "    # process the `batch` tuple\n",
    "    # Replace the following line with actual processing logic\n",
    "    print(f\"Processing batch: {batch}\")"
   ]
  },
  {
   "cell_type": "code",
   "execution_count": 53,
   "metadata": {},
   "outputs": [
    {
     "name": "stdout",
     "output_type": "stream",
     "text": [
      "Processing batch: [0, 1, 2, 3, 4, 5, 6, 7, 8, 9]\n",
      "Processing batch: [10, 11, 12, 13, 14, 15, 16, 17, 18, 19]\n",
      "Processing batch: [20, 21, 22, 23, 24, 25, 26, 27, 28, 29]\n",
      "Processing batch: [30, 31, 32, 33, 34, 35, 36, 37, 38, 39]\n",
      "Processing batch: [40, 41, 42, 43, 44, 45, 46, 47, 48, 49]\n"
     ]
    }
   ],
   "source": [
    "import itertools \n",
    "\n",
    "# Sample data \n",
    "data = list(range(50)) \n",
    "\n",
    "# Batch size \n",
    "batch_size = 10 \n",
    "# \n",
    "# Process data in batches using itertools.islice \n",
    "iterator = iter(data) \n",
    "# \n",
    "for batch in iter(lambda: list(itertools.islice(iterator, batch_size)), []): \n",
    "    # Replace the following line with actual processing logic \n",
    "    print(f\"Processing batch: {batch}\")"
   ]
  }
 ],
 "metadata": {
  "kernelspec": {
   "display_name": "Python 3",
   "language": "python",
   "name": "python3"
  },
  "language_info": {
   "codemirror_mode": {
    "name": "ipython",
    "version": 3
   },
   "file_extension": ".py",
   "mimetype": "text/x-python",
   "name": "python",
   "nbconvert_exporter": "python",
   "pygments_lexer": "ipython3",
   "version": "3.12.4"
  }
 },
 "nbformat": 4,
 "nbformat_minor": 2
}
