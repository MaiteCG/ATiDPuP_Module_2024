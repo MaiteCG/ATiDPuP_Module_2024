{
 "cells": [
  {
   "cell_type": "markdown",
   "metadata": {},
   "source": [
    "# <b>CaRM Module: Advanced Topics in Data Preparation Using Python (2024/2025)</b>\n",
    "## <b>Exercises for Session 02</b>"
   ]
  },
  {
   "cell_type": "markdown",
   "metadata": {},
   "source": [
    "### Exercise 1: Create a Boolean Column with .apply() method\n",
    "\n",
    "Use the .apply() method to create a boolean column based on a condition.<br> \n",
    "Step1. Start creating a dataframe from the dictionary below.<br>\n",
    "Step2. Define a function that returns True if the score is greater than or equal to 80, and False otherwise.<br>\n",
    "Step3. Use the .apply() method to create a new boolean column 'Passed' based on the 'Score' column by applying the custom function.<br>\n",
    "Step4. Display the updated DataFrame to verify the new 'Passed' column.<br>\n"
   ]
  },
  {
   "cell_type": "code",
   "execution_count": null,
   "metadata": {},
   "outputs": [],
   "source": [
    "import pandas as pd\n",
    "\n",
    "data = {\n",
    "    'Name': ['Alice', 'Bob', 'Charlie', 'David', 'Eva'],\n",
    "    'Score': [85, 90, 78, 88, 92]\n",
    "}"
   ]
  },
  {
   "cell_type": "markdown",
   "metadata": {},
   "source": [
    "### Exercise 2: Apply a Built-In Function with .apply() method\n",
    "\n",
    "Apply a built-in function to transform a DataFrame column.<br>\n",
    "Step1. Start creating a dataframe from the dictionary below.<br>\n",
    "Step2. Use the .apply() method to convert the 'Age' column to a string format.<br>\n",
    "Step3. Verify the transformation by checking the data type of the 'Age' column.<br>"
   ]
  },
  {
   "cell_type": "code",
   "execution_count": null,
   "metadata": {},
   "outputs": [],
   "source": [
    "import pandas as pd\n",
    "\n",
    "data = {\n",
    "    'Name': ['Alice', 'Bob', 'Charlie', 'David', 'Eva'],\n",
    "    'Age': [24, 27, 22, 32, 29],\n",
    "    'Score': [85, 90, 78, 88, 92]\n",
    "}"
   ]
  },
  {
   "cell_type": "markdown",
   "metadata": {},
   "source": [
    "### Exercise 3: Apply a Custom Function with .apply() method\n",
    "\n",
    "Apply a custom function to a DataFrame column.<br>\n",
    "Step1. Start creating a dataframe from the dictionary below.<br>\n",
    "Step2. Define a custom function that categorizes scores into grades. Grade A for scores equal or greater than 90; Grade C for scores less than 80; Grade B for intermediate scores.<br>\n",
    "Step3. Use the .apply() method to create a new column 'Grade' based on the 'Score' column by applying the custom function.<br>\n",
    "Step4. Display the updated DataFrame to verify the new 'Grade' column.<br>"
   ]
  },
  {
   "cell_type": "code",
   "execution_count": null,
   "metadata": {},
   "outputs": [],
   "source": [
    "import pandas as pd\n",
    "\n",
    "data = {\n",
    "    'Name': ['Alice', 'Bob', 'Charlie', 'David', 'Eva'],\n",
    "    'Score': [85, 90, 78, 88, 92]\n",
    "}"
   ]
  },
  {
   "cell_type": "markdown",
   "metadata": {},
   "source": [
    "### Exercise 4: Apply a Lambda Function with .apply() method\n",
    "\n",
    "Use a lambda function with the .apply() method to modify a DataFrame column.<br>\n",
    "Step1. Start creating a dataframe from the dictionary below.<br>\n",
    "Step2. Use a lambda function with the .apply() method to calculate the discounted price for each product and create a new column 'Discounted_Price'.<br>\n",
    "Step3. Display the updated DataFrame to verify the new 'Discounted_Price' column.<br>"
   ]
  },
  {
   "cell_type": "code",
   "execution_count": null,
   "metadata": {},
   "outputs": [],
   "source": [
    "import pandas as pd\n",
    "\n",
    "data = {\n",
    "    'Product': ['A', 'B', 'C', 'D', 'E'],\n",
    "    'Price': [100, 200, 150, 300, 250],\n",
    "    'Discount': [10, 20, 15, 30, 25]\n",
    "}"
   ]
  },
  {
   "cell_type": "markdown",
   "metadata": {},
   "source": [
    "### Exercise 5: Querying Based on Conditions\n",
    "\n",
    "Use the .query() function to filter data and create a boolean column.<br>\n",
    "Step1. Start creating a dataframe from the dictionary below.<br>\n",
    "Step2. Use the .query() function to filter rows where the 'Score' is greater than 80.<br>\n",
    "Step3. Create a boolean column 'High_Score' in the original DataFrame that is True if the 'Score' is greater than 80.<br>\n",
    "Step4. Display the updated DataFrame to verify the new 'High_Score' column."
   ]
  },
  {
   "cell_type": "code",
   "execution_count": null,
   "metadata": {},
   "outputs": [],
   "source": [
    "import pandas as pd\n",
    "\n",
    "data = {\n",
    "    'Name': ['Alice', 'Bob', 'Charlie', 'David', 'Eva'],\n",
    "    'Age': [24, 27, 22, 32, 29],\n",
    "    'Score': [85, 90, 78, 88, 92]\n",
    "}"
   ]
  },
  {
   "cell_type": "markdown",
   "metadata": {},
   "source": [
    "### Exercise 6: Querying by Combining Multiple Conditions\n",
    "\n",
    "Use the .query() function to filter data based on multiple conditions and create a boolean column.<br>\n",
    "Step1. Start creating a dataframe from the dictionary below.<br>\n",
    "Step2. Use the .query() function to filter rows where the 'Price' is greater than 150 and 'Quantity' is less than 40.<br>\n",
    "Step3. Create a boolean column 'Pricey_Low_Stock' in the original DataFrame that is True if the 'Price' is greater than 150 and 'Quantity' is less than 40.<br>\n",
    "Step4. Display the updated DataFrame to verify the new 'Pricey_Low_Stock' column."
   ]
  },
  {
   "cell_type": "code",
   "execution_count": null,
   "metadata": {},
   "outputs": [],
   "source": [
    "import pandas as pd\n",
    "\n",
    "data = {\n",
    "    'Product': ['A', 'B', 'C', 'D', 'E'],\n",
    "    'Price': [100, 200, 150, 300, 250],\n",
    "    'Quantity': [30, 20, 50, 10, 40]\n",
    "}"
   ]
  },
  {
   "cell_type": "markdown",
   "metadata": {},
   "source": [
    "### Exercise 7: Using .query() with String Conditions\n",
    "\n",
    "Use the .query() function to filter data based on string conditions and create a boolean column.<br>\n",
    "Step1. Start creating a dataframe from the dictionary below.<br>\n",
    "Step2. Use the .query() function to filter rows where the 'Department' is 'Finance'.<br>\n",
    "Step3. Create a boolean column 'Is_Finance' in the original DataFrame that is True if the 'Department' is 'Finance'.<br>\n",
    "Step4. Display the updated DataFrame to verify the new 'Is_Finance' column."
   ]
  },
  {
   "cell_type": "code",
   "execution_count": null,
   "metadata": {},
   "outputs": [],
   "source": [
    "import pandas as pd\n",
    "\n",
    "data = {\n",
    "    'Name': ['Alice', 'Bob', 'Charlie', 'David', 'Eva'],\n",
    "    'Department': ['HR', 'Finance', 'IT', 'Marketing', 'Finance'],\n",
    "    'Score': [85, 90, 78, 88, 92]\n",
    "}"
   ]
  }
 ],
 "metadata": {
  "kernelspec": {
   "display_name": "Python 3",
   "language": "python",
   "name": "python3"
  },
  "language_info": {
   "codemirror_mode": {
    "name": "ipython",
    "version": 3
   },
   "file_extension": ".py",
   "mimetype": "text/x-python",
   "name": "python",
   "nbconvert_exporter": "python",
   "pygments_lexer": "ipython3",
   "version": "3.12.4"
  }
 },
 "nbformat": 4,
 "nbformat_minor": 2
}
