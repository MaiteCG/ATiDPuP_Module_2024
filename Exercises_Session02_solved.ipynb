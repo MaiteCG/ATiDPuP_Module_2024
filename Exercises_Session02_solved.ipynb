{
 "cells": [
  {
   "cell_type": "markdown",
   "metadata": {},
   "source": [
    "# <b>CaRM Module: Advanced Topics in Data Preparation Using Python (2024/2025)</b>\n",
    "## <b>Exercises for Session 02 (Solved)</b>"
   ]
  },
  {
   "cell_type": "markdown",
   "metadata": {},
   "source": [
    "### Exercise 1: Create a Boolean Column with .apply() method\n",
    "\n",
    "Use the .apply() method to create a boolean column based on a condition.<br> \n",
    "Step1. Start creating a dataframe from the dictionary below.<br>\n",
    "Step2. Define a function that returns True if the score is greater than or equal to 80, and False otherwise.<br>\n",
    "Step3. Use the .apply() method to create a new boolean column 'Passed' based on the 'Score' column by applying the custom function.<br>\n",
    "Step4. Display the updated DataFrame to verify the new 'Passed' column.<br>\n"
   ]
  },
  {
   "cell_type": "code",
   "execution_count": 1,
   "metadata": {},
   "outputs": [
    {
     "name": "stdout",
     "output_type": "stream",
     "text": [
      "      Name  Score  Passed\n",
      "0    Alice     85    True\n",
      "1      Bob     90    True\n",
      "2  Charlie     78   False\n",
      "3    David     88    True\n",
      "4      Eva     92    True\n"
     ]
    }
   ],
   "source": [
    "import pandas as pd\n",
    "\n",
    "data = {\n",
    "    'Name': ['Alice', 'Bob', 'Charlie', 'David', 'Eva'],\n",
    "    'Score': [85, 90, 78, 88, 92]\n",
    "}\n",
    "\n",
    "df = pd.DataFrame(data)\n",
    "\n",
    "def is80ormore(x):\n",
    "    if x >= 80:\n",
    "        return True\n",
    "    else:\n",
    "        return False\n",
    "    \n",
    "df['Passed'] = df['Score'].apply(is80ormore)\n",
    "\n",
    "print(df)"
   ]
  },
  {
   "cell_type": "markdown",
   "metadata": {},
   "source": [
    "### Exercise 2: Apply a Built-In Function with .apply() method\n",
    "\n",
    "Apply a built-in function to transform a DataFrame column.<br>\n",
    "Step1. Start creating a dataframe from the dictionary below.<br>\n",
    "Step2. Use the .apply() method to convert the 'Age' column to a string format.<br>\n",
    "Step3. Verify the transformation by checking the data type of the 'Age' column.<br>"
   ]
  },
  {
   "cell_type": "code",
   "execution_count": 7,
   "metadata": {},
   "outputs": [
    {
     "name": "stdout",
     "output_type": "stream",
     "text": [
      "Original data type of Age column:\n",
      "int64\n",
      "\n",
      "New data type of Age column:\n",
      "object\n"
     ]
    }
   ],
   "source": [
    "import pandas as pd\n",
    "\n",
    "data = {\n",
    "    'Name': ['Alice', 'Bob', 'Charlie', 'David', 'Eva'],\n",
    "    'Age': [24, 27, 22, 32, 29],\n",
    "    'Score': [85, 90, 78, 88, 92]\n",
    "}\n",
    "\n",
    "df = pd.DataFrame(data)\n",
    "\n",
    "print('Original data type of Age column:')\n",
    "print(df['Age'].dtype)\n",
    "\n",
    "df['Age'] = df['Age'].apply(str)\n",
    "\n",
    "print('\\nNew data type of Age column:')\n",
    "print(df['Age'].dtype)\n",
    "\n",
    "# Note 1: Pandas uses native Python strings, which require an object dtype.\n",
    "# Note 2: Change the data type of columns with .astype() method. For example:\n",
    "# df['Age'] = df['Age'].astype('str')"
   ]
  },
  {
   "cell_type": "markdown",
   "metadata": {},
   "source": [
    "### Exercise 3: Apply a Custom Function with .apply() method\n",
    "\n",
    "Apply a custom function to a DataFrame column.<br>\n",
    "Step1. Start creating a dataframe from the dictionary below.<br>\n",
    "Step2. Define a custom function that categorizes scores into grades. Grade A for scores equal or greater than 90; Grade C for scores less than 80; Grade B for intermediate scores.<br>\n",
    "Step3. Use the .apply() method to create a new column 'Grade' based on the 'Score' column by applying the custom function.<br>\n",
    "Step4. Display the updated DataFrame to verify the new 'Grade' column.<br>"
   ]
  },
  {
   "cell_type": "code",
   "execution_count": 8,
   "metadata": {},
   "outputs": [
    {
     "name": "stdout",
     "output_type": "stream",
     "text": [
      "      Name  Score    Grade\n",
      "0    Alice     85  Grade B\n",
      "1      Bob     90  Grade A\n",
      "2  Charlie     78  Grade C\n",
      "3    David     88  Grade B\n",
      "4      Eva     92  Grade A\n"
     ]
    }
   ],
   "source": [
    "import pandas as pd\n",
    "\n",
    "data = {\n",
    "    'Name': ['Alice', 'Bob', 'Charlie', 'David', 'Eva'],\n",
    "    'Score': [85, 90, 78, 88, 92]\n",
    "}\n",
    "\n",
    "df = pd.DataFrame(data)\n",
    "\n",
    "def scores2grades(x):\n",
    "    if x >= 90:\n",
    "        return 'Grade A'\n",
    "    elif x < 80:\n",
    "        return 'Grade C'\n",
    "    else:\n",
    "        return 'Grade B'\n",
    "    \n",
    "df['Grade'] = df['Score'].apply(scores2grades)\n",
    "\n",
    "print(df)"
   ]
  },
  {
   "cell_type": "markdown",
   "metadata": {},
   "source": [
    "### Exercise 4: Apply a Lambda Function with .apply() method\n",
    "\n",
    "Use a lambda function with the .apply() method to modify a DataFrame column.<br>\n",
    "Step1. Start creating a dataframe from the dictionary below.<br>\n",
    "Step2. Use a lambda function with the .apply() method to calculate the discounted price for each product and create a new column 'Discounted_Price'.<br>\n",
    "Step3. Display the updated DataFrame to verify the new 'Discounted_Price' column.<br>"
   ]
  },
  {
   "cell_type": "code",
   "execution_count": null,
   "metadata": {},
   "outputs": [],
   "source": [
    "import pandas as pd\n",
    "\n",
    "data = {\n",
    "    'Product': ['A', 'B', 'C', 'D', 'E'],\n",
    "    'Price': [100, 200, 150, 300, 250],\n",
    "    'Discount': [10, 20, 15, 30, 25]\n",
    "}"
   ]
  },
  {
   "cell_type": "markdown",
   "metadata": {},
   "source": [
    "### Exercise 5: Querying Based on Conditions\n",
    "\n",
    "Use the .query() function to filter data and create a boolean column.<br>\n",
    "Step1. Start creating a dataframe from the dictionary below.<br>\n",
    "Step2. Use the .query() function to filter rows where the 'Score' is greater than 80.<br>\n",
    "Step3. Create a boolean column 'High_Score' in the original DataFrame that is True if the 'Score' is greater than 80.<br>\n",
    "Step4. Display the updated DataFrame to verify the new 'High_Score' column."
   ]
  },
  {
   "cell_type": "code",
   "execution_count": null,
   "metadata": {},
   "outputs": [
    {
     "name": "stdout",
     "output_type": "stream",
     "text": [
      "Original data:\n",
      "      Name  Age  Score\n",
      "0    Alice   24     85\n",
      "1      Bob   27     90\n",
      "2  Charlie   22     78\n",
      "3    David   32     88\n",
      "4      Eva   29     92\n",
      "\n",
      "Filtered data (Scores greater than 80):\n",
      "    Name  Age  Score\n",
      "0  Alice   24     85\n",
      "1    Bob   27     90\n",
      "3  David   32     88\n",
      "4    Eva   29     92\n",
      "\n",
      "New data:\n",
      "      Name  Age  Score  High_Score\n",
      "0    Alice   24     85        85.0\n",
      "1      Bob   27     90        90.0\n",
      "2  Charlie   22     78         NaN\n",
      "3    David   32     88        88.0\n",
      "4      Eva   29     92        92.0\n"
     ]
    }
   ],
   "source": [
    "import pandas as pd\n",
    "\n",
    "data = {\n",
    "    'Name': ['Alice', 'Bob', 'Charlie', 'David', 'Eva'],\n",
    "    'Age': [24, 27, 22, 32, 29],\n",
    "    'Score': [85, 90, 78, 88, 92]\n",
    "}\n",
    "\n",
    "df = pd.DataFrame(data)\n",
    "\n",
    "print('Original data:')\n",
    "print(df)\n",
    "\n",
    "df_filtered = df.query('Score > 80')\n",
    "print('\\nFiltered data (Scores greater than 80):')\n",
    "print(df_filtered)\n",
    "\n",
    "df['High_Score'] = df.query('Score > 80')['Score']\n",
    "df['High_Score'] = df['High_Score'].notna() # This line sets NaNs to False\n",
    "\n",
    "print('\\nNew data:')\n",
    "print(df)\n"
   ]
  },
  {
   "cell_type": "markdown",
   "metadata": {},
   "source": [
    "### Exercise 6: Querying by Combining Multiple Conditions\n",
    "\n",
    "Use the .query() function to filter data based on multiple conditions and create a boolean column.<br>\n",
    "Step1. Start creating a dataframe from the dictionary below.<br>\n",
    "Step2. Use the .query() function to filter rows where the 'Price' is greater than 150 and 'Quantity' is less than 40.<br>\n",
    "Step3. Create a boolean column 'Pricey_Low_Stock' in the original DataFrame that is True if the 'Price' is greater than 150 and 'Quantity' is less than 40.<br>\n",
    "Step4. Display the updated DataFrame to verify the new 'Pricey_Low_Stock' column."
   ]
  },
  {
   "cell_type": "code",
   "execution_count": null,
   "metadata": {},
   "outputs": [
    {
     "name": "stdout",
     "output_type": "stream",
     "text": [
      "Original data:\n",
      "  Product  Price  Quantity\n",
      "0       A    100        30\n",
      "1       B    200        20\n",
      "2       C    150        50\n",
      "3       D    300        10\n",
      "4       E    250        40\n",
      "\n",
      "Filtered data (Price greater than 150 and Quantity less than 40):\n",
      "  Product  Price  Quantity\n",
      "1       B    200        20\n",
      "3       D    300        10\n",
      "\n",
      "New data:\n",
      "  Product  Price  Quantity  Pricey_Low_Stock\n",
      "0       A    100        30             False\n",
      "1       B    200        20              True\n",
      "2       C    150        50             False\n",
      "3       D    300        10              True\n",
      "4       E    250        40             False\n"
     ]
    }
   ],
   "source": [
    "import pandas as pd\n",
    "\n",
    "data = {\n",
    "    'Product': ['A', 'B', 'C', 'D', 'E'],\n",
    "    'Price': [100, 200, 150, 300, 250],\n",
    "    'Quantity': [30, 20, 50, 10, 40]\n",
    "}\n",
    "\n",
    "df = pd.DataFrame(data)\n",
    "\n",
    "print('Original data:')\n",
    "print(df)\n",
    "\n",
    "df_filtered = df.query('Price > 150 and Quantity < 40')\n",
    "print('\\nFiltered data (Price greater than 150 and Quantity less than 40):')\n",
    "print(df_filtered)\n",
    "\n",
    "df['Pricey_Low_Stock'] = df.query('Price > 150 and Quantity < 40')['Product'] # It can be 'Price' or 'Quantity'\n",
    "df['Pricey_Low_Stock'] = df['Pricey_Low_Stock'].notna() # This line sets NaNs to False\n",
    "\n",
    "print('\\nNew data:')\n",
    "print(df)\n",
    "\n",
    "# Note that when creating the new column with query, you have to refer to a specific column.\n",
    "# In this case, it can be any column. The method is setting True to rows in the new column\n",
    "# that are present in the column of reference."
   ]
  },
  {
   "cell_type": "markdown",
   "metadata": {},
   "source": [
    "### Exercise 7: Using .query() with String Conditions\n",
    "\n",
    "Use the .query() function to filter data based on string conditions and create a boolean column.<br>\n",
    "Step1. Start creating a dataframe from the dictionary below.<br>\n",
    "Step2. Use the .query() function to filter rows where the 'Department' is 'Finance'.<br>\n",
    "Step3. Create a boolean column 'Is_Finance' in the original DataFrame that is True if the 'Department' is 'Finance'.<br>\n",
    "Step4. Display the updated DataFrame to verify the new 'Is_Finance' column."
   ]
  },
  {
   "cell_type": "code",
   "execution_count": 25,
   "metadata": {},
   "outputs": [
    {
     "name": "stdout",
     "output_type": "stream",
     "text": [
      "Original data:\n",
      "      Name Department  Score\n",
      "0    Alice         HR     85\n",
      "1      Bob    Finance     90\n",
      "2  Charlie         IT     78\n",
      "3    David  Marketing     88\n",
      "4      Eva    Finance     92\n",
      "\n",
      "Filtered data (Department is Finance):\n",
      "  Name Department  Score\n",
      "1  Bob    Finance     90\n",
      "4  Eva    Finance     92\n",
      "\n",
      "New data:\n",
      "      Name Department  Score  Is_Finance\n",
      "0    Alice         HR     85       False\n",
      "1      Bob    Finance     90        True\n",
      "2  Charlie         IT     78       False\n",
      "3    David  Marketing     88       False\n",
      "4      Eva    Finance     92        True\n"
     ]
    }
   ],
   "source": [
    "import pandas as pd\n",
    "\n",
    "data = {\n",
    "    'Name': ['Alice', 'Bob', 'Charlie', 'David', 'Eva'],\n",
    "    'Department': ['HR', 'Finance', 'IT', 'Marketing', 'Finance'],\n",
    "    'Score': [85, 90, 78, 88, 92]\n",
    "}\n",
    "\n",
    "df = pd.DataFrame(data)\n",
    "\n",
    "print('Original data:')\n",
    "print(df)\n",
    "\n",
    "df_filtered = df.query('Department == \"Finance\"')\n",
    "print('\\nFiltered data (Department is Finance):')\n",
    "print(df_filtered)\n",
    "\n",
    "df['Is_Finance'] = df.query('Department == \"Finance\"')['Department'] \n",
    "df['Is_Finance'] = df['Is_Finance'].notna() # This line sets NaNs to False\n",
    "\n",
    "print('\\nNew data:')\n",
    "print(df)"
   ]
  }
 ],
 "metadata": {
  "kernelspec": {
   "display_name": "Python 3",
   "language": "python",
   "name": "python3"
  },
  "language_info": {
   "codemirror_mode": {
    "name": "ipython",
    "version": 3
   },
   "file_extension": ".py",
   "mimetype": "text/x-python",
   "name": "python",
   "nbconvert_exporter": "python",
   "pygments_lexer": "ipython3",
   "version": "3.12.4"
  }
 },
 "nbformat": 4,
 "nbformat_minor": 2
}
