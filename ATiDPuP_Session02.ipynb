{
 "cells": [
  {
   "cell_type": "markdown",
   "metadata": {},
   "source": [
    "# <b>CaRM Module: Advanced Topics in Data Preparation Using Python (2024/2025)</b>\n",
    "## <b>Session 2: Selecting and re-encoding your data. </b>\n",
    "\n",
    "### <b>Selection</b>"
   ]
  },
  {
   "cell_type": "markdown",
   "metadata": {},
   "source": [
    "Each row and column of a dataframe has a unique label (or name) and a position (integer numbers). To select elements from a dataframe it is possible to use their \"coordinates\" by indicating their row and column positions or their row and column labels. Note that the row labels can be (integer numbers) different to the row positions (see example below)."
   ]
  },
  {
   "cell_type": "markdown",
   "metadata": {},
   "source": [
    "#### <b>2.1. Selecting single elements in a DataFrame</b>"
   ]
  },
  {
   "cell_type": "code",
   "execution_count": null,
   "metadata": {},
   "outputs": [],
   "source": [
    "import pandas as pd\n",
    "\n",
    "myDict = {\n",
    "    'fruits': ['Apple', 'Orange','Pear', 'Melon'],\n",
    "    'animals': ['Dog', 'Cat', 'Cow', 'Bird']\n",
    "}\n",
    "\n",
    "myDf = pd.DataFrame(myDict, index=[2,3,4,5]) # here we assign labels to the rows using the index argument\n",
    "print('\\nWith index=[2,3,4,5]:')\n",
    "print(myDf)\n",
    "\n",
    "# without the index argument above, the rows labels will start on 0 and be equivalent to the positions\n",
    "print('\\nWithout assigning row labels with the index argument:')\n",
    "myDf = pd.DataFrame(myDict)\n",
    "print(myDf)\n",
    "\n",
    "# now select an element (e.g., 'Apple') using .iat and positions\n",
    "print('\\nSelection based on positions:')\n",
    "print(myDf.iat[0,0])\n",
    "\n",
    "# now select an element (e.g., 'Apple') using .at and labels\n",
    "print('\\nSelection based on labels:')\n",
    "print(myDf.at[2,'fruits'])"
   ]
  },
  {
   "cell_type": "markdown",
   "metadata": {},
   "source": [
    "#### <b>2.2. Selecting columns and rows.</b>"
   ]
  },
  {
   "cell_type": "markdown",
   "metadata": {},
   "source": [
    "The most explicit and preferred way for indexing (i.e., accessing information with indexes) from dataframes and series is using the <b>.iloc</b> and <b>.loc</b> properties. Both .iloc and .loc are <b>properties</b> of DataFrames and Series (not functions, accessed like attributes, used with <b>[]</b>). Use .iloc with <b>positions</b> and .loc with <b>labels</b>.\n"
   ]
  },
  {
   "cell_type": "markdown",
   "metadata": {},
   "source": [
    "<b>Example of usage of .iloc and .loc</b>"
   ]
  },
  {
   "cell_type": "code",
   "execution_count": null,
   "metadata": {},
   "outputs": [],
   "source": [
    "import pandas as pd\n",
    "\n",
    "# create a dictionary\n",
    "myDict = {\n",
    "    'fruits': ['Apple', 'Orange', 'Pear', 'Melon'], \n",
    "    'animals': ['Dog', 'Cat', 'Cow' , 'Bird'], \n",
    "    }\n",
    "\n",
    "# convert the dictionary to a dataframe\n",
    "myDf = pd.DataFrame(myDict, index=[2,3,4,5]) # set integer labels for your rows, different from the positions\n",
    "print(myDf)\n",
    "\n",
    "print('\\nUse iloc for accessing the first row position (0):')\n",
    "print('\\nThe output is a Series:')\n",
    "print(myDf.iloc[0]) # as Series or \n",
    "#print(type(myDf.iloc[0]))\n",
    "#print('\\nIs a Series?')\n",
    "#print(isinstance(myDf.iloc[0],pd.Series))\n",
    "\n",
    "print('\\nThe output is a DataFrame:')\n",
    "print(myDf.iloc[[0]]) # as DataFrame\n",
    "#print(type(myDf.iloc[[0]]))\n",
    "#print('\\nIs a DataFrame?')\n",
    "#print(isinstance(myDf.iloc[[0]],pd.DataFrame))\n",
    "\n",
    "print('\\nUse loc for accessing the first row label (2):')\n",
    "print('\\nThe output is a Series:')\n",
    "print(myDf.loc[2]) # as Series or \n",
    "print('\\nThe output is a DataFrame:')\n",
    "print(myDf.loc[[2]]) # as DataFrame"
   ]
  },
  {
   "cell_type": "markdown",
   "metadata": {},
   "source": [
    "<b>2.2.1. Selecting rows or columns with *iloc*</b> (positions)\n",
    "<br>\n",
    "<br>\n",
    "Property <b>.iloc</b> allows to select data based on <b>positions</b>. To retrieve a <b>single row or column</b>, use an <b>integer</b> inside square brackets."
   ]
  },
  {
   "cell_type": "code",
   "execution_count": null,
   "metadata": {},
   "outputs": [],
   "source": [
    "import pandas as pd\n",
    "\n",
    "df = pd.read_csv('mission1_data.csv')\n",
    "\n",
    "# This gets the first row of the dataframe\n",
    "# as a Series\n",
    "print(df.iloc[0]) # note it uses square brackets, not parenthesis, because it is a property, not a method\n",
    "# or as a DataFrame\n",
    "#print(df.iloc[[0]])\n",
    "\n",
    "# This gets the first column of the dataframe\n",
    "# as a Series\n",
    "#print(df.iloc[:,0]) # note it uses square brackets, not parenthesis, because it is a property, not a method\n",
    "# or as a DataFrame\n",
    "#print(df.iloc[:,[0]])"
   ]
  },
  {
   "cell_type": "markdown",
   "metadata": {},
   "source": [
    "To retrieve <b>multiple rows or columns</b> with <b>iloc</b>, use a <b>list of integer positions</b> inside square brackets."
   ]
  },
  {
   "cell_type": "code",
   "execution_count": null,
   "metadata": {},
   "outputs": [],
   "source": [
    "import pandas as pd\n",
    "\n",
    "df = pd.read_csv('mission1_data.csv')\n",
    "\n",
    "# This gets some selected rows of the dataframe with a list of indexes\n",
    "print(df.iloc[[0,3,18]]) \n",
    "\n",
    "# This gets some selected columns of the dataframe with a list of indexes\n",
    "#print(df.iloc[:,[0,12,17]])"
   ]
  },
  {
   "cell_type": "markdown",
   "metadata": {},
   "source": [
    "<b>A note on Slicing</b>"
   ]
  },
  {
   "cell_type": "markdown",
   "metadata": {},
   "source": [
    "<b>Slicing</b> is the extraction of a part of an indexable container (e.g., string, list, or tuple). It enables users to access the specific range of elements by mentioning their indices. \n",
    "\n",
    "<b>Index</b> is the position of an individual element in an indexable container. The index value always starts at zero and ends at one less than the number of items.\n",
    "\n",
    "Negative indexes enable users to index an indexable container from the end of the container, rather than the start.\n",
    "\n",
    "<b>Usage:</b> Container[start:stop:step]\n",
    "\n",
    "<b>Start</b> specifies the starting index of a slice <br>\n",
    "<b>Stop</b> specifies the ending element of a slice <br>\n",
    "<b>Step</b> can be included to skip some elements <br>\n",
    "\n",
    "It is also possible to use the slicing method with Pandas Series and DataFrames (also indexable containers)."
   ]
  },
  {
   "cell_type": "code",
   "execution_count": null,
   "metadata": {},
   "outputs": [],
   "source": [
    "import pandas as pd\n",
    "\n",
    "myCont = 'python' # an indexable container can be a string\n",
    "#myCont = ['p','y','t','h','o','n'] # an indexable container can be a list\n",
    "#myCont = ('p','y','t','h','o','n') # an indexable container can be a tuple\n",
    "\n",
    "print(myCont[0:5]) # note the stop element (n) is not printed\n",
    "#print(myCont[0:]) # the whole container is printed, starting from the first element.\n",
    "#print(myCont[:6]) # the whole container is printed. Start is 0 as default.\n",
    "#print(myCont[0:6:2]) # here we print every two elements\n",
    "#print(myCont[5]) # here we print the last element (n)\n",
    "#print(myCont[-1]) # here we print the last element (n) using negative indexes\n",
    "#print(myCont[-4:-1]) # again, the stop element (which is the last one, n) is not printed\n",
    "#print(myCont[-4:-1:2]) # we can also use step with negative indexes"
   ]
  },
  {
   "cell_type": "markdown",
   "metadata": {},
   "source": [
    "To retrieve a <b>sequence of rows or columns</b> using the <b>slicing</b> method with <b>iloc</b>, use stop:end integer positions inside square brackets."
   ]
  },
  {
   "cell_type": "code",
   "execution_count": null,
   "metadata": {},
   "outputs": [],
   "source": [
    "import pandas as pd\n",
    "\n",
    "df = pd.read_csv('mission1_data.csv')\n",
    "\n",
    "# This gets a range of rows of the dataframe with the slicing method\n",
    "#print(df.iloc[0:3]) # note that the row on position 3 is not selected\n",
    "\n",
    "# This gets a range of columns of the dataframe with the slicing method\n",
    "print(df.iloc[:,0:12]) # remember (start:stop:step) # column at the stop position is not retrieved"
   ]
  },
  {
   "cell_type": "markdown",
   "metadata": {},
   "source": [
    "<b>Boolean indexing</b>"
   ]
  },
  {
   "cell_type": "markdown",
   "metadata": {},
   "source": [
    "Boolean indexing involves creating a boolean vector where each element corresponds to a row or column in your DataFrame. The boolean vector contains True for rows or columns you want to keep and False for those you don’t. You can apply boolean vectors to rows <b>without the need of .loc and .iloc</b> (see examples below)."
   ]
  },
  {
   "cell_type": "code",
   "execution_count": null,
   "metadata": {},
   "outputs": [],
   "source": [
    "import pandas as pd\n",
    "\n",
    "df = pd.read_csv('mission1_data.csv')\n",
    "\n",
    "pd.set_option('display.max_columns',100)\n",
    "pd.set_option('display.width',1000)\n",
    "\n",
    "print('\\nThis prints only rows of female creatures:')\n",
    "print(df[df['sex'] == 'female'])\n",
    "#print(df[df.sex == 'female'])\n",
    "\n",
    "#If you create the boolean vector based on more than one condition, \n",
    "# each condition must be enclosed in parentheses:\n",
    "print('\\nThis prints only rows of female humans:')\n",
    "#print(df[(df['sex'] == 'female') & (df['species'] == 'Human')])\n",
    "print(df[(df.sex == 'female') & (df.species == 'Human')])#\n",
    "\n",
    "#boolidx = np.zeros((df.shape[0]), dtype='bool')\n",
    "#print(boolidx)\n",
    "#boolidx[0:5] = True\n",
    "#print('\\nThis prints only the first 5 rows:')\n",
    "#print(df[boolidx])\n",
    "\n",
    "#boolidx = np.zeros((df.shape[0]), dtype='bool')\n",
    "#for idx in range(0,df.shape[0]):\n",
    "    #if idx %2 == 0:\n",
    "        #boolidx[idx] = True\n",
    "#print('\\nThis prints only every two rows:')\n",
    "#print(df[boolidx])"
   ]
  },
  {
   "cell_type": "markdown",
   "metadata": {},
   "source": [
    "It is possible to retrieve rows or columns with <b>iloc</b> using a <b>boolean list</b>, created for example based on conditions."
   ]
  },
  {
   "cell_type": "code",
   "execution_count": null,
   "metadata": {},
   "outputs": [],
   "source": [
    "import pandas as pd\n",
    "import numpy as np\n",
    "\n",
    "df = pd.read_csv('mission1_data.csv')\n",
    "\n",
    "boolidx = np.zeros((df.shape[0]), dtype=bool)\n",
    "boolidx[0:5] = True\n",
    "#print(df.iloc[boolidx]) # this works similar to previous example\n",
    "\n",
    "# get rows based on a condition (e.g., all female creatures)\n",
    "#print(df.iloc[(df.sex =='female').to_list()])\n",
    "\n",
    "#print(df.iloc[((df.sex =='female') & (df.species=='Human')).to_list()])\n",
    "\n",
    "# get columns with a specific data type\n",
    "#print(df.dtypes)\n",
    "#print(df.iloc[:,(df.dtypes==float).to_list()]) # float or object"
   ]
  },
  {
   "cell_type": "markdown",
   "metadata": {},
   "source": [
    "<b>2.2.2. Acessing rows and columns with *.loc*</b> (labels)\n",
    "<br>\n",
    "<br>\n",
    "Property <b>.loc</b> allows to select data based on index <b>labels</b> or <b>logical arrays</b>. To retrieve a <b>single row or column</b>, use an <b>integer</b> or <b>string label</b> inside square brackets."
   ]
  },
  {
   "cell_type": "code",
   "execution_count": null,
   "metadata": {},
   "outputs": [],
   "source": [
    "import pandas as pd\n",
    "\n",
    "df = pd.read_csv('mission1_data.csv')\n",
    "\n",
    "# Currently, row labels are equivalent to positions\n",
    "print(df.loc[[0]])\n",
    "\n",
    "# But, if we assign string labels to the rows, we can use labels to get a specific row:\n",
    "#df2 = df.set_index('name')\n",
    "#print(df2.loc[['Luke Skywalker']])\n",
    "\n",
    "# Similarly, we can assing integer labels to the rows, different from the row positions\n",
    "#df2 = df.set_axis([i for i in range(1,df.shape[0]+ 1) ], axis=0)\n",
    "#print(df2.loc[[1]])\n",
    "\n",
    "# Also, you can use the loc method for extracting single columns\n",
    "#print(df.loc[:,['name']])\n",
    "\n",
    "# alternative ways to extract single columns without loc\n",
    "#print(df.name)\n",
    "#print(df['name'])"
   ]
  },
  {
   "cell_type": "markdown",
   "metadata": {},
   "source": [
    "To retrieve <b>multiple rows or columns</b> with the loc property, use a <b>list of integer or string labels</b> inside square brackets."
   ]
  },
  {
   "cell_type": "code",
   "execution_count": null,
   "metadata": {},
   "outputs": [],
   "source": [
    "import pandas as pd\n",
    "\n",
    "df = pd.read_csv('mission1_data.csv')\n",
    "\n",
    "pd.set_option('display.width', 1000) # changes the width of the window where the data is displayed\n",
    "\n",
    "# Use a list of integer labels for selecting multiple rows\n",
    "print(df.loc[[0,3,18]])\n",
    "\n",
    "# For extracting multiple columns, use a list of string labels\n",
    "#print(df.loc[:,['name', 'occupation', 'abilities']])\n",
    "\n",
    "# Like in the previous section, if we assign string labels to the rows, we can use a list of labels to get multiple rows:\n",
    "#df2 = df.set_index('name') # use this column as index labels and remove the column\n",
    "#df2 = df.set_axis((df.name).to_list()) # now the row labels are names, not numbers, but keeps the column\n",
    "#print(df2.loc[['Luke Skywalker','Darth Vader','Yoda']])\n",
    "\n",
    "# You can access a part of the data using a list of integer labels for the rows, \n",
    "# and a list of string labels for the columns:\n",
    "#print(df.loc[[0,3,18],['name', 'occupation', 'abilities']]) # note that here row labels are the same as positions\n",
    "\n",
    "# You can access a part of the data using a list of string labels for the rows (e.g., person's or creature's names),\n",
    "# and a list of string labels for the columns:\n",
    "# print(df2.loc[['Luke Skywalker','Darth Vader','Yoda'],['name', 'occupation', 'abilities']])"
   ]
  },
  {
   "cell_type": "markdown",
   "metadata": {},
   "source": [
    "To retrieve a <b>range of rows or columns</b> with the <b>loc</b> property. In this case, use <b>stop:end integer or string labels</b> inside square brackets. <b>The end label is included</b> in the output."
   ]
  },
  {
   "cell_type": "code",
   "execution_count": null,
   "metadata": {},
   "outputs": [],
   "source": [
    "import pandas as pd\n",
    "\n",
    "df = pd.read_csv('mission1_data.csv')\n",
    "# for extracting multiple columns, use .loc\n",
    "pd.set_option('display.width', 1000) # changes the width of the window where the data is displayed\n",
    "df2 = df.set_index('name')\n",
    "# you can even use the index label to get a range of rows\n",
    "print(df2.loc['Luke Skywalker':'Darth Vader']) \n",
    "\n",
    "# or a range of columns\n",
    "# print(df2.loc[:,'mass':'skin_color']) "
   ]
  },
  {
   "cell_type": "markdown",
   "metadata": {},
   "source": [
    "It is possible to retrieve rows or columns with <b>loc</b> using a <b>boolean array</b>, created for example based on conditions. Let's say you only want to retrieve the rows of the humans. In this case, you can use a boolean array."
   ]
  },
  {
   "cell_type": "code",
   "execution_count": null,
   "metadata": {},
   "outputs": [],
   "source": [
    "import pandas as pd\n",
    "import numpy as np\n",
    "\n",
    "df = pd.read_csv('mission1_data.csv')\n",
    "\n",
    "boolidx = np.zeros((df.shape[0]), dtype=bool)\n",
    "boolidx[0:5] = True\n",
    "print(df.loc[boolidx]) # this works like with .iloc \n",
    "\n",
    "# Note that it also works when the row indexes different to positions\n",
    "#df2 = df.set_index('name')\n",
    "#print(df2.loc[boolidx])\n",
    "\n",
    "# However, you can use boolean series with the loc method (something you cannot do with iloc):\n",
    "#print(df.loc[df.species == 'Human'])\n",
    "#print(df.species == 'Human')\n",
    "# if you attempt to run the following code, you will get an error, because the condition returns\n",
    "# a boolean Series.\n",
    "#print(df.iloc[df.species == 'Human'])\n",
    "#print(type(df.species == 'Human'))\n",
    "# You need to converty the boolean Series to a boolean list, for it to work with the iloc method. \n",
    "#print(df.iloc[(df.species == 'Human').to_list()])\n",
    "# BTW, the loc method also works with boolean lists\n",
    "#print(df.loc[(df.species == 'Human').to_list()])\n",
    "\n",
    "# You could also use multiple conditions (e.g., those humans born between 40 BBY and 0 BBY)\n",
    "# print(df.loc[(df.species == 'Human') & (df.birth_era == 'BBY') & (df.birth_year < 40)])\n",
    "\n",
    "# or, you could search for specific terms in a column\n",
    "#print(df.loc[df.occupation.str.contains('Jedi', regex=False)])\n",
    "\n",
    "# It is also possible to select some columns with a boolean array (e.g., a filter based on the data type)\n",
    "#print(df.loc[:,df.dtypes==float]) # remember that with iloc you needed to convert the boolean array to a list."
   ]
  },
  {
   "cell_type": "markdown",
   "metadata": {},
   "source": [
    "#### <b>2.3. Filtering data in DataFrames</b>"
   ]
  },
  {
   "cell_type": "markdown",
   "metadata": {},
   "source": [
    "Filtering is used to select specific rows from the dataframe based on some conditions that are generally applied to specific columns of the dataframe. In the previous section, we saw that we could filter rows by using .iloc and .loc properties with boolean lists. Let's explore other possibilities for filtering data in dataframes."
   ]
  },
  {
   "cell_type": "markdown",
   "metadata": {},
   "source": [
    "<b>2.3.1. Filter rows by using comparison operators</b>"
   ]
  },
  {
   "cell_type": "markdown",
   "metadata": {},
   "source": [
    "There are six comparison operators in Python: \n",
    "1) == or equal to \n",
    "2) != or not equal to\n",
    "3) \\> or greater than \n",
    "4) \\>= or greater than or equal to\n",
    "5) < or less than\n",
    "6) <= or less than or equal to\n",
    "\n",
    "They can be used to compare different values such as integers or strings. These operators can be included in an expression to filter elements in a DataFrame.\n",
    "\n",
    "For example, we could search for specific terms in a column of strings:"
   ]
  },
  {
   "cell_type": "code",
   "execution_count": null,
   "metadata": {},
   "outputs": [],
   "source": [
    "import pandas as pd\n",
    "\n",
    "df = pd.read_csv('mission1_data.csv')\n",
    "\n",
    "pd.set_option('display.width',1000)\n",
    "\n",
    "# look for female creatures\n",
    "print(df[df['sex'] == 'female'])\n",
    "#print(df[(df['sex'] == 'female') & (df['species'] == 'Human')])"
   ]
  },
  {
   "cell_type": "markdown",
   "metadata": {},
   "source": [
    "We could also filter a column with numeric values:"
   ]
  },
  {
   "cell_type": "code",
   "execution_count": null,
   "metadata": {},
   "outputs": [],
   "source": [
    "import pandas as pd\n",
    "\n",
    "df = pd.read_csv('mission1_data.csv')\n",
    "\n",
    "pd.set_option('display.width', 1000)\n",
    "\n",
    "# look for the tallest creatures\n",
    "print(df[df['height'] >= 170])\n",
    "\n",
    "# or\n",
    "#print(df.loc[df['height'] >= 170])"
   ]
  },
  {
   "cell_type": "markdown",
   "metadata": {},
   "source": [
    "<b>2.3.2. Filter rows using .isin()</b>"
   ]
  },
  {
   "cell_type": "markdown",
   "metadata": {},
   "source": [
    "It is possible to filter rows based on specific terms or values in a column with strings or numbers. <b>.isin()</b> allows you to do that."
   ]
  },
  {
   "cell_type": "code",
   "execution_count": null,
   "metadata": {},
   "outputs": [],
   "source": [
    "import pandas as pd\n",
    "\n",
    "df = pd.read_csv('mission1_data.csv')\n",
    "\n",
    "pd.set_option('display.max_columns',1000)\n",
    "\n",
    "# applicable to strings\n",
    "print(df[df['species'].isin(['Yoda\\'s species', 'Wookiee', 'Droid'])])\n",
    "# equivalent to\n",
    "#print(df.loc[df['species'].isin(['Yoda\\'s species', 'Wookiee', 'Droid'])])\n",
    "\n",
    "# and numeric values\n",
    "# print(df[df['death_year'].isin([0,3,4])])\n",
    "# equivalent to\n",
    "#print(df.loc[df['death_year'].isin([0,3,4])])"
   ]
  },
  {
   "cell_type": "markdown",
   "metadata": {},
   "source": [
    "<b>2.3.3. Filter rows using str.contains()</b> "
   ]
  },
  {
   "cell_type": "markdown",
   "metadata": {},
   "source": [
    "It is possible to filter rows based on specific terms in a column with text strings. <b>str.contains()</b> allows you to do that."
   ]
  },
  {
   "cell_type": "code",
   "execution_count": null,
   "metadata": {},
   "outputs": [],
   "source": [
    "import pandas as pd\n",
    "\n",
    "df = pd.read_csv('mission1_data.csv')\n",
    "\n",
    "pd.set_option('display.width',1000)\n",
    "pd.set_option('display.max_columns',30)\n",
    "\n",
    "print(df[df['abilities'].str.contains('Force|Lightsaber', case=False, na=False)]) #& ~df['abilities'].isna()"
   ]
  },
  {
   "cell_type": "markdown",
   "metadata": {},
   "source": [
    "<b>2.3.4. Filter by applying the .query() method</b>"
   ]
  },
  {
   "cell_type": "markdown",
   "metadata": {},
   "source": [
    "The <b>query()</b> method is a handy tool in pandas for filtering DataFrames based on conditional expressions. It is a concise and readable way to select specific rows that meet certain criteria. The input is a string that defines the filtering criteria and should evaluate to True or False. For multiple conditions, use logical operators and, or. Note: it only works if the column name doesn’t have any empty spaces!"
   ]
  },
  {
   "cell_type": "code",
   "execution_count": null,
   "metadata": {},
   "outputs": [],
   "source": [
    "import pandas as pd\n",
    "\n",
    "df = pd.read_csv('mission1_data.csv')\n",
    "\n",
    "pd.set_option('display.width',1000)\n",
    "pd.set_option('display.max_columns',30)\n",
    "\n",
    "# applied to columns with strings\n",
    "print(df.query('sex == \"female\"')) # remember, we did this before with df[df['sex'] == 'female']\n",
    "\n",
    "# applied to columns with numbers\n",
    "#print(df.query('height >=170')) # remember, we did this before with df.loc[df['height'] >=170]\n",
    "\n",
    "# using variables\n",
    "year_limit = 0\n",
    "era = 'BBY'\n",
    "#print(df.query('birth_year > @year_limit and birth_era == @era'))"
   ]
  },
  {
   "cell_type": "markdown",
   "metadata": {},
   "source": [
    "<b>2.3.5. Filtering by using boolean columns</b>"
   ]
  },
  {
   "cell_type": "markdown",
   "metadata": {},
   "source": [
    "You can create new Boolean columns (obtained by applying specific conditions) and use those columns to filter the rows of the dataframe."
   ]
  },
  {
   "cell_type": "code",
   "execution_count": null,
   "metadata": {},
   "outputs": [],
   "source": [
    "import pandas as pd\n",
    "\n",
    "df = pd.read_csv('mission1_data.csv')\n",
    "\n",
    "#print(df.columns) # print the column names\n",
    "\n",
    "# Create new boolean column saying whether or not the creature has a lightsaber\n",
    "colname = 'equipment'\n",
    "keyword = 'Lightsaber'\n",
    "\n",
    "df['haslightsaber'] = df[colname].str.contains(keyword, case=False, regex=False)\n",
    "print(df) \n",
    "\n",
    "# Create new boolean column saying whether or not the creature is a Jedi\n",
    "colname = 'occupation'\n",
    "keyword = 'Jedi'\n",
    "\n",
    "df['isjedi'] = df[colname].str.contains(keyword, case=False, regex=False)\n",
    "# print(df)\n",
    " \n",
    "# Create new boolean column saying whether or not the creature has Force powers\n",
    "colname = 'abilities'\n",
    "keyword = 'Force'\n",
    "\n",
    "df['hasforce'] = df[colname].str.contains(keyword, case=False, regex=False)\n",
    "# print(df) \n",
    "\n",
    "# Now, retrieve all the rows with a creature that has a lightsaber, force powers but is not a Jedi\n",
    "pd.set_option('display.max_columns',30)\n",
    "print(df[df.haslightsaber & df.hasforce & ~df.isjedi])"
   ]
  },
  {
   "cell_type": "markdown",
   "metadata": {},
   "source": [
    "<b>2.3.6. Applying functions to dataframes</b>"
   ]
  },
  {
   "cell_type": "markdown",
   "metadata": {},
   "source": [
    "The apply() method takes a function as an input and applies this function to a DataFrame. \n",
    "You must specify an axis you want your function to act on (axis=0 applies the function across rows of a column [by default]; axis=1 applies the function across columns in a row)."
   ]
  },
  {
   "cell_type": "markdown",
   "metadata": {},
   "source": [
    "Apply a function across rows in a column:"
   ]
  },
  {
   "cell_type": "code",
   "execution_count": null,
   "metadata": {},
   "outputs": [],
   "source": [
    "import pandas as pd\n",
    "\n",
    "df = pd.read_csv('mission1_data.csv')\n",
    "\n",
    "def kg2pounds(x):\n",
    "    return x*2.2\n",
    "\n",
    "# convert weight (in Kg) to weight in pounds\n",
    "df['weight_pounds'] = df['mass'].apply(kg2pounds)\n",
    "print(df[['mass','weight_pounds']])"
   ]
  },
  {
   "cell_type": "markdown",
   "metadata": {},
   "source": [
    "Apply a function across columns in a row:"
   ]
  },
  {
   "cell_type": "code",
   "execution_count": null,
   "metadata": {},
   "outputs": [],
   "source": [
    "import pandas as pd\n",
    "\n",
    "df = pd.read_csv('mission1_data.csv')\n",
    "\n",
    "def compute_age(df):\n",
    "    if (df['birth_era'] == 'BBY') & (df['death_era'] == 'BBY'):\n",
    "        return df['birth_year'] - df['death_year']\n",
    "    elif (df['birth_era'] == 'BBY') & (df['death_era'] == 'ABY'):\n",
    "        return df['birth_year'] + df['death_year']\n",
    "    elif (df['birth_era'] == 'ABY') & (df['death_era'] == 'ABY'):\n",
    "        return df['death_year'] - df['birth_year']\n",
    "    else:\n",
    "        return 'NaN'\n",
    "\n",
    "# convert weight (in Kg) to weight in pounds\n",
    "df['age'] = df.apply(compute_age, axis=1)\n",
    "print(df[['birth_year','birth_era','death_year','death_era','age']])"
   ]
  },
  {
   "cell_type": "markdown",
   "metadata": {},
   "source": [
    "Using a lambda function:"
   ]
  },
  {
   "cell_type": "code",
   "execution_count": null,
   "metadata": {},
   "outputs": [],
   "source": [
    "import pandas as pd\n",
    "import numpy as np\n",
    "\n",
    "df = pd.read_csv('mission1_data.csv')\n",
    "\n",
    "def calc_bmi(mass, height):\n",
    "    return np.round(mass/(height/100)**2, 2)\n",
    "\n",
    "df['bmi'] = df.apply(lambda x: calc_bmi(x['mass'],x['height']),axis=1)\n",
    "\n",
    "pd.set_option('display.width',1000)\n",
    "pd.set_option('display.max_rows',200)\n",
    "print(df[['name','mass', 'height', 'bmi']])"
   ]
  },
  {
   "cell_type": "markdown",
   "metadata": {},
   "source": [
    "Create a boolean column by applying a lambda function to a column"
   ]
  },
  {
   "cell_type": "code",
   "execution_count": null,
   "metadata": {},
   "outputs": [],
   "source": [
    "import pandas as pd\n",
    "\n",
    "df = pd.read_csv('mission1_data.csv')\n",
    "\n",
    "# Create new boolean column saying whether or not the creature has a lightsaber\n",
    "colname = 'equipment'\n",
    "keyword = 'Lightsaber'\n",
    "\n",
    "# we used this before: df['haslightsaber'] = df[colname].str.contains(keyword, case=False, regex=False)\n",
    "pd.set_option('display.width',2000)\n",
    "\n",
    "def lightsaberfun(x):\n",
    "    if keyword.lower() in str(x[colname]).lower():\n",
    "        return True \n",
    "    else:\n",
    "        return False\n",
    "\n",
    "df['haslightsaber'] = df.apply(lightsaberfun, axis=1)\n",
    "\n",
    "# If the function is simple enough as to be declared in a single line, \n",
    "# you can obtain the same result with an anonymous function called lambda.\n",
    "#df['haslightsaber'] = df.apply(lambda x: True if keyword.lower() in str(x[colname]).lower() else False, axis=1)\n",
    "print(df[[colname, 'haslightsaber']]) \n",
    "\n",
    "# finally, you can get only the rows filtered with the boolean column.\n",
    "print(df.loc[df.haslightsaber])"
   ]
  },
  {
   "cell_type": "markdown",
   "metadata": {},
   "source": [
    "<b>2.3.7. Filtering based on dates</b>"
   ]
  },
  {
   "cell_type": "markdown",
   "metadata": {},
   "source": [
    "If a DataFrame contains dates and time information, it is also possible to filter data based on those values. For this, the column with dates should be a datetime type."
   ]
  },
  {
   "cell_type": "code",
   "execution_count": null,
   "metadata": {},
   "outputs": [],
   "source": [
    "import pandas as pd\n",
    "from datetime import date\n",
    "import numpy as np\n",
    "\n",
    "# create a range of dates between today and the end of the year\n",
    "dates_range = pd.date_range(start=date.today(), end=\"2024-12-31\", freq=\"D\")\n",
    "print(dates_range)\n",
    "\n",
    "fake_data = np.random.randint(0,75,len(dates_range)).tolist()\n",
    "fake_data2 = np.random.randint(-10,24,len(dates_range)).tolist()\n",
    "\n",
    "# create the dataframe\n",
    "df = pd.DataFrame({'date': dates_range,\n",
    "                   'rain_mm': fake_data, \n",
    "                   'temperature': fake_data2})\n",
    "\n",
    "print(df.info()) # check that the column date is a datetime type\n",
    "\n",
    "# Get new dataframe only with data from November by using .loc and a boolean expression\n",
    "#print(df.loc[(df['date'] >= '2024-11-01') & (df['date'] <= '2024-11-30')])\n",
    "#print(df.loc[(df.date >= '2024-11-01') & (df.date <= '2024-11-30')])\n",
    "\n",
    "# Second, it is also possible to filter dataframe rows using the .query() function.\n",
    "#print(df.query(\"date >= '2024-11-01' and  date <= '2024-11-30'\"))\n",
    "# Note that: \n",
    "# 1) The columns of the DataFrame can be included in the query by simply\n",
    "# specifying the column name, so they can be accessed without indexing.\n",
    "# 2) The whole expression is included between two double quotation marks (\"\")\n",
    "# 3) The date string is included between single quotation marks ('')\n",
    "\n",
    "# Third, it is possible to filter based on date attributes such as year, month, day, weekday\n",
    "# get new dataframe only with data from December\n",
    "#print(df.loc[(df['date'].dt.month==12)])\n",
    "#print(df.loc[(df.date.dt.month==12)])\n",
    "\n",
    "# Finally, it is also possible to use the strftime method\n",
    "#print(df[df['date'].dt.strftime('%Y-%m-%d').between('2024-11-15','2024-11-30')])"
   ]
  },
  {
   "cell_type": "markdown",
   "metadata": {},
   "source": [
    "### <b>Re-encoding</b>"
   ]
  },
  {
   "cell_type": "markdown",
   "metadata": {},
   "source": [
    "#### <b>2.4. Renaming the column/row names (labels) of a DataFrame</b>"
   ]
  },
  {
   "cell_type": "markdown",
   "metadata": {},
   "source": [
    "Sometimes, the original column or row names are long, complex, or do not represent well the data. It is possible to change the labels for more intuitive and handy names. In the previous section, we did so with the dataframe functions <b>.set_axis()</b> and <b>.set_index()</b>. There are additional options."
   ]
  },
  {
   "cell_type": "code",
   "execution_count": null,
   "metadata": {},
   "outputs": [],
   "source": [
    "import pandas as pd\n",
    "\n",
    "df = pd.read_csv('mission1_data.csv')\n",
    "\n",
    "pd.set_option('display.width', 1000) # changes the width of the window where the data is displayed\n",
    "\n",
    "# For example, we could use use a column to set the index (row labels)\n",
    "# The set_index() method used to assign a series, or another data frame \n",
    "# as the index of a given data frame.\n",
    "df2 = df.set_index('name') # use this column as index labels and remove the column\n",
    "#df2 = df.set_index(pd.Series(df.name.to_list())) # use this column as index labels and remove the column\n",
    "print(df2.head())\n",
    "\n",
    "# We could use another method (.set_axis()) to change the row and column labels\n",
    "df2 = df.set_axis(df.name.to_list()) # now the row labels are names, not numbers, but keeps the column\n",
    "print(df2.head())\n",
    "\n",
    "# We could also use .set_index() to change the column names\n",
    "colnames = df.columns.to_list()\n",
    "colnames[1] = 'height_cm'\n",
    "colnames[2] = 'weight_kg'\n",
    "\n",
    "df2 = df.set_axis(colnames, axis=1)\n",
    "print(df2.head())"
   ]
  },
  {
   "cell_type": "markdown",
   "metadata": {},
   "source": [
    "Renaming columns is also necessary when the column names have white spaces. "
   ]
  },
  {
   "cell_type": "code",
   "execution_count": null,
   "metadata": {},
   "outputs": [],
   "source": [
    "import pandas as pd\n",
    "\n",
    "myDict = {\n",
    "    'tropical fruits': ['banana', 'pineaple', 'mango', 'mamey'],\n",
    "    'fruit color': ['white', 'yellow', 'orange', 'pink']\n",
    "}\n",
    "\n",
    "df = pd.DataFrame(myDict)\n",
    "\n",
    "print(df)\n",
    "print('\\n')\n",
    "\n",
    "# the following expression has a white space and will raise an error\n",
    "# if you attempt to use the dot notation\n",
    "#print(df.fruit color)\n",
    "\n",
    "# however, you can call the column using the brackets notation\n",
    "#print(df['fruit color'])\n",
    "\n",
    "# so, you may want to rename the columns with labels that don't contain white spaces\n",
    "#df2 = df.rename(columns={'tropical fruits': 'tropical_fruits', 'fruit color': 'fruit_color'})\n",
    "# or, using .set_axis()\n",
    "df2 = df.set_axis(['tropical_fruits', 'fruit_color'], axis=1)\n",
    "#print('\\nAfter renaming the columns')\n",
    "print(df2)\n",
    "\n",
    "#print(df2.fruit_color)"
   ]
  },
  {
   "cell_type": "markdown",
   "metadata": {},
   "source": [
    "Sometimes, you only need to insert a term before the row/column name or after the row/column name. You could do that with <b>.add_prefix()</b> and <b>.add_suffix()</b> methods."
   ]
  },
  {
   "cell_type": "code",
   "execution_count": null,
   "metadata": {},
   "outputs": [],
   "source": [
    "import pandas as pd\n",
    "\n",
    "myDict = {    \n",
    "    'fruits': ['banana', 'pineaple', 'mango', 'mamey'],\n",
    "    'color': ['white', 'yellow', 'orange', 'pink'],\n",
    "    'size': [20, 30, 8, 11],\n",
    "}\n",
    "\n",
    "df = pd.DataFrame(myDict)\n",
    "df = df.set_index('fruits')\n",
    "print(df)\n",
    "print('\\n')\n",
    "\n",
    "# add prefix to the column names\n",
    "df = df.add_prefix('fruit_')\n",
    "\n",
    "# add prefix to the rows names\n",
    "df = df.add_prefix('product_', axis=0)\n",
    "print(df)"
   ]
  },
  {
   "cell_type": "code",
   "execution_count": null,
   "metadata": {},
   "outputs": [],
   "source": [
    "import pandas as pd\n",
    "\n",
    "myDict = {    \n",
    "    'fruits': ['banana', 'pineaple', 'mango', 'mamey'],\n",
    "    'color': ['white', 'yellow', 'orange', 'pink'],\n",
    "    'size': [20, 30, 8, 11],\n",
    "}\n",
    "\n",
    "df = pd.DataFrame(myDict)\n",
    "df = df.set_index('fruits')\n",
    "print(df)\n",
    "print('\\n')\n",
    "\n",
    "# add prefix to the column names\n",
    "df = df.add_suffix('_of_the_fruit')\n",
    "\n",
    "# add prefix to the rows names\n",
    "df = df.add_suffix('_row', axis=0)\n",
    "print(df)"
   ]
  },
  {
   "cell_type": "markdown",
   "metadata": {},
   "source": [
    "#### <b>2.5. Change the data type of columns in a DataFrame</b>"
   ]
  },
  {
   "cell_type": "markdown",
   "metadata": {},
   "source": [
    "At this point, it would be good to convert some columns with object type to category type, and some columns with float64 type to integer type. This could save memory and also facilitate working with the data in following steps."
   ]
  },
  {
   "cell_type": "code",
   "execution_count": null,
   "metadata": {},
   "outputs": [],
   "source": [
    "import pandas as pd\n",
    "\n",
    "df = pd.read_csv('mission1_data.csv')\n",
    "\n",
    "#print(df.info()) # print information about columns to remember their data types\n",
    "print(df.columns)\n",
    "# convert some columns to category type\n",
    "df['sex'] = df['sex'].astype('category')\n",
    "df['gender'] = df['gender'].astype('category')\n",
    "# convert some columns to integer type\n",
    "df['birth_year'] = df['birth_year'].astype('Int64')\n",
    "df['death_year'] = df['death_year'].astype('Int64')\n",
    "# convert some columns to string type\n",
    "df['name'] = df['name'].astype('string')\n",
    "df['abilities'] = df['abilities'].astype('string')\n",
    "df.info()"
   ]
  },
  {
   "cell_type": "markdown",
   "metadata": {},
   "source": [
    "#### <b>2.6. Adding new columns to the DataFrame</b>"
   ]
  },
  {
   "cell_type": "markdown",
   "metadata": {},
   "source": [
    "Function <b>.assign()</b> allows you to add new columns to a dataframe."
   ]
  },
  {
   "cell_type": "code",
   "execution_count": null,
   "metadata": {},
   "outputs": [],
   "source": [
    "import pandas as pd\n",
    "\n",
    "myDict = {    \n",
    "    'fruits': ['banana', 'pineaple', 'mango', 'mamey'],\n",
    "    'color': ['white', 'yellow', 'orange', 'pink'],\n",
    "    'size': [20, 30, 8, 11],\n",
    "}\n",
    "\n",
    "df = pd.DataFrame(myDict)\n",
    "print(df)\n",
    "\n",
    "newdf = df.assign(weight = [0.18, 1.5, 0.5, 0.75])\n",
    "print(newdf)"
   ]
  },
  {
   "cell_type": "markdown",
   "metadata": {},
   "source": [
    "Function <b>.concat()</b> allows you to add multiple columns to a dataframe (use axis=1)."
   ]
  },
  {
   "cell_type": "code",
   "execution_count": null,
   "metadata": {},
   "outputs": [],
   "source": [
    "import pandas as pd\n",
    "\n",
    "myDict1 = {    \n",
    "    'fruits': ['banana', 'pineaple', 'mango', 'mamey'],\n",
    "    'color': ['white', 'yellow', 'orange', 'pink']\n",
    "}\n",
    "\n",
    "df1 = pd.DataFrame(myDict1)\n",
    "print(df1)\n",
    "\n",
    "myDict2 = {    \n",
    "    'size': [20, 30, 8, 11],\n",
    "    'weight': [0.18, 1.5, 0.5, 0.75]\n",
    "}\n",
    "\n",
    "df2 = pd.DataFrame(myDict2)\n",
    "print(df2)\n",
    "\n",
    "newdf = pd.concat((df1,df2), axis=1) # important: use axis=1 to concatenate along columns\n",
    "print(newdf)"
   ]
  },
  {
   "cell_type": "markdown",
   "metadata": {},
   "source": [
    "#### <b>2.7. Note on help functions</b>"
   ]
  },
  {
   "cell_type": "markdown",
   "metadata": {},
   "source": [
    "To learn about different Python components and as a support when coding, you can use help() and dir() in-built functions.\n",
    "\n",
    "<b>.help(object)</b> displays documentation about various Python objects including modules, functions, classes, and keywords.\n"
   ]
  },
  {
   "cell_type": "code",
   "execution_count": null,
   "metadata": {},
   "outputs": [],
   "source": [
    "import pandas as pd\n",
    "\n",
    "df = pd.read_csv('mission1_data.csv')\n",
    "\n",
    "# If the argument is a string, then the string is looked up as the name of a module, \n",
    "# function, class, method, keyword, or documentation topic, and a help page is printed on the console. \n",
    "help('dict') # get help on a dictionary\n",
    "\n",
    "# If the argument is any other kind of object, a help page on the object is generated.\n",
    "#help(df.shape) # get help on the datatype of the object (in this case, a tuple)\n",
    "#help(df.apply) # get help on a function\n",
    "#help(df['name'].str.contains)"
   ]
  },
  {
   "cell_type": "markdown",
   "metadata": {},
   "source": [
    "<b>.dir(object)</b> returns a list of valid attributes for that object."
   ]
  },
  {
   "cell_type": "code",
   "execution_count": null,
   "metadata": {},
   "outputs": [],
   "source": [
    "import pandas as pd\n",
    "\n",
    "help(dir)\n",
    "\n",
    "# Without arguments, return the list of names in the current local scope. \n",
    "#dir()\n",
    "dir(pd.DataFrame) # With an argument, attempt to return a list of valid attributes for that object.\n",
    "#dir('a string')"
   ]
  },
  {
   "cell_type": "markdown",
   "metadata": {},
   "source": [
    "#### <b>2.8. Working with dates in DataFrames</b>"
   ]
  },
  {
   "cell_type": "markdown",
   "metadata": {},
   "source": [
    "### <b>Mission 2</b>\n",
    "Beginning to work on Mission 2. Reading Excel files. "
   ]
  },
  {
   "cell_type": "code",
   "execution_count": null,
   "metadata": {},
   "outputs": [],
   "source": [
    "import pandas as pd\n",
    "from datetime import date\n",
    "\n",
    "df = pd.read_csv('mission1_data.csv')\n",
    "\n",
    "d0 = date(1815,6,30)\n",
    "print(d0)\n",
    "\n",
    "#ts = pd.Timestamp('1815-06-30 12:00:00')\n",
    "ts = pd.Timestamp(d0)\n",
    "\n",
    "print(ts)\n",
    "\n",
    "# Creating a date offset object\n",
    "date_offset = pd.DateOffset(days=368)\n",
    "\n",
    "print(ts - date_offset)\n",
    "\n",
    "def gst2gmt(x,y):\n",
    "    if y == 'BBY':\n",
    "        date_offset = pd.DateOffset(days=x*368)\n",
    "        x = ts - date_offset\n",
    "        return x\n",
    "    elif y == 'ABY':\n",
    "        date_offset = pd.DateOffset(days=(x)*368)\n",
    "        x = ts + date_offset\n",
    "        return x\n",
    "\n",
    "def birth_gst2gmt(x):\n",
    "    return gst2gmt(x['birth_year'], x['birth_era'])\n",
    "\n",
    "def death_gst2gmt(x):\n",
    "    return gst2gmt(x['death_year'], x['death_era'])\n",
    "\n",
    "df['birth_date'] = df.apply(birth_gst2gmt, axis=1)\n",
    "\n",
    "df['death_date'] = df.apply(death_gst2gmt, axis=1)\n",
    "\n",
    "#print(df)\n",
    "pd.set_option('display.width',2000)\n",
    "print(df[['birth_year', 'birth_era', 'birth_date', 'death_year', 'death_era', 'death_date']])\n",
    "\n",
    "#df.to_csv('mission1_data_gmt.csv')"
   ]
  },
  {
   "cell_type": "code",
   "execution_count": null,
   "metadata": {},
   "outputs": [],
   "source": [
    "import pandas as pd\n",
    "from datetime import datetime\n",
    "\n",
    "df = pd.read_csv('mission1_data_gmt.csv')\n",
    "\n",
    "# df['age_gmt'] = "
   ]
  },
  {
   "cell_type": "code",
   "execution_count": null,
   "metadata": {},
   "outputs": [],
   "source": [
    "import pandas as pd\n",
    "from datetime import datetime\n",
    "\n",
    "df = pd.read_csv('mission1_data_gmt.csv')\n",
    "\n",
    "#print(df['birth_date'])\n",
    "\n",
    "#df['birth_date'] = df['birth_date'].astype('string')\n",
    "#df['death_date'] = df['death_date'].astype('string')\n",
    "\n",
    "#df['birth_date'] = pd.to_datetime(df['birth_date'], as_unit='S')#, format='yyyy-mm-dd HH:MM:SS')\n",
    "#df['death_date'] = pd.to_datetime(df['death_date'], format='yyyy-mm-dd HH:MM:SS')\n",
    "\n",
    "#df['birth_date'] = df['birth_date'].apply(lambda x: datetime.strftime(x, '%Y-%m-%dT%H:%M:%S') if type(x)==str else pd.NaT)\n",
    "#df['birth_date'] = df['birth_date'].apply(lambda x: pd.Period(x, freq='d'))\n",
    "#df['death_date'] = df['death_date'].apply(lambda x: pd.Period(x, freq='s'))\n",
    "print(df['birth_date'])\n",
    "print(df.info())"
   ]
  },
  {
   "cell_type": "markdown",
   "metadata": {},
   "source": [
    "<b>Excercises with mission data</b>"
   ]
  },
  {
   "cell_type": "markdown",
   "metadata": {},
   "source": [
    "1. What are the most common birth places of the creatures in Mission 1 data file?"
   ]
  },
  {
   "cell_type": "code",
   "execution_count": null,
   "metadata": {},
   "outputs": [],
   "source": [
    "import pandas as pd\n",
    "\n",
    "df = pd.read_csv('mission1_data.csv')\n",
    "\n",
    "colname = 'birth_place'\n",
    "print(df[colname].value_counts()) # print a Series containing counts of unique values."
   ]
  },
  {
   "cell_type": "markdown",
   "metadata": {},
   "source": [
    "2. What are the most common death places of the creatures in Mission 1 data file?"
   ]
  },
  {
   "cell_type": "code",
   "execution_count": null,
   "metadata": {},
   "outputs": [],
   "source": [
    "import pandas as pd\n",
    "\n",
    "df = pd.read_csv('mission1_data.csv')\n",
    "\n",
    "colname = 'death_place'\n",
    "print(df[colname].value_counts()) # print a Series containing counts of unique values."
   ]
  },
  {
   "cell_type": "markdown",
   "metadata": {},
   "source": [
    "3. What are the most common homeworlds of the creatures in Mission 1 data file?"
   ]
  },
  {
   "cell_type": "code",
   "execution_count": null,
   "metadata": {},
   "outputs": [],
   "source": [
    "import pandas as pd\n",
    "\n",
    "df = pd.read_csv('mission1_data.csv')\n",
    "\n",
    "colname = 'homeworld'\n",
    "print(df[colname].value_counts()) # print a Series containing counts of unique values."
   ]
  },
  {
   "cell_type": "markdown",
   "metadata": {},
   "source": [
    "4. What are the most common homeworlds of the humans?"
   ]
  },
  {
   "cell_type": "code",
   "execution_count": null,
   "metadata": {},
   "outputs": [],
   "source": [
    "import pandas as pd\n",
    "\n",
    "df = pd.read_csv('mission1_data.csv')\n",
    "\n",
    "df2 = df[df.species == 'Human']\n",
    "#print(df2.describe())\n",
    "colname = 'homeworld'\n",
    "print(df2[colname].value_counts()) # print a Series containing counts of unique values."
   ]
  },
  {
   "cell_type": "markdown",
   "metadata": {},
   "source": [
    "5. What are the most common birth places of the Jedis in Mission 1 data file?"
   ]
  },
  {
   "cell_type": "code",
   "execution_count": null,
   "metadata": {},
   "outputs": [],
   "source": [
    "import pandas as pd\n",
    "\n",
    "df = pd.read_csv('mission1_data.csv')\n",
    "\n",
    "df2 = df[df.occupation.str.contains('Jedi', case=False, regex=False)]\n",
    "#print(df2)\n",
    "colname = 'birth_place'\n",
    "print(df2[colname].value_counts()) # print a Series containing counts of unique values."
   ]
  },
  {
   "cell_type": "markdown",
   "metadata": {},
   "source": [
    "6. What are the most common death places of the Jedis in Mission 1 data file?"
   ]
  },
  {
   "cell_type": "code",
   "execution_count": null,
   "metadata": {},
   "outputs": [],
   "source": [
    "import pandas as pd\n",
    "\n",
    "df = pd.read_csv('mission1_data.csv')\n",
    "\n",
    "df2 = df[df.occupation.str.contains('Jedi', case=False, regex=False)]\n",
    "#print(df2)\n",
    "colname = 'death_place'\n",
    "print(df2[colname].value_counts()) # print a Series containing counts of unique values."
   ]
  },
  {
   "cell_type": "markdown",
   "metadata": {},
   "source": [
    "7. What is the year where most creatures died?"
   ]
  },
  {
   "cell_type": "code",
   "execution_count": null,
   "metadata": {},
   "outputs": [],
   "source": [
    "import pandas as pd\n",
    "import math\n",
    "\n",
    "df = pd.read_csv('mission1_data.csv')\n",
    "\n",
    "def combineyearera(x):\n",
    "    if math.isnan(x['death_year']):\n",
    "        return 'NaN'\n",
    "    else:\n",
    "        return str(int(x['death_year'])) + ' ' + x['death_era']\n",
    "\n",
    "df['death_year_era'] = df.apply(combineyearera, axis=1)\n",
    "#print(df)\n",
    "colname = 'death_year_era'\n",
    "print(df[colname].value_counts()) # print a Series containing counts of unique values."
   ]
  },
  {
   "cell_type": "markdown",
   "metadata": {},
   "source": [
    "8. What is the year when most Jedis died?"
   ]
  },
  {
   "cell_type": "code",
   "execution_count": null,
   "metadata": {},
   "outputs": [],
   "source": [
    "import pandas as pd\n",
    "import math\n",
    "\n",
    "df = pd.read_csv('mission1_data.csv')\n",
    "\n",
    "def combineyearera(x):\n",
    "    if math.isnan(x['death_year']):\n",
    "        return 'NaN'\n",
    "    else:\n",
    "        return str(int(x['death_year'])) + ' ' + x['death_era']\n",
    "    \n",
    "df['death_year_era'] = df.apply(combineyearera, axis=1)\n",
    "    \n",
    "df2 = df[df.occupation.str.contains('Jedi', case=False, regex=False)]\n",
    "\n",
    "#print(df2)\n",
    "colname = 'death_year_era'\n",
    "print(df2[colname].value_counts()) # print a Series containing counts of unique values."
   ]
  },
  {
   "cell_type": "markdown",
   "metadata": {},
   "source": [
    "9. What is the place when most Jedis died in 19 BBY?"
   ]
  },
  {
   "cell_type": "code",
   "execution_count": null,
   "metadata": {},
   "outputs": [],
   "source": [
    "import pandas as pd\n",
    "import math\n",
    "\n",
    "df = pd.read_csv('mission1_data.csv')\n",
    "\n",
    "def combineyearera(x):\n",
    "    if math.isnan(x['death_year']):\n",
    "        return 'NaN'\n",
    "    else:\n",
    "        return str(int(x['death_year'])) + ' ' + x['death_era']\n",
    "    \n",
    "df['death_year_era'] = df.apply(combineyearera, axis=1)\n",
    "    \n",
    "df2 = df[(df.occupation.str.contains('Jedi', case=False, regex=False, na=False)) \n",
    "         & (df.death_year_era.isin(['19 BBY']))]\n",
    "\n",
    "#print(df2)\n",
    "colname = 'death_place'\n",
    "print(df2[colname].value_counts()) # print a Series containing counts of unique values."
   ]
  }
 ],
 "metadata": {
  "kernelspec": {
   "display_name": "Python 3",
   "language": "python",
   "name": "python3"
  },
  "language_info": {
   "codemirror_mode": {
    "name": "ipython",
    "version": 3
   },
   "file_extension": ".py",
   "mimetype": "text/x-python",
   "name": "python",
   "nbconvert_exporter": "python",
   "pygments_lexer": "ipython3",
   "version": "3.12.4"
  }
 },
 "nbformat": 4,
 "nbformat_minor": 2
}
