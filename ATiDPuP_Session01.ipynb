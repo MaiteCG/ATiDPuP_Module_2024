{
 "cells": [
  {
   "cell_type": "markdown",
   "metadata": {},
   "source": [
    "# <b>CaRM Module: Advanced Topics in Data Preparation Using Python (2024/2025)</b>\n",
    "## <b>Session 1: Introduction to Pandas and DataFrames.</b>\n",
    "\n",
    "### <b>Introduction to other data structures such as dictionaries, series and dataframes.</b>\n",
    "\n"
   ]
  },
  {
   "cell_type": "markdown",
   "metadata": {},
   "source": [
    "#### <b>1.1. Dictionaries</b>"
   ]
  },
  {
   "cell_type": "markdown",
   "metadata": {},
   "source": [
    "A Python <b>Dictionary</b> is another data structure, which can store a collection of objects. However, a particular characteristic of dictionaries is that they store objects as key-value pairs. To create a dictionary, enclose a comma-separated list of key:value pairs in curly braces. Note there is a colon (:) between each key and its associated value. For example:"
   ]
  },
  {
   "cell_type": "code",
   "execution_count": null,
   "metadata": {},
   "outputs": [],
   "source": [
    "myDict = {'fruits': ['apple', 'pear', 'orange'], 'animals': ['dog', 'cat', 'cow'], 'tools': ['hammer', 'drill', 'saw']}\n",
    "print(myDict)"
   ]
  },
  {
   "cell_type": "markdown",
   "metadata": {},
   "source": [
    "A dictionary can contain values of any datatype. The keys can be integers (not just strings), but should be unique:"
   ]
  },
  {
   "cell_type": "code",
   "execution_count": null,
   "metadata": {},
   "outputs": [],
   "source": [
    "myDict = {1: ['apple', 'pear', 'orange'], 'numbers': [1,2,3,4], 'tools': ['hammer', 'drill', 'saw']}\n",
    "print(myDict)"
   ]
  },
  {
   "cell_type": "markdown",
   "metadata": {},
   "source": [
    "The following code creates a dictionary with only two key-value pairs because the third key is repeated. Values with a duplicate key will overwrite existing values. Try it:"
   ]
  },
  {
   "cell_type": "code",
   "execution_count": null,
   "metadata": {},
   "outputs": [],
   "source": [
    "myDict = {1: ['apple', 'pear', 'orange'], 'numbers': [1,2,3,4], 1: ['hammer', 'drill', 'saw']}\n",
    "print(myDict)"
   ]
  },
  {
   "cell_type": "markdown",
   "metadata": {},
   "source": [
    "There are different ways to access the values in a dictionary. The simplest way is to use its key name, inside square brackets:"
   ]
  },
  {
   "cell_type": "code",
   "execution_count": null,
   "metadata": {},
   "outputs": [],
   "source": [
    "print(myDict[1])\n",
    "print(myDict['numbers'])"
   ]
  },
  {
   "cell_type": "markdown",
   "metadata": {},
   "source": [
    "Dictionaries are very useful to store associated information, for example, to connect participants IDs with their survey files. We will take advantage of the associative feature of dictionaries later in this Module."
   ]
  },
  {
   "cell_type": "markdown",
   "metadata": {},
   "source": [
    "#### <b>1.2. Series<b>"
   ]
  },
  {
   "cell_type": "markdown",
   "metadata": {},
   "source": [
    "<b>Create a Series from a list:</b>"
   ]
  },
  {
   "cell_type": "code",
   "execution_count": null,
   "metadata": {},
   "outputs": [],
   "source": [
    "import pandas as pd # remember, pd is the alias for pandas\n",
    "\n",
    "myList = ['a','b','c']\n",
    "mySeries = pd.Series(myList, name='numbers')\n",
    "\n",
    "print(mySeries)\n",
    "print(mySeries.name)\n"
   ]
  },
  {
   "cell_type": "markdown",
   "metadata": {},
   "source": [
    "<b>Create a Series from a dictionary:</b>"
   ]
  },
  {
   "cell_type": "code",
   "execution_count": null,
   "metadata": {},
   "outputs": [],
   "source": [
    "import pandas as pd # you can omit this line if you have imported it\n",
    "\n",
    "myDict = {1:'a', 2:'b', 3:'c'}\n",
    "mySeries = pd.Series(myDict)\n",
    "\n",
    "print(mySeries)\n"
   ]
  },
  {
   "cell_type": "markdown",
   "metadata": {},
   "source": [
    "<b>Accessing the elements of a Series</b>"
   ]
  },
  {
   "cell_type": "code",
   "execution_count": null,
   "metadata": {},
   "outputs": [],
   "source": [
    "import pandas as pd\n",
    "\n",
    "mySeries = pd.Series(\n",
    "    [1,2,3,4], \n",
    "    name='numbers'\n",
    "    )\n",
    "\n",
    "# retrieve first element \n",
    "print('The first element is:')\n",
    "print(mySeries[0])\n",
    "\n",
    "# get the first two elements\n",
    "print('\\nThe first two elements are:')\n",
    "print(mySeries[:2])\n",
    "\n",
    "# get the last element\n",
    "print('\\nThe last element is:')\n",
    "print(mySeries[-1:])"
   ]
  },
  {
   "cell_type": "markdown",
   "metadata": {},
   "source": [
    "The indexes of a Series can also be strings. Elements can be accessed using the index label."
   ]
  },
  {
   "cell_type": "code",
   "execution_count": null,
   "metadata": {},
   "outputs": [],
   "source": [
    "import pandas as pd\n",
    "\n",
    "mySeries = pd.Series(\n",
    "    [1,2,3,4], \n",
    "    name='numbers',\n",
    "    index=['a','b','c','d'] # you can add labels to the indexes\n",
    "    )\n",
    "\n",
    "print(mySeries)\n",
    "print(mySeries['a':'c']) # compare this output\n",
    "print(mySeries[0:2]) # to this output"
   ]
  },
  {
   "cell_type": "markdown",
   "metadata": {},
   "source": [
    "#### <b>1.3. DataFrames<b>"
   ]
  },
  {
   "cell_type": "markdown",
   "metadata": {},
   "source": [
    "A Pandas <b>DataFrame</b> is a two-dimensional data structure, like a table with rows and columns. It is possible to create a simple DataFrame from a dictionary."
   ]
  },
  {
   "cell_type": "code",
   "execution_count": null,
   "metadata": {},
   "outputs": [],
   "source": [
    "import pandas as pd # import pandas library using the alias pd\n",
    "\n",
    "# create a Python dictionary\n",
    "myDict = {'fruits': ['apple', 'pear', 'orange'], 'animals': ['dog', 'cat', 'cow'], 'tools': ['hammer', 'drill', 'saw']}\n",
    "print('The dictionary below...')\n",
    "print(myDict)\n",
    "\n",
    "# create a DataFrame object from the dictionary:\n",
    "df = pd.DataFrame(myDict)\n",
    "print('\\n...is converted into a sort of table (the dataframe):')\n",
    "print(df) "
   ]
  },
  {
   "cell_type": "markdown",
   "metadata": {},
   "source": [
    "You could also create a DataFrame from Series:"
   ]
  },
  {
   "cell_type": "code",
   "execution_count": null,
   "metadata": {},
   "outputs": [],
   "source": [
    "import pandas as pd\n",
    "\n",
    "mySeries1 = pd.Series(\n",
    "    ['apple', 'orange', 'pear', 'melon'], \n",
    "    name= 'fruits',\n",
    "    )\n",
    "\n",
    "mySeries2 = pd.Series(\n",
    "    ['dog', 'cat', 'cow', 'bird'], \n",
    "    name= 'animals',\n",
    "    )\n",
    "\n",
    "list_of_series = [mySeries1, mySeries2]\n",
    "myDf = pd.concat(list_of_series, axis=1)\n",
    "\n",
    "print(myDf)"
   ]
  },
  {
   "cell_type": "markdown",
   "metadata": {},
   "source": [
    "It is also possible to extract columns of a DataFrame as Series:"
   ]
  },
  {
   "cell_type": "code",
   "execution_count": null,
   "metadata": {},
   "outputs": [],
   "source": [
    "import pandas as pd\n",
    "\n",
    "myDict = {'fruits': ['apple', 'orange', 'pear', 'melon'], 'animals': ['dog', 'cat', 'cow','bird']}\n",
    "myDf = pd.DataFrame(myDict)\n",
    "\n",
    "mySeries1 = myDf['fruits']\n",
    "print(mySeries1)\n",
    "\n",
    "mySeries2 = myDf['animals']\n",
    "print(mySeries2)"
   ]
  },
  {
   "cell_type": "markdown",
   "metadata": {},
   "source": [
    "### <b>Mission 1.</b> \n",
    "#### <b>1.4. Reading csv files with Pandas. DataFrame attributes for inspecting the data.</b>\n"
   ]
  },
  {
   "cell_type": "code",
   "execution_count": null,
   "metadata": {},
   "outputs": [],
   "source": [
    "import pandas as pd\n",
    "\n",
    "df = pd.read_csv('mission1_data.csv')\n",
    "print('\\nThis is the shape of the dataframe:')\n",
    "print(df.shape) # first number is the number of rows, second number is the number of columns\n",
    "print('\\nThese are the column names of the dataframe:')\n",
    "print(df.columns) #.to_list()\n",
    "print('\\nThese are the indexes of the dataframe:')\n",
    "print(df.index) #.to_list()\n",
    "print('\\nThese are the data types of the columns of the dataframe:')\n",
    "print(df.dtypes)"
   ]
  },
  {
   "cell_type": "markdown",
   "metadata": {},
   "source": [
    "#### <b>1.5. DataFrame methods for inspecting the data.</b>\n"
   ]
  },
  {
   "cell_type": "code",
   "execution_count": null,
   "metadata": {},
   "outputs": [],
   "source": [
    "import pandas as pd\n",
    "\n",
    "df = pd.read_csv('mission1_data.csv')\n",
    "\n",
    "print('\\nThe method .head(n) returns the first few (n) rows:')\n",
    "pd.set_option('display.max_rows', 100)\n",
    "pd.set_option('display.max_columns', 50)\n",
    "pd.set_option('display.width', 100) # changes the width of the window where the data is displayed\n",
    "print(df.head())\n",
    "#print(df)\n"
   ]
  },
  {
   "cell_type": "code",
   "execution_count": null,
   "metadata": {},
   "outputs": [],
   "source": [
    "import pandas as pd\n",
    "\n",
    "df = pd.read_csv('mission1_data.csv')\n",
    "\n",
    "print('\\nThe method .tail(n) returns the last few (n) rows:')\n",
    "print(df.tail()) "
   ]
  },
  {
   "cell_type": "code",
   "execution_count": null,
   "metadata": {},
   "outputs": [],
   "source": [
    "import pandas as pd\n",
    "\n",
    "df = pd.read_csv('mission1_data.csv')\n",
    "\n",
    "print('\\nThe method .sample(n) returns a few (n) rows, selected in random order:')\n",
    "print(df.sample(5)) "
   ]
  },
  {
   "cell_type": "code",
   "execution_count": null,
   "metadata": {},
   "outputs": [],
   "source": [
    "import pandas as pd\n",
    "\n",
    "df = pd.read_csv('mission1_data.csv')\n",
    "\n",
    "# prints range index (number of rows), number of each column, column labels, \n",
    "# number of cells in each column (non-null values), column data types, and memory usage:\n",
    "print('\\nThe method .info(n) prints information on each of the columns:')\n",
    "print(df.info())"
   ]
  },
  {
   "cell_type": "code",
   "execution_count": null,
   "metadata": {},
   "outputs": [],
   "source": [
    "import pandas as pd\n",
    "\n",
    "df = pd.read_csv('mission1_data.csv')\n",
    "\n",
    "print('\\nThe method .describe(n) calculates a few summary statistics for each column:')\n",
    "print(df.describe())"
   ]
  },
  {
   "cell_type": "markdown",
   "metadata": {},
   "source": [
    "#### <b>1.6. Other useful methods for columns or variables with categorical and string values.</b>"
   ]
  },
  {
   "cell_type": "markdown",
   "metadata": {},
   "source": [
    "Let's try to find out more about the data types of each variable (column):"
   ]
  },
  {
   "cell_type": "code",
   "execution_count": null,
   "metadata": {},
   "outputs": [],
   "source": [
    "import pandas as pd\n",
    "\n",
    "df = pd.read_csv('mission1_data.csv')\n",
    "\n",
    "# prints range index (number of rows), number of each column, column labels, \n",
    "# number of cells in each column (non-null values), column data types, and memory usage:\n",
    "df.info() \n"
   ]
  },
  {
   "cell_type": "markdown",
   "metadata": {},
   "source": [
    "Note that there are only 4 numeric columns in the dataframe. The rest are shown as 'object', but they are probably strings. At this point, it would be convenient to identify which of those columns with text could be categorial values. One strategy could be to explore each column with text and investigate how many unique terms the column has."
   ]
  },
  {
   "cell_type": "code",
   "execution_count": null,
   "metadata": {},
   "outputs": [],
   "source": [
    "import pandas as pd\n",
    "\n",
    "df = pd.read_csv('mission1_data.csv')\n",
    "\n",
    "print(df.columns) # print the column names\n",
    "colname = 'sex'\n",
    "print(f'\\nUnique values of column {colname}:')\n",
    "print(df[colname].unique()) # return unique values of Series objects.\n",
    "print(f'\\nCount for each value in column {colname}:')\n",
    "print(df[colname].value_counts()) # print a Series containing counts of unique values.\n",
    "print(f'\\nDoes column {colname} has any null values?')\n",
    "print(df[colname].isnull().any()) #return True if it has missing values, or False if not"
   ]
  },
  {
   "cell_type": "markdown",
   "metadata": {},
   "source": [
    "Sometimes it is not possible to find a small set of values in a column with strings. However, there are specific terms that repeat. It may be useful to identify the values that contain a specific keyword, so they can be grouped together into a specific category. "
   ]
  },
  {
   "cell_type": "code",
   "execution_count": null,
   "metadata": {},
   "outputs": [],
   "source": [
    "import pandas as pd\n",
    "\n",
    "df = pd.read_csv('mission1_data.csv')\n",
    "\n",
    "print(df.columns) # print the column names\n",
    "colname = 'occupation'\n",
    "keyword = 'Jedi'\n",
    "\n",
    "#print(df[df[colname].str.contains(keyword, case=False)][colname])\n",
    "\n",
    "for x in df[colname]:\n",
    "    if keyword in x:\n",
    "        print(x)"
   ]
  },
  {
   "cell_type": "markdown",
   "metadata": {},
   "source": [
    "You will also notice that some columns have a sequence of terms separated by comma. Sometimes those terms repeat across rows. It may be useful to identify all the unique terms that appear in those columns. Perhaps, there is a term that can be used to create a categorical variable in a future step of the preprocessing pipeline."
   ]
  },
  {
   "cell_type": "code",
   "execution_count": null,
   "metadata": {},
   "outputs": [],
   "source": [
    "df = pd.read_csv('mission1_data.csv')\n",
    "\n",
    "#print(df.columns) # print the column names\n",
    "colname = 'equipment'#'abilities' #'films' #'vehicles'\n",
    "\n",
    "fulllist = []\n",
    "for x in df[colname]:\n",
    "    fulllist.extend(y.strip() for y in str(x).split(','))\n",
    "    \n",
    "uniquevalues = list(set(fulllist))\n",
    "for value in uniquevalues:\n",
    "    print(value)"
   ]
  },
  {
   "cell_type": "markdown",
   "metadata": {},
   "source": [
    "Plots for numeric data:"
   ]
  },
  {
   "cell_type": "code",
   "execution_count": null,
   "metadata": {},
   "outputs": [],
   "source": [
    "import pandas as pd\n",
    "\n",
    "df = pd.read_csv('mission1_data.csv')\n",
    "colname = 'height'\n",
    "df.plot.hist(column=[colname])\n",
    "\n",
    "colname = 'death_year'\n",
    "df.plot.hist(column=[colname],by='birth_era')"
   ]
  },
  {
   "cell_type": "code",
   "execution_count": null,
   "metadata": {},
   "outputs": [],
   "source": [
    "import pandas as pd\n",
    "\n",
    "df = pd.read_csv('mission1_data.csv')\n",
    "\n",
    "colname = 'sex'\n",
    "#print(df.groupby([colname]).count())\n",
    "df.groupby([colname]).count().plot(kind='pie', y='name').legend(bbox_to_anchor=(1.5, 1))\n",
    "\n",
    "colname = 'species'\n",
    "df.groupby([colname]).count().plot(kind='pie', y='name').legend(bbox_to_anchor=(1.5, 1))\n",
    "\n",
    "df.groupby([colname]).mean(numeric_only=True).plot(kind='pie', y='mass').legend(bbox_to_anchor=(1.5, 1))\n",
    "#df.groupby([colname]).value_counts().plot(kind='pie')"
   ]
  }
 ],
 "metadata": {
  "kernelspec": {
   "display_name": "Python 3",
   "language": "python",
   "name": "python3"
  },
  "language_info": {
   "codemirror_mode": {
    "name": "ipython",
    "version": 3
   },
   "file_extension": ".py",
   "mimetype": "text/x-python",
   "name": "python",
   "nbconvert_exporter": "python",
   "pygments_lexer": "ipython3",
   "version": "3.12.4"
  }
 },
 "nbformat": 4,
 "nbformat_minor": 2
}
