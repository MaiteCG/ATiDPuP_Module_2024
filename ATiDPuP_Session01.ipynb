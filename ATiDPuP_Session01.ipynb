{
 "cells": [
  {
   "cell_type": "markdown",
   "metadata": {},
   "source": [
    "# <b>CaRM Module: Advanced Topics in Data Preparation Using Python (2024/2025)</b>\n",
    "## <b>Session 1: Introduction to Pandas and DataFrames.</b>\n",
    "\n",
    "### <b>1.1 Introduction to other data structures such as dictionaries, series and dataframes.</b>\n",
    "\n"
   ]
  },
  {
   "cell_type": "markdown",
   "metadata": {},
   "source": [
    "#### <b>Dictionaries</b>"
   ]
  },
  {
   "cell_type": "markdown",
   "metadata": {},
   "source": [
    "A Python <b>Dictionary</b> is another data structure, which can store a collection of objects. However, a particular characteristic of dictionaries is that they store objects as key-value pairs. To create a dictionary, enclose a comma-separated list of key:value pairs in curly braces. Note there is a colon (:) between each key and its associated value. For example:"
   ]
  },
  {
   "cell_type": "code",
   "execution_count": 8,
   "metadata": {},
   "outputs": [
    {
     "name": "stdout",
     "output_type": "stream",
     "text": [
      "{'fruits': ['apple', 'pear', 'orange'], 'animals': ['dog', 'cat', 'cow'], 'tools': ['hammer', 'drill', 'saw']}\n"
     ]
    }
   ],
   "source": [
    "myDict = {'fruits': ['apple', 'pear', 'orange'], 'animals': ['dog', 'cat', 'cow'], 'tools': ['hammer', 'drill', 'saw']}\n",
    "print(myDict)"
   ]
  },
  {
   "cell_type": "markdown",
   "metadata": {},
   "source": [
    "A dictionary can contain values of any datatype. The keys can be integers (not just strings), but should be unique:"
   ]
  },
  {
   "cell_type": "code",
   "execution_count": 13,
   "metadata": {},
   "outputs": [
    {
     "name": "stdout",
     "output_type": "stream",
     "text": [
      "{1: ['apple', 'pear', 'orange'], 'numbers': [1, 2, 3, 4], 'tools': ['hammer', 'drill', 'saw']}\n"
     ]
    }
   ],
   "source": [
    "myDict = {1: ['apple', 'pear', 'orange'], 'numbers': [1,2,3,4], 'tools': ['hammer', 'drill', 'saw']}\n",
    "print(myDict)"
   ]
  },
  {
   "cell_type": "markdown",
   "metadata": {},
   "source": [
    "The following code creates a dictionary with only two key-value pairs because the third key is repeated. Values with a duplicate key will overwrite existing values. Try it:"
   ]
  },
  {
   "cell_type": "code",
   "execution_count": 14,
   "metadata": {},
   "outputs": [
    {
     "name": "stdout",
     "output_type": "stream",
     "text": [
      "{1: ['hammer', 'drill', 'saw'], 'numbers': [1, 2, 3, 4]}\n"
     ]
    }
   ],
   "source": [
    "myDict = {1: ['apple', 'pear', 'orange'], 'numbers': [1,2,3,4], 1: ['hammer', 'drill', 'saw']}\n",
    "print(myDict)"
   ]
  },
  {
   "cell_type": "markdown",
   "metadata": {},
   "source": [
    "There are different ways to access the values in a dictionary. The simplest way is to use its key name, inside square brackets:"
   ]
  },
  {
   "cell_type": "code",
   "execution_count": 16,
   "metadata": {},
   "outputs": [
    {
     "name": "stdout",
     "output_type": "stream",
     "text": [
      "['hammer', 'drill', 'saw']\n",
      "[1, 2, 3, 4]\n"
     ]
    }
   ],
   "source": [
    "print(myDict[1])\n",
    "print(myDict['numbers'])"
   ]
  },
  {
   "cell_type": "markdown",
   "metadata": {},
   "source": [
    "Dictionaries are very useful to store associated information, for example, to connect participants IDs with their survey files. We will take advantage of the associative feature of dictionaries later in this Module."
   ]
  },
  {
   "cell_type": "markdown",
   "metadata": {},
   "source": [
    "#### <b>DataFrames<b>"
   ]
  },
  {
   "cell_type": "markdown",
   "metadata": {},
   "source": [
    "A Pandas <b>DataFrame</b> is a two-dimensional data structure, like a table with rows and columns. It is possible to create a simple DataFrame from a dictionary."
   ]
  },
  {
   "cell_type": "code",
   "execution_count": 22,
   "metadata": {},
   "outputs": [
    {
     "name": "stdout",
     "output_type": "stream",
     "text": [
      "The dictionary below...\n",
      "{'fruits': ['apple', 'pear', 'orange'], 'animals': ['dog', 'cat', 'cow'], 'tools': ['hammer', 'drill', 'saw']}\n",
      "\n",
      "...is converted into a sort of table (the dataframe):\n",
      "   fruits animals   tools\n",
      "0   apple     dog  hammer\n",
      "1    pear     cat   drill\n",
      "2  orange     cow     saw\n"
     ]
    }
   ],
   "source": [
    "import pandas as pd # import pandas library using the alias pd\n",
    "\n",
    "# create a Python dictionary\n",
    "myDict = {'fruits': ['apple', 'pear', 'orange'], 'animals': ['dog', 'cat', 'cow'], 'tools': ['hammer', 'drill', 'saw']}\n",
    "print('The dictionary below...')\n",
    "print(myDict)\n",
    "\n",
    "# create a DataFrame object from the dictionary:\n",
    "df = pd.DataFrame(myDict)\n",
    "print('\\n...is converted into a sort of table (the dataframe):')\n",
    "print(df) "
   ]
  },
  {
   "cell_type": "markdown",
   "metadata": {},
   "source": [
    "### <b>1.2 Beginning to work on Mission 1.</b> \n",
    "### <b>1.3 Reading csv files with Pandas.</b>\n",
    "### <b>1.4 Learning how to inspect their content within the Python environment.</b>"
   ]
  }
 ],
 "metadata": {
  "kernelspec": {
   "display_name": "Python 3",
   "language": "python",
   "name": "python3"
  },
  "language_info": {
   "codemirror_mode": {
    "name": "ipython",
    "version": 3
   },
   "file_extension": ".py",
   "mimetype": "text/x-python",
   "name": "python",
   "nbconvert_exporter": "python",
   "pygments_lexer": "ipython3",
   "version": "3.12.4"
  }
 },
 "nbformat": 4,
 "nbformat_minor": 2
}
